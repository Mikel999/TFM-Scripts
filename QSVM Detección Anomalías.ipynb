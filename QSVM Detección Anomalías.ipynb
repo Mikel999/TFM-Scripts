{
 "cells": [
  {
   "cell_type": "code",
   "execution_count": 1,
   "id": "broke-military",
   "metadata": {},
   "outputs": [
    {
     "name": "stderr",
     "output_type": "stream",
     "text": [
      "/opt/conda/lib/python3.8/site-packages/qiskit/aqua/__init__.py:86: DeprecationWarning: The package qiskit.aqua is deprecated. It was moved/refactored to qiskit-terra For more information see <https://github.com/Qiskit/qiskit-aqua/blob/main/README.md#migration-guide>\n",
      "  warn_package('aqua', 'qiskit-terra')\n"
     ]
    }
   ],
   "source": [
    "%matplotlib inline\n",
    "# Importing standard Qiskit libraries\n",
    "from qiskit import *\n",
    "from qiskit import QuantumCircuit, execute, Aer, IBMQ\n",
    "from qiskit.circuit.library import ZFeatureMap, ZZFeatureMap, PauliFeatureMap\n",
    "from qiskit.compiler import transpile, assemble\n",
    "from qiskit.tools.jupyter import *\n",
    "from qiskit.visualization import *\n",
    "from qiskit.utils import QuantumInstance, algorithm_globals\n",
    "from qiskit.aqua.algorithms import QSVM\n",
    "from qiskit_machine_learning.algorithms import QSVR\n",
    "from qiskit_machine_learning.kernels import QuantumKernel\n",
    "from qiskit.aqua.utils import split_dataset_to_data_and_labels, map_label_to_class_name\n",
    "from qiskit.aqua.utils import reduce_dim_to_via_pca\n",
    "from ibm_quantum_widgets import *\n",
    "import pandas as pd\n",
    "from sklearn.model_selection import train_test_split\n",
    "from sklearn.preprocessing import StandardScaler\n",
    "from scipy.linalg import expm\n",
    "from qiskit.aqua.components.multiclass_extensions import AllPairs\n",
    "import math\n",
    "import numpy as np\n",
    "import matplotlib.pyplot as plt\n",
    "\n",
    "# Loading your IBM Q account(s)\n",
    "provider = IBMQ.load_account()\n",
    "\n",
    "seed = 1000\n",
    "algorithm_globals.random_seed = seed #"
   ]
  },
  {
   "cell_type": "code",
   "execution_count": 2,
   "id": "942a69e0",
   "metadata": {},
   "outputs": [
    {
     "name": "stdout",
     "output_type": "stream",
     "text": [
      "Collecting skfeature\n",
      "  Cloning https://github.com/jundongl/scikit-feature.git to /tmp/pip-install-xgd9l15q/skfeature_399a91f12be449e3b61af2f0f9213ee8\n",
      "  Running command git clone -q https://github.com/jundongl/scikit-feature.git /tmp/pip-install-xgd9l15q/skfeature_399a91f12be449e3b61af2f0f9213ee8\n",
      "Building wheels for collected packages: skfeature\n",
      "  Building wheel for skfeature (setup.py) ... \u001b[?25ldone\n",
      "\u001b[?25h  Created wheel for skfeature: filename=skfeature-1.0.0-py3-none-any.whl size=61508 sha256=639aaf19bd0e8b5d03f2a803d9e0dcb85d8852be472363cd10bc032285e92b92\n",
      "  Stored in directory: /tmp/pip-ephem-wheel-cache-1tor1zvk/wheels/ea/ca/0b/ea331396461510ff572967528a880848ef75cc192b2f6074eb\n",
      "Successfully built skfeature\n",
      "Installing collected packages: skfeature\n",
      "Successfully installed skfeature-1.0.0\n"
     ]
    }
   ],
   "source": [
    "#Instalar paquete scikit-feature selection\n",
    "!pip install git+https://github.com/jundongl/scikit-feature.git#egg=skfeature\n",
    "from skfeature.function.similarity_based import SPEC"
   ]
  },
  {
   "cell_type": "markdown",
   "id": "82577d3d",
   "metadata": {},
   "source": [
    "# Leer datos"
   ]
  },
  {
   "cell_type": "code",
   "execution_count": 61,
   "id": "planned-poster",
   "metadata": {},
   "outputs": [
    {
     "name": "stdout",
     "output_type": "stream",
     "text": [
      "            origh            resph  mehodCount  uriCount  useragentCount  \\\n",
      "0  192.168.202.79  192.168.229.251         200       200             200   \n",
      "1  192.168.202.79  192.168.229.153           1         1               1   \n",
      "2  192.168.202.79  192.168.229.101           1         1               1   \n",
      "3  192.168.202.79  192.168.229.156           1         1               1   \n",
      "4  192.168.202.76   192.168.28.102           4         4               4   \n",
      "\n",
      "  requestbodylen_Mean responsebodylenMean   Ano  Mes  dia  diasemana  hora  \\\n",
      "0            0.000000         155.935.000  2012    3   16          6    12   \n",
      "1            0.000000         326.000.000  2012    3   16          6    12   \n",
      "2            0.000000         238.000.000  2012    3   16          6    12   \n",
      "3            0.000000         287.000.000  2012    3   16          6    12   \n",
      "4            0.000000         169.000.000  2012    3   16          6    12   \n",
      "\n",
      "   minuto  RecordCount  \n",
      "0      30          200  \n",
      "1      30            1  \n",
      "2      30            1  \n",
      "3      30            1  \n",
      "4      42            4  \n"
     ]
    }
   ],
   "source": [
    "#Leer fichero de datos\n",
    "data = pd.read_csv('ETL_Jerarquia_0_v1.csv', sep=';') #leer csv\n",
    "#Guardar nombres de las columnas\n",
    "colNames = data.columns\n",
    "#Crear una copia del dataframe original\n",
    "OriginalData=data.copy()\n",
    "#Printear los primeros 5 casos\n",
    "print(data.head(n=5))"
   ]
  },
  {
   "cell_type": "markdown",
   "id": "603140a3",
   "metadata": {},
   "source": [
    "# Preproceso de datos"
   ]
  },
  {
   "cell_type": "code",
   "execution_count": 62,
   "id": "transparent-incentive",
   "metadata": {},
   "outputs": [
    {
     "name": "stdout",
     "output_type": "stream",
     "text": [
      "0    192.168.202.79\n",
      "1    192.168.202.79\n",
      "2    192.168.202.79\n",
      "3    192.168.202.79\n",
      "Name: origh, dtype: object\n",
      "Valor despues de preprocesar puntos: 19216820279\n"
     ]
    }
   ],
   "source": [
    "#Preprocesar columnas 0-1 (IPs) y 5-6 (valores con millares representados con puntos) \n",
    "#Quitar puntos de las columnas\n",
    "#Columna de IPs\n",
    "print(data.iloc[:,0].head(n=4))\n",
    "for i in np.array([0,1,5,6]):\n",
    "    data.iloc[:,i] = data.iloc[:,i].apply(lambda x: x.replace('.',''))\n",
    "\n",
    "print(\"Valor despues de preprocesar puntos: {}\".format(data.iloc[0,0]))"
   ]
  },
  {
   "cell_type": "markdown",
   "id": "8d42857b",
   "metadata": {},
   "source": [
    "## Eliminar filas que contienen IPv6"
   ]
  },
  {
   "cell_type": "code",
   "execution_count": 63,
   "id": "caroline-moore",
   "metadata": {},
   "outputs": [
    {
     "name": "stdout",
     "output_type": "stream",
     "text": [
      "origh                  object\n",
      "resph                  object\n",
      "mehodCount              int64\n",
      "uriCount                int64\n",
      "useragentCount          int64\n",
      "requestbodylen_Mean    object\n",
      "responsebodylenMean    object\n",
      "Ano                     int64\n",
      "Mes                     int64\n",
      "dia                     int64\n",
      "diasemana               int64\n",
      "hora                    int64\n",
      "minuto                  int64\n",
      "RecordCount             int64\n",
      "dtype: object\n"
     ]
    }
   ],
   "source": [
    "#Eliminar filas con IPv6, no se pueden representar como numeros para el qPCA\n",
    "#Todos los IPv6s comienzan con 2001:dbb, comprobar si hay : entre las posiciones 3 y 5 del string\n",
    "#para saber si es IPv6\n",
    "indicesFilas=[]\n",
    "for i in range (0,len(data)):\n",
    "    if (data.iloc[i,0].find(':',3,5)!=-1):\n",
    "        indicesFilas.append(i)\n",
    "\n",
    "#Eliminar las filas con IPs detectadas como IPv6\n",
    "data=data.drop(indicesFilas)\n",
    "\n",
    "#Printear tipos de columnas\n",
    "print(data.dtypes)\n",
    "#Poner las columnas preprocesadas en tipo integer ()\n",
    "data=data.astype('int64') "
   ]
  },
  {
   "cell_type": "markdown",
   "id": "7893f091",
   "metadata": {},
   "source": [
    "## Estandarizar datos"
   ]
  },
  {
   "cell_type": "code",
   "execution_count": 64,
   "id": "faced-sheffield",
   "metadata": {},
   "outputs": [
    {
     "name": "stdout",
     "output_type": "stream",
     "text": [
      "      origh     resph  mehodCount  uriCount  useragentCount  \\\n",
      "0 -1.037148  2.356561   -0.041078 -0.041078       -0.041078   \n",
      "1 -1.037148  2.356561   -0.121386 -0.121386       -0.121386   \n",
      "2 -1.037148  2.356561   -0.121386 -0.121386       -0.121386   \n",
      "\n",
      "   requestbodylen_Mean  responsebodylenMean  Ano  Mes       dia  diasemana  \\\n",
      "0             -0.07588            -0.022519  0.0  0.0 -0.610326  -0.610326   \n",
      "1             -0.07588            -0.022203  0.0  0.0 -0.610326  -0.610326   \n",
      "2             -0.07588            -0.022367  0.0  0.0 -0.610326  -0.610326   \n",
      "\n",
      "       hora    minuto  RecordCount  \n",
      "0 -1.843207  0.055657    -0.041078  \n",
      "1 -1.843207  0.055657    -0.121386  \n",
      "2 -1.843207  0.055657    -0.121386  \n"
     ]
    }
   ],
   "source": [
    "#Estandarizar datos \n",
    "data=StandardScaler().fit_transform(data)\n",
    "#Pasar datos a dataframe \n",
    "data=pd.DataFrame(data)\n",
    "#Reasignar los nombres a las columnas\n",
    "data.columns = colNames\n",
    "print(data.head(n=3))"
   ]
  },
  {
   "cell_type": "markdown",
   "id": "a3fdd372",
   "metadata": {},
   "source": [
    "# Feature Selection (Spectral)"
   ]
  },
  {
   "cell_type": "code",
   "execution_count": 85,
   "id": "46ab1730",
   "metadata": {},
   "outputs": [
    {
     "name": "stdout",
     "output_type": "stream",
     "text": [
      "[    0.     0.     0.     0.     0.     0.     0. -1000. -1000.     0.\n",
      "     0.     0.     0.     0.]\n"
     ]
    }
   ],
   "source": [
    "kwargs = {'style': 1}\n",
    "feats=SPEC.spec(data.to_numpy(), **kwargs)\n",
    "print(feats)"
   ]
  },
  {
   "cell_type": "code",
   "execution_count": 86,
   "id": "7f1f6882",
   "metadata": {},
   "outputs": [
    {
     "name": "stdout",
     "output_type": "stream",
     "text": [
      "Variables seleccionadas: \n",
      " Index(['RecordCount', 'minuto', 'hora', 'diasemana'], dtype='object')\n"
     ]
    }
   ],
   "source": [
    "#Indices de mayor a menor de los valores de ranking del SPEC feature selection\n",
    "index = feats.argsort()[::-1]\n",
    "fsData=data.iloc[:,index[0:4]]\n",
    "\n",
    "print(\"Variables seleccionadas: \\n\", fsData.columns)"
   ]
  },
  {
   "cell_type": "markdown",
   "id": "fa244011",
   "metadata": {},
   "source": [
    "# Feature selection correlation"
   ]
  },
  {
   "cell_type": "code",
   "execution_count": 6,
   "id": "0e5875e8",
   "metadata": {},
   "outputs": [
    {
     "name": "stdout",
     "output_type": "stream",
     "text": [
      "Variables con mayor correlacion: \n",
      " minuto               Mes                    0.000087\n",
      "                     responsebodylenMean    0.000088\n",
      "                     diasemana              0.000806\n",
      "                     resph                  0.008235\n",
      "                     dia                    0.011752\n",
      "                     origh                  0.016445\n",
      "requestbodylen_Mean  minuto                 0.018118\n",
      "hora                 minuto                 0.022910\n",
      "minuto               uriCount               0.023581\n",
      "RecordCount          Mes                    0.024585\n",
      "responsebodylenMean  RecordCount            0.024920\n",
      "minuto               useragentCount         0.025676\n",
      "                     mehodCount             0.025702\n",
      "                     Ano                    0.033499\n",
      "origh                responsebodylenMean    0.044278\n",
      "resph                origh                  0.045377\n",
      "diasemana            RecordCount            0.048412\n",
      "responsebodylenMean  resph                  0.064703\n",
      "hora                 RecordCount            0.078327\n",
      "requestbodylen_Mean  responsebodylenMean    0.086206\n",
      "mehodCount           resph                  0.087429\n",
      "uriCount             hora                   0.094410\n",
      "hora                 responsebodylenMean    0.097563\n",
      "Mes                  hora                   0.097604\n",
      "mehodCount           hora                   0.099068\n",
      "useragentCount       hora                   0.099116\n",
      "minuto               RecordCount            0.102202\n",
      "mehodCount           responsebodylenMean    0.103311\n",
      "useragentCount       responsebodylenMean    0.103399\n",
      "uriCount             responsebodylenMean    0.106784\n",
      "RecordCount          dia                    0.113208\n",
      "hora                 Ano                    0.120106\n",
      "                     resph                  0.121478\n",
      "diasemana            hora                   0.122347\n",
      "requestbodylen_Mean  RecordCount            0.137622\n",
      "origh                RecordCount            0.141199\n",
      "dia                  hora                   0.150198\n",
      "origh                hora                   0.202723\n",
      "Ano                  RecordCount            0.204725\n",
      "diasemana            dia                    0.208913\n",
      "hora                 requestbodylen_Mean    0.210712\n",
      "uriCount             requestbodylen_Mean    0.352918\n",
      "mehodCount           requestbodylen_Mean    0.357488\n",
      "requestbodylen_Mean  useragentCount         0.357490\n",
      "origh                requestbodylen_Mean    0.395333\n",
      "                     diasemana              0.515335\n",
      "resph                requestbodylen_Mean    0.545767\n",
      "requestbodylen_Mean  dia                    0.563967\n",
      "dia                  Mes                    0.599963\n",
      "responsebodylenMean  dia                    0.600090\n",
      "diasemana            mehodCount             0.603917\n",
      "useragentCount       diasemana              0.603926\n",
      "uriCount             diasemana              0.605444\n",
      "dia                  Ano                    0.628226\n",
      "resph                diasemana              0.670427\n",
      "RecordCount          useragentCount         0.809798\n",
      "minuto               minuto                 1.000000\n",
      "dtype: float64\n"
     ]
    }
   ],
   "source": [
    "#Correlaciones entre variables ordenadas de mayor a menor eliminando los pares centrales\n",
    "correlations=data.corr(method='kendall').abs().unstack().sort_values(ascending=True).drop_duplicates().dropna()\n",
    "print(\"Variables con mayor correlacion: \\n\",correlations)"
   ]
  },
  {
   "cell_type": "code",
   "execution_count": 7,
   "id": "8afb4fd5",
   "metadata": {},
   "outputs": [
    {
     "name": "stdout",
     "output_type": "stream",
     "text": [
      "Variables seleccionadas: \n",
      " Index(['minuto', 'Mes', 'responsebodylenMean', 'diasemana'], dtype='object')\n"
     ]
    }
   ],
   "source": [
    "#Obtener los nombres de los dos pares de variables menos correladas\n",
    "feats=list(correlations.index[0]+(correlations.index[1][1],)+(correlations.index[2][1],))#original low\n",
    "#feats=list((correlations.index[1][1],)+(correlations.index[2][1],))#matriz 2x2\n",
    "#feats=list((correlations.index[55][0],)+(correlations.index[54][0],))#+(correlations.index[53][0],)+(correlations.index[52][0],))\n",
    "#Escoger las variables de la base de datos original\n",
    "fsData=data[feats]\n",
    "print(\"Variables seleccionadas: \\n\", fsData.columns)"
   ]
  },
  {
   "cell_type": "markdown",
   "id": "2488eed4",
   "metadata": {},
   "source": [
    "# PCA"
   ]
  },
  {
   "cell_type": "code",
   "execution_count": 89,
   "id": "b9d66e24",
   "metadata": {
    "scrolled": true
   },
   "outputs": [
    {
     "name": "stdout",
     "output_type": "stream",
     "text": [
      "[[ 1.00014736e+00 -9.30564056e-02 -6.76666325e-02 -6.76666325e-02\n",
      "  -6.76666325e-02  5.50894070e-02 -1.56498675e-02  0.00000000e+00\n",
      "   0.00000000e+00  9.92607291e-02  9.92607291e-02 -2.17420980e-01\n",
      "  -1.48911657e-03 -6.76666325e-02]\n",
      " [-9.30564056e-02  1.00014736e+00  1.72282504e-01  1.72282504e-01\n",
      "   1.72282504e-01 -2.85020986e-02 -7.15346019e-03  0.00000000e+00\n",
      "   0.00000000e+00 -2.02637490e-01 -2.02637490e-01  1.92960676e-01\n",
      "   3.40253173e-02  1.72282504e-01]\n",
      " [-6.76666325e-02  1.72282504e-01  1.00014736e+00  1.00014736e+00\n",
      "   1.00014736e+00 -8.99527764e-03 -2.52560394e-03  0.00000000e+00\n",
      "   0.00000000e+00 -6.20956013e-02 -6.20956013e-02  3.73754895e-02\n",
      "   1.99068762e-02  1.00014736e+00]\n",
      " [-6.76666325e-02  1.72282504e-01  1.00014736e+00  1.00014736e+00\n",
      "   1.00014736e+00 -8.99527764e-03 -2.52560394e-03  0.00000000e+00\n",
      "   0.00000000e+00 -6.20956013e-02 -6.20956013e-02  3.73754895e-02\n",
      "   1.99068762e-02  1.00014736e+00]\n",
      " [-6.76666325e-02  1.72282504e-01  1.00014736e+00  1.00014736e+00\n",
      "   1.00014736e+00 -8.99527764e-03 -2.52560394e-03  0.00000000e+00\n",
      "   0.00000000e+00 -6.20956013e-02 -6.20956013e-02  3.73754895e-02\n",
      "   1.99068762e-02  1.00014736e+00]\n",
      " [ 5.50894070e-02 -2.85020986e-02 -8.99527764e-03 -8.99527764e-03\n",
      "  -8.99527764e-03  1.00014736e+00 -9.85329613e-04  0.00000000e+00\n",
      "   0.00000000e+00  1.54016183e-02  1.54016183e-02 -2.59014111e-02\n",
      "  -1.54128027e-02 -8.99527764e-03]\n",
      " [-1.56498675e-02 -7.15346019e-03 -2.52560394e-03 -2.52560394e-03\n",
      "  -2.52560394e-03 -9.85329613e-04  1.00014736e+00  0.00000000e+00\n",
      "   0.00000000e+00 -7.82766359e-03 -7.82766359e-03  3.15406968e-02\n",
      "  -1.99665770e-02 -2.52560394e-03]\n",
      " [ 0.00000000e+00  0.00000000e+00  0.00000000e+00  0.00000000e+00\n",
      "   0.00000000e+00  0.00000000e+00  0.00000000e+00  0.00000000e+00\n",
      "   0.00000000e+00  0.00000000e+00  0.00000000e+00  0.00000000e+00\n",
      "   0.00000000e+00  0.00000000e+00]\n",
      " [ 0.00000000e+00  0.00000000e+00  0.00000000e+00  0.00000000e+00\n",
      "   0.00000000e+00  0.00000000e+00  0.00000000e+00  0.00000000e+00\n",
      "   0.00000000e+00  0.00000000e+00  0.00000000e+00  0.00000000e+00\n",
      "   0.00000000e+00  0.00000000e+00]\n",
      " [ 9.92607291e-02 -2.02637490e-01 -6.20956013e-02 -6.20956013e-02\n",
      "  -6.20956013e-02  1.54016183e-02 -7.82766359e-03  0.00000000e+00\n",
      "   0.00000000e+00  1.00014736e+00  1.00014736e+00 -5.36157289e-02\n",
      "   2.58415800e-02 -6.20956013e-02]\n",
      " [ 9.92607291e-02 -2.02637490e-01 -6.20956013e-02 -6.20956013e-02\n",
      "  -6.20956013e-02  1.54016183e-02 -7.82766359e-03  0.00000000e+00\n",
      "   0.00000000e+00  1.00014736e+00  1.00014736e+00 -5.36157289e-02\n",
      "   2.58415800e-02 -6.20956013e-02]\n",
      " [-2.17420980e-01  1.92960676e-01  3.73754895e-02  3.73754895e-02\n",
      "   3.73754895e-02 -2.59014111e-02  3.15406968e-02  0.00000000e+00\n",
      "   0.00000000e+00 -5.36157289e-02 -5.36157289e-02  1.00014736e+00\n",
      "  -1.61358791e-02  3.73754895e-02]\n",
      " [-1.48911657e-03  3.40253173e-02  1.99068762e-02  1.99068762e-02\n",
      "   1.99068762e-02 -1.54128027e-02 -1.99665770e-02  0.00000000e+00\n",
      "   0.00000000e+00  2.58415800e-02  2.58415800e-02 -1.61358791e-02\n",
      "   1.00014736e+00  1.99068762e-02]\n",
      " [-6.76666325e-02  1.72282504e-01  1.00014736e+00  1.00014736e+00\n",
      "   1.00014736e+00 -8.99527764e-03 -2.52560394e-03  0.00000000e+00\n",
      "   0.00000000e+00 -6.20956013e-02 -6.20956013e-02  3.73754895e-02\n",
      "   1.99068762e-02  1.00014736e+00]]\n",
      "Eigenvalores: \n",
      " [ 4.07410801e+00  2.08178677e+00  1.24833926e+00  1.03163089e+00\n",
      "  9.89822986e-01  9.76165310e-01  8.78217528e-01  7.21697584e-01\n",
      "  0.00000000e+00  0.00000000e+00 -4.02266621e-19 -6.11109530e-18\n",
      " -6.11109530e-18 -1.49501408e-16]\n",
      "Eigenvectores: \n",
      " [[ 5.47832477e-02+0.00000000e+00j -1.52364533e-01+0.00000000e+00j\n",
      "  -5.58026063e-01+0.00000000e+00j  4.31772315e-02+0.00000000e+00j\n",
      "   5.21521810e-03+0.00000000e+00j  9.84957029e-02+0.00000000e+00j\n",
      "   6.67640222e-01+0.00000000e+00j  4.52829346e-01+0.00000000e+00j\n",
      "   0.00000000e+00+0.00000000e+00j  0.00000000e+00+0.00000000e+00j\n",
      "   1.10778724e-18+0.00000000e+00j  1.64145486e-17+6.01046796e-18j\n",
      "   1.64145486e-17-6.01046796e-18j -9.56316530e-17+0.00000000e+00j]\n",
      " [-1.24443813e-01+0.00000000e+00j  2.38773711e-01+0.00000000e+00j\n",
      "   3.26865635e-01+0.00000000e+00j  1.60181816e-01+0.00000000e+00j\n",
      "  -1.93403354e-01+0.00000000e+00j  1.10290836e-01+0.00000000e+00j\n",
      "   6.76572089e-01+0.00000000e+00j -5.36360678e-01+0.00000000e+00j\n",
      "   0.00000000e+00+0.00000000e+00j  0.00000000e+00+0.00000000e+00j\n",
      "   1.03225627e-16+0.00000000e+00j -1.64751128e-16+3.70738911e-17j\n",
      "  -1.64751128e-16-3.70738911e-17j -1.96863211e-17+0.00000000e+00j]\n",
      " [-4.92105676e-01+0.00000000e+00j -7.20942117e-02+0.00000000e+00j\n",
      "  -3.50014458e-02+0.00000000e+00j -1.32812995e-02+0.00000000e+00j\n",
      "   9.99942797e-03+0.00000000e+00j -7.15005470e-03+0.00000000e+00j\n",
      "  -2.07830025e-02+0.00000000e+00j  2.54929278e-02+0.00000000e+00j\n",
      "   0.00000000e+00+0.00000000e+00j  0.00000000e+00+0.00000000e+00j\n",
      "  -2.46768277e-01+0.00000000e+00j  6.04313828e-01+0.00000000e+00j\n",
      "   6.04313828e-01-0.00000000e+00j -2.17589540e-01+0.00000000e+00j]\n",
      " [-4.92105676e-01+0.00000000e+00j -7.20942117e-02+0.00000000e+00j\n",
      "  -3.50014458e-02+0.00000000e+00j -1.32812995e-02+0.00000000e+00j\n",
      "   9.99942797e-03+0.00000000e+00j -7.15005470e-03+0.00000000e+00j\n",
      "  -2.07830025e-02+0.00000000e+00j  2.54929278e-02+0.00000000e+00j\n",
      "   0.00000000e+00+0.00000000e+00j  0.00000000e+00+0.00000000e+00j\n",
      "  -2.21408060e-01+0.00000000e+00j  1.38050719e-01+4.64320810e-01j\n",
      "   1.38050719e-01-4.64320810e-01j  2.07773729e-01+0.00000000e+00j]\n",
      " [-4.92105676e-01+0.00000000e+00j -7.20942117e-02+0.00000000e+00j\n",
      "  -3.50014458e-02+0.00000000e+00j -1.32812995e-02+0.00000000e+00j\n",
      "   9.99942797e-03+0.00000000e+00j -7.15005470e-03+0.00000000e+00j\n",
      "  -2.07830025e-02+0.00000000e+00j  2.54929278e-02+0.00000000e+00j\n",
      "   0.00000000e+00+0.00000000e+00j  0.00000000e+00+0.00000000e+00j\n",
      "  -3.85009780e-01+0.00000000e+00j -3.87684522e-01-2.31840807e-01j\n",
      "  -3.87684522e-01+2.31840807e-01j  6.62300657e-03+0.00000000e+00j]\n",
      " [ 9.02917789e-03+0.00000000e+00j -3.32415578e-02+0.00000000e+00j\n",
      "  -2.03698661e-01+0.00000000e+00j -3.05793157e-01+0.00000000e+00j\n",
      "  -8.39055177e-01+0.00000000e+00j  3.59572577e-01+0.00000000e+00j\n",
      "  -1.63324962e-01+0.00000000e+00j -6.18854015e-02+0.00000000e+00j\n",
      "   0.00000000e+00+0.00000000e+00j  0.00000000e+00+0.00000000e+00j\n",
      "  -8.51955274e-18+0.00000000e+00j  2.33027333e-17-1.01020542e-17j\n",
      "   2.33027333e-17+1.01020542e-17j -1.80726242e-17+0.00000000e+00j]\n",
      " [ 9.35685566e-04+0.00000000e+00j  1.53119220e-02+0.00000000e+00j\n",
      "   9.66430985e-02+0.00000000e+00j -5.95994974e-01+0.00000000e+00j\n",
      "   4.60755927e-01+0.00000000e+00j  6.43900719e-01+0.00000000e+00j\n",
      "   6.64643542e-02+0.00000000e+00j -6.23947150e-02+0.00000000e+00j\n",
      "   0.00000000e+00+0.00000000e+00j  0.00000000e+00+0.00000000e+00j\n",
      "   1.69358539e-17+0.00000000e+00j -2.50464041e-17-1.10813948e-17j\n",
      "  -2.50464041e-17+1.10813948e-17j  1.14873779e-17+0.00000000e+00j]\n",
      " [ 0.00000000e+00+0.00000000e+00j  0.00000000e+00+0.00000000e+00j\n",
      "   0.00000000e+00+0.00000000e+00j  0.00000000e+00+0.00000000e+00j\n",
      "   0.00000000e+00+0.00000000e+00j  0.00000000e+00+0.00000000e+00j\n",
      "   0.00000000e+00+0.00000000e+00j  0.00000000e+00+0.00000000e+00j\n",
      "   0.00000000e+00+0.00000000e+00j  1.00000000e+00+0.00000000e+00j\n",
      "   0.00000000e+00+0.00000000e+00j  0.00000000e+00+0.00000000e+00j\n",
      "   0.00000000e+00-0.00000000e+00j  0.00000000e+00+0.00000000e+00j]\n",
      " [ 0.00000000e+00+0.00000000e+00j  0.00000000e+00+0.00000000e+00j\n",
      "   0.00000000e+00+0.00000000e+00j  0.00000000e+00+0.00000000e+00j\n",
      "   0.00000000e+00+0.00000000e+00j  0.00000000e+00+0.00000000e+00j\n",
      "   0.00000000e+00+0.00000000e+00j  0.00000000e+00+0.00000000e+00j\n",
      "   1.00000000e+00+0.00000000e+00j  0.00000000e+00+0.00000000e+00j\n",
      "   0.00000000e+00+0.00000000e+00j  0.00000000e+00+0.00000000e+00j\n",
      "   0.00000000e+00-0.00000000e+00j  0.00000000e+00+0.00000000e+00j]\n",
      " [ 7.46146451e-02+0.00000000e+00j -6.63172062e-01+0.00000000e+00j\n",
      "   2.01441208e-01+0.00000000e+00j  1.25601761e-03+0.00000000e+00j\n",
      "  -3.24173545e-02+0.00000000e+00j -6.19049272e-03+0.00000000e+00j\n",
      "   7.18836148e-02+0.00000000e+00j -8.83112238e-02+0.00000000e+00j\n",
      "   0.00000000e+00+0.00000000e+00j  0.00000000e+00+0.00000000e+00j\n",
      "   8.34410223e-02+0.00000000e+00j -7.08181248e-02+5.58043372e-02j\n",
      "  -7.08181248e-02-5.58043372e-02j -6.74325890e-01+0.00000000e+00j]\n",
      " [ 7.46146451e-02+0.00000000e+00j -6.63172062e-01+0.00000000e+00j\n",
      "   2.01441208e-01+0.00000000e+00j  1.25601761e-03+0.00000000e+00j\n",
      "  -3.24173545e-02+0.00000000e+00j -6.19049272e-03+0.00000000e+00j\n",
      "   7.18836148e-02+0.00000000e+00j -8.83112238e-02+0.00000000e+00j\n",
      "   0.00000000e+00+0.00000000e+00j  0.00000000e+00+0.00000000e+00j\n",
      "  -8.34410223e-02+0.00000000e+00j  7.08181248e-02-5.58043372e-02j\n",
      "   7.08181248e-02+5.58043372e-02j  6.74325890e-01+0.00000000e+00j]\n",
      " [-3.82224316e-02+0.00000000e+00j  1.30709516e-01+0.00000000e+00j\n",
      "   6.65760837e-01+0.00000000e+00j -9.66199048e-02+0.00000000e+00j\n",
      "  -2.05067942e-01+0.00000000e+00j  7.15650888e-03+0.00000000e+00j\n",
      "   1.31481137e-01+0.00000000e+00j  6.85193260e-01+0.00000000e+00j\n",
      "   0.00000000e+00+0.00000000e+00j  0.00000000e+00+0.00000000e+00j\n",
      "   4.55571826e-17+0.00000000e+00j  5.47961648e-17-1.25305567e-17j\n",
      "   5.47961648e-17+1.25305567e-17j -5.47917990e-16+0.00000000e+00j]\n",
      " [-1.27476388e-02+0.00000000e+00j -3.10332296e-02+0.00000000e+00j\n",
      "   4.04687359e-02+0.00000000e+00j  7.16738387e-01+0.00000000e+00j\n",
      "   4.12764520e-02+0.00000000e+00j  6.58712077e-01+0.00000000e+00j\n",
      "  -1.89906973e-01+0.00000000e+00j  1.08870556e-01+0.00000000e+00j\n",
      "   0.00000000e+00+0.00000000e+00j  0.00000000e+00+0.00000000e+00j\n",
      "  -4.59643197e-18+0.00000000e+00j  1.01044023e-17-1.29265215e-17j\n",
      "   1.01044023e-17+1.29265215e-17j -4.67849138e-17+0.00000000e+00j]\n",
      " [-4.92105676e-01+0.00000000e+00j -7.20942117e-02+0.00000000e+00j\n",
      "  -3.50014458e-02+0.00000000e+00j -1.32812995e-02+0.00000000e+00j\n",
      "   9.99942797e-03+0.00000000e+00j -7.15005470e-03+0.00000000e+00j\n",
      "  -2.07830025e-02+0.00000000e+00j  2.54929278e-02+0.00000000e+00j\n",
      "   0.00000000e+00+0.00000000e+00j  0.00000000e+00+0.00000000e+00j\n",
      "   8.53186117e-01+0.00000000e+00j -3.54680025e-01-2.32480003e-01j\n",
      "  -3.54680025e-01+2.32480003e-01j  3.19280436e-03+0.00000000e+00j]]\n",
      "Porcentaje varianza explicada: \n",
      " [ 3.39458978e+01  1.73456670e+01  1.04012944e+01  8.59565744e+00\n",
      "  8.24730954e+00  8.13351235e+00  7.31740109e+00  6.01326041e+00\n",
      "  0.00000000e+00  0.00000000e+00 -3.35172792e-18 -5.09182907e-17\n",
      " -5.09182907e-17 -1.24566150e-15]\n",
      "Porcentaje varianza acumulada: \n",
      " [ 33.94589777  51.29156479  61.69285917  70.28851661  78.53582615\n",
      "  86.6693385   93.98673959 100.         100.         100.\n",
      " 100.         100.         100.         100.        ]\n"
     ]
    }
   ],
   "source": [
    "#Matriz de covarianza de los datos\n",
    "cmat = np.cov(data, rowvar=False)\n",
    "#cmat = np.cov(fsData, rowvar=False)\n",
    "#print(\"Matriz de covarianza: \\n\",cmat.head(n=5)\n",
    "print(cmat)\n",
    "#Calcular eigenvalores y eigenvectores\n",
    "eigenval,eigenvec = np.linalg.eig(cmat)\n",
    "\n",
    "#Ordenar eigenvalores y eigenvectores de mayor a menor\n",
    "index = eigenval.argsort()[::-1]\n",
    "eigenval=eigenval[index]\n",
    "eigenvec=eigenvec[:,index]\n",
    "print(\"Eigenvalores: \\n\",eigenval.real)\n",
    "print(\"Eigenvectores: \\n\",eigenvec)\n",
    "\n",
    "explainedVar=eigenval/sum(eigenval)*100\n",
    "print(\"Porcentaje varianza explicada: \\n\", explainedVar.real)\n",
    "cumVar = explainedVar.cumsum()\n",
    "print(\"Porcentaje varianza acumulada: \\n\", cumVar.real)\n",
    "\n",
    "#Proyeccion en las nuevas componentes: proyeccion=X(datos)*Eigenvectors(en columnas)\n",
    "#pcaCoords=np.dot(data, eigenvec[:,0:2].real)\n",
    "#pcaCoords=np.dot(fsData, eigenvec[:,0:2].real)\n",
    "#pcaCoords=pd.DataFrame(pcaCoords)\n",
    "#Plot con pandas\n",
    "#pcaCoords.plot.scatter(x=0,y=1)\n",
    "\n",
    "#Obtener las tres primeras componentes del pca para el QSVM\n",
    "qsvmData =np.dot(data, eigenvec[:,0:8].real)\n",
    "#qsvmData =np.dot(fsData, eigenvec[:,0:3])"
   ]
  },
  {
   "cell_type": "code",
   "execution_count": 90,
   "id": "c61e54de-641e-4263-a8d6-744ab1cc8ab8",
   "metadata": {},
   "outputs": [
    {
     "name": "stdout",
     "output_type": "stream",
     "text": [
      "(6787, 8)\n"
     ]
    }
   ],
   "source": [
    "print(qsvmData.shape)"
   ]
  },
  {
   "cell_type": "code",
   "execution_count": 9,
   "id": "2acfd151-6be2-45e7-98a6-c6d9d24624eb",
   "metadata": {},
   "outputs": [
    {
     "data": {
      "image/png": "[encoded data removed]",
      "text/plain": [
       "<Figure size 720x576 with 1 Axes>"
      ]
     },
     "metadata": {},
     "output_type": "display_data"
    }
   ],
   "source": [
    "import seaborn as sns\n",
    "with plt.style.context('seaborn-whitegrid'):\n",
    "    plt.figure(figsize=(10, 8))\n",
    "\n",
    "    plt.bar(range(4), explainedVar, alpha=0.5, align='center',\n",
    "            label='Varianza explicada por componente')\n",
    "    plt.step(range(4), cumVar, where='mid',\n",
    "             label='Varianza explicada acumulada')\n",
    "    plt.title('Varianza de las componentes (Clásico)', fontsize=25)\n",
    "    plt.ylabel('Ratio de varianza explicada', fontsize=15)\n",
    "    plt.xlabel('Componentes principales', fontsize=15)\n",
    "    plt.legend(loc='best')\n",
    "    plt.savefig(\"VarianzaClasica.pdf\", \n",
    "               bbox_inches='tight')\n",
    "    plt.tight_layout()"
   ]
  },
  {
   "cell_type": "markdown",
   "id": "2cd02d18",
   "metadata": {},
   "source": [
    "# QSVRegresor"
   ]
  },
  {
   "cell_type": "code",
   "execution_count": 10,
   "id": "aa6ad1bd",
   "metadata": {},
   "outputs": [],
   "source": [
    "#Mapa de caracteristicas\n",
    "feature_map = ZZFeatureMap(feature_dimension=3, reps=2, entanglement='linear')\n",
    "#feature_map = ZZFeatureMap(feature_dimension=4, reps=4, entanglement='full')\n",
    "#feature_map = ZFeatureMap(feature_dimension=2, reps=6)\n",
    "#Instanciacion del simulador\n",
    "backend = QuantumInstance(BasicAer.get_backend('qasm_simulator'), shots=1024,\n",
    "                                seed_simulator=seed, seed_transpiler=seed)\n",
    "#Crear quantum kernel con el mapa de caracteristicas y el simulador\n",
    "kernel = QuantumKernel(feature_map=feature_map, quantum_instance=backend)\n",
    "#qsvm = QSVM(feature_map, training_input, test_input, multiclass_extension=AllPairs())\n",
    "qsvr = QSVR(quantum_kernel = kernel)"
   ]
  },
  {
   "cell_type": "code",
   "execution_count": 10,
   "id": "08c21d94-07de-4b17-b593-b57236276b8b",
   "metadata": {},
   "outputs": [
    {
     "name": "stdout",
     "output_type": "stream",
     "text": [
      "     ┌───┐                                                                \n",
      "q_0: ┤ H ├──■──────────────────────────────────────────────────────────■──\n",
      "     ├───┤┌─┴─┐                                                      ┌─┴─┐\n",
      "q_1: ┤ H ├┤ X ├──■────────────────────────────────────────────────■──┤ X ├\n",
      "     ├───┤└───┘┌─┴─┐┌──────────────────────────────────────────┐┌─┴─┐└───┘\n",
      "q_2: ┤ H ├─────┤ X ├┤ U1(2.0*(π - x[0])*(π - x[1])*(π - x[2])) ├┤ X ├─────\n",
      "     └───┘     └───┘└──────────────────────────────────────────┘└───┘     \n"
     ]
    }
   ],
   "source": [
    "feature_map = PauliFeatureMap(feature_dimension=2, reps=1, entanglement='linear', paulis=['ZZ'])\n",
    "#feature_map = ZZFeatureMap(feature_dimension=2, reps=1, entanglement='linear')\n",
    "print(feature_map)"
   ]
  },
  {
   "cell_type": "code",
   "execution_count": 35,
   "id": "35a0fbec-c2cd-4079-a7f0-7b140d3c6a61",
   "metadata": {},
   "outputs": [
    {
     "name": "stdout",
     "output_type": "stream",
     "text": [
      "     ┌───┐┌──────────────┐                                           ┌───┐»\n",
      "q_0: ┤ H ├┤ U1(2.0*x[0]) ├──■─────────────────────────────────────■──┤ H ├»\n",
      "     ├───┤├──────────────┤┌─┴─┐┌───────────────────────────────┐┌─┴─┐├───┤»\n",
      "q_1: ┤ H ├┤ U1(2.0*x[1]) ├┤ X ├┤ U1(2.0*(π - x[0])*(π - x[1])) ├┤ X ├┤ H ├»\n",
      "     └───┘└──────────────┘└───┘└───────────────────────────────┘└───┘└───┘»\n",
      "«     ┌──────────────┐                                           \n",
      "«q_0: ┤ U1(2.0*x[0]) ├──■─────────────────────────────────────■──\n",
      "«     ├──────────────┤┌─┴─┐┌───────────────────────────────┐┌─┴─┐\n",
      "«q_1: ┤ U1(2.0*x[1]) ├┤ X ├┤ U1(2.0*(π - x[0])*(π - x[1])) ├┤ X ├\n",
      "«     └──────────────┘└───┘└───────────────────────────────┘└───┘\n"
     ]
    }
   ],
   "source": [
    "feature_map = ZZFeatureMap(feature_dimension=2, reps=2, entanglement='linear')\n",
    "print(feature_map)"
   ]
  },
  {
   "cell_type": "code",
   "execution_count": 36,
   "id": "10ceb4b0-160f-47aa-a648-e69db33a41e6",
   "metadata": {},
   "outputs": [
    {
     "name": "stdout",
     "output_type": "stream",
     "text": [
      "     ┌───┐┌──────────────┐┌───┐┌──────────────┐\n",
      "q_0: ┤ H ├┤ U1(2.0*x[0]) ├┤ H ├┤ U1(2.0*x[0]) ├\n",
      "     ├───┤├──────────────┤├───┤├──────────────┤\n",
      "q_1: ┤ H ├┤ U1(2.0*x[1]) ├┤ H ├┤ U1(2.0*x[1]) ├\n",
      "     └───┘└──────────────┘└───┘└──────────────┘\n"
     ]
    }
   ],
   "source": [
    "feature_map = PauliFeatureMap(feature_dimension=2, reps=2, paulis=['Z'])\n",
    "print(feature_map)"
   ]
  },
  {
   "cell_type": "code",
   "execution_count": 33,
   "id": "96f4de8e-4dd0-4721-ad55-70fcb26c69d4",
   "metadata": {},
   "outputs": [
    {
     "name": "stdout",
     "output_type": "stream",
     "text": [
      "     ┌───┐┌──────────────┐┌───┐┌──────────────┐\n",
      "q_0: ┤ H ├┤ U1(2.0*x[0]) ├┤ H ├┤ U1(2.0*x[0]) ├\n",
      "     ├───┤├──────────────┤├───┤├──────────────┤\n",
      "q_1: ┤ H ├┤ U1(2.0*x[1]) ├┤ H ├┤ U1(2.0*x[1]) ├\n",
      "     └───┘└──────────────┘└───┘└──────────────┘\n"
     ]
    }
   ],
   "source": [
    "feature_map = ZFeatureMap(feature_dimension=2, reps=2)\n",
    "print(feature_map)"
   ]
  },
  {
   "cell_type": "markdown",
   "id": "e1d73028",
   "metadata": {},
   "source": [
    "## Prueba fit 100"
   ]
  },
  {
   "cell_type": "code",
   "execution_count": 23,
   "id": "a9ab3696",
   "metadata": {},
   "outputs": [
    {
     "data": {
      "text/plain": [
       "0.15791567951763907"
      ]
     },
     "execution_count": 23,
     "metadata": {},
     "output_type": "execute_result"
    }
   ],
   "source": [
    "#Coger 100 filas aleatorias entre la base de datos para la parte de fitting\n",
    "np.random.seed(999)\n",
    "ind=np.random.randint(0,len(qsvmData),size = 100)\n",
    "X=qsvmData[ind,1:3]#.reshape(-1,2)\n",
    "y=qsvmData[ind,0]\n",
    "try:\n",
    "    qsvr.fit(X, y)\n",
    "except Exception:\n",
    "    print(\"Runtime error\")\n",
    "\n",
    "qsvr.score(X,y)"
   ]
  },
  {
   "cell_type": "code",
   "execution_count": 11,
   "id": "f4d1c012-f652-4cdb-b1d5-388e5d83c2da",
   "metadata": {},
   "outputs": [],
   "source": [
    "from sklearn.svm import SVR\n",
    "np.random.seed(999)\n",
    "ind=np.random.randint(0,len(qsvmData),size = 4000)\n",
    "X=qsvmData[ind,1:3]#.reshape(-1,2)\n",
    "y=qsvmData[ind,0]"
   ]
  },
  {
   "cell_type": "markdown",
   "id": "959be03b-a122-422a-8268-961ea97342af",
   "metadata": {},
   "source": [
    "# Seleccion parametros kernel (gridsearch+cv)"
   ]
  },
  {
   "cell_type": "code",
   "execution_count": 34,
   "id": "61ccde23-b5d4-46f7-95c3-642d146de7a6",
   "metadata": {},
   "outputs": [],
   "source": [
    "#Coger 100 filas aleatorias entre la base de datos para la parte de fitting\n",
    "#np.random.seed(999)\n",
    "#ind=np.random.randint(0,len(qsvmData),size = 4000)\n",
    "#X=qsvmData[ind,1:3]#.reshape(-1,2)\n",
    "#y=qsvmData[ind,0]\n",
    "#import sklearn\n",
    "#from sklearn.model_selection import GridSearchCV\n",
    "#svr = SVR(kernel='rbf',C=1000)\n",
    "##svr=SVR(kernel='rbf',degree=5)\n",
    "##svr.fit(X,y)\n",
    "##svr.score(X,y)\n",
    "#scores=cross_val_score(svr,X,y,scoring='r2')\n",
    "#print(\"%0.3f precision con deviacion estandar %0.3f\" % (scores.mean(), scores.std()))"
   ]
  },
  {
   "cell_type": "code",
   "execution_count": 91,
   "id": "bad0a971-65ce-4fb1-b205-84c87eecea7a",
   "metadata": {},
   "outputs": [],
   "source": [
    "np.random.seed(999)\n",
    "#np.random.seed(111)\n",
    "#ind=np.random.randint(0,len(qsvmData),size = 75)\n",
    "#ind=np.random.randint(0,len(qsvmData),size = 120)\n",
    "ind=np.random.randint(0,len(qsvmData),size = 300)\n",
    "X=qsvmData[ind,1:9].real#.reshape(-1,2)\n",
    "y=qsvmData[ind,0].real"
   ]
  },
  {
   "cell_type": "code",
   "execution_count": 4,
   "id": "0639b8f6-ae47-4cc5-a303-891d352e33f3",
   "metadata": {},
   "outputs": [],
   "source": [
    "np.random.seed(999)\n",
    "#np.random.seed(111)\n",
    "#ind=np.random.randint(0,len(qsvmData),size = 75)\n",
    "#ind=np.random.randint(0,len(qsvmData),size = 120)\n",
    "ind=np.random.randint(0,len(qsvmData),size = 300)\n",
    "X=qsvmData[ind,1:3]#.reshape(-1,2)\n",
    "y=qsvmData[ind,0]"
   ]
  },
  {
   "cell_type": "code",
   "execution_count": null,
   "id": "45340196-80fe-4f1f-91c0-f3548a1bfbf6",
   "metadata": {},
   "outputs": [],
   "source": [
    "import sklearn#####UTILIZADO PARA LOS EIGENS QPCA\n",
    "from sklearn.svm import SVR\n",
    "from sklearn.model_selection import GridSearchCV\n",
    "params= [{'kernel': ['linear'], 'C': [1, 10, 100, 1000]},\n",
    "        {'kernel': ['poly'], 'gamma': [1e-3, 1e-4,'scale'],\n",
    "                     'degree':[2,3,4,5],\n",
    "                     'C': [1, 10, 100, 1000]},\n",
    "        {'kernel': ['rbf'], 'gamma': [1e-3, 1e-4,'scale'],\n",
    "                     'C': [1, 10, 100, 1000]},\n",
    "         {'kernel': ['sigmoid'], 'gamma': [1e-3, 1e-4,'scale'],\n",
    "                     'C': [1, 10, 100, 1000]}]\n",
    "svr = GridSearchCV(SVR(), params, scoring='r2')\n",
    "#svr=SVR(kernel='rbf',degree=5)\n",
    "svr.fit(X,y)\n",
    "#svr.score(X,y)\n",
    "print(\"Mejor conjunto de parametros encontrados:\\n\\n\")\n",
    "print(svr.best_params_)"
   ]
  },
  {
   "cell_type": "code",
   "execution_count": null,
   "id": "021453a2-d2ad-4ccf-9fd6-93322fce7a79",
   "metadata": {},
   "outputs": [],
   "source": [
    "means = svr.cv_results_['mean_test_score']\n",
    "stds = svr.cv_results_['std_test_score']\n",
    "for mean, std, params in zip(means, stds, svr.cv_results_['params']):\n",
    "        print(\"%0.3f (+/-%0.03f) for %r\"\n",
    "              % (mean, std * 2, params))"
   ]
  },
  {
   "cell_type": "code",
   "execution_count": 22,
   "id": "e69c3e57-83eb-4bb4-8723-0c4514cc0736",
   "metadata": {},
   "outputs": [
    {
     "data": {
      "text/plain": [
       "0.9974142653508857"
      ]
     },
     "execution_count": 22,
     "metadata": {},
     "output_type": "execute_result"
    }
   ],
   "source": [
    "svr.score(X,y)"
   ]
  },
  {
   "cell_type": "code",
   "execution_count": 33,
   "id": "273f632e-3537-4815-ace6-a3d76aa1800e",
   "metadata": {},
   "outputs": [
    {
     "name": "stdout",
     "output_type": "stream",
     "text": [
      "Mejor conjunto de parametros encontrados:\n",
      "\n",
      "\n",
      "{'C': 1, 'kernel': 'linear'}\n"
     ]
    }
   ],
   "source": [
    "import sklearn\n",
    "from sklearn.svm import SVR\n",
    "from sklearn.model_selection import GridSearchCV\n",
    "params= [{'kernel': ['linear'], 'C': [1, 10, 100, 1000]},\n",
    "        {'kernel': ['poly'], 'gamma': [1e-3, 1e-4,'scale'],\n",
    "                     'degree':[2,3,4,5],\n",
    "                     'C': [1, 10, 100, 1000]},\n",
    "        {'kernel': ['rbf'], 'gamma': [1e-3, 1e-4,'scale'],\n",
    "                     'C': [1, 10, 100, 1000]},\n",
    "         {'kernel': ['sigmoid'], 'gamma': [1e-3, 1e-4,'scale'],\n",
    "                     'C': [1, 10, 100, 1000]}]\n",
    "svr = GridSearchCV(SVR(), params, scoring='r2')\n",
    "#svr=SVR(kernel='rbf',degree=5)\n",
    "svr.fit(X,y)\n",
    "#svr.score(X,y)\n",
    "print(\"Mejor conjunto de parametros encontrados:\\n\\n\")\n",
    "print(svr.best_params_)"
   ]
  },
  {
   "cell_type": "code",
   "execution_count": 34,
   "id": "29c9cf67-d306-4187-9a98-d9b1246a2519",
   "metadata": {},
   "outputs": [
    {
     "name": "stdout",
     "output_type": "stream",
     "text": [
      "0.997 (+/-0.001) for {'C': 1, 'kernel': 'linear'}\n",
      "0.996 (+/-0.001) for {'C': 10, 'kernel': 'linear'}\n",
      "0.996 (+/-0.001) for {'C': 100, 'kernel': 'linear'}\n",
      "0.996 (+/-0.001) for {'C': 1000, 'kernel': 'linear'}\n",
      "-0.006 (+/-0.013) for {'C': 1, 'degree': 2, 'gamma': 0.001, 'kernel': 'poly'}\n",
      "-0.006 (+/-0.013) for {'C': 1, 'degree': 2, 'gamma': 0.0001, 'kernel': 'poly'}\n",
      "0.179 (+/-0.329) for {'C': 1, 'degree': 2, 'gamma': 'scale', 'kernel': 'poly'}\n",
      "-0.006 (+/-0.013) for {'C': 1, 'degree': 3, 'gamma': 0.001, 'kernel': 'poly'}\n",
      "-0.006 (+/-0.013) for {'C': 1, 'degree': 3, 'gamma': 0.0001, 'kernel': 'poly'}\n",
      "0.922 (+/-0.027) for {'C': 1, 'degree': 3, 'gamma': 'scale', 'kernel': 'poly'}\n",
      "-0.006 (+/-0.013) for {'C': 1, 'degree': 4, 'gamma': 0.001, 'kernel': 'poly'}\n",
      "-0.006 (+/-0.013) for {'C': 1, 'degree': 4, 'gamma': 0.0001, 'kernel': 'poly'}\n",
      "0.727 (+/-0.218) for {'C': 1, 'degree': 4, 'gamma': 'scale', 'kernel': 'poly'}\n",
      "-0.006 (+/-0.013) for {'C': 1, 'degree': 5, 'gamma': 0.001, 'kernel': 'poly'}\n",
      "-0.006 (+/-0.013) for {'C': 1, 'degree': 5, 'gamma': 0.0001, 'kernel': 'poly'}\n",
      "0.848 (+/-0.041) for {'C': 1, 'degree': 5, 'gamma': 'scale', 'kernel': 'poly'}\n",
      "-0.005 (+/-0.013) for {'C': 10, 'degree': 2, 'gamma': 0.001, 'kernel': 'poly'}\n",
      "-0.006 (+/-0.013) for {'C': 10, 'degree': 2, 'gamma': 0.0001, 'kernel': 'poly'}\n",
      "0.218 (+/-0.245) for {'C': 10, 'degree': 2, 'gamma': 'scale', 'kernel': 'poly'}\n",
      "-0.006 (+/-0.013) for {'C': 10, 'degree': 3, 'gamma': 0.001, 'kernel': 'poly'}\n",
      "-0.006 (+/-0.013) for {'C': 10, 'degree': 3, 'gamma': 0.0001, 'kernel': 'poly'}\n",
      "0.922 (+/-0.031) for {'C': 10, 'degree': 3, 'gamma': 'scale', 'kernel': 'poly'}\n",
      "-0.006 (+/-0.013) for {'C': 10, 'degree': 4, 'gamma': 0.001, 'kernel': 'poly'}\n",
      "-0.006 (+/-0.013) for {'C': 10, 'degree': 4, 'gamma': 0.0001, 'kernel': 'poly'}\n",
      "0.727 (+/-0.232) for {'C': 10, 'degree': 4, 'gamma': 'scale', 'kernel': 'poly'}\n",
      "-0.006 (+/-0.013) for {'C': 10, 'degree': 5, 'gamma': 0.001, 'kernel': 'poly'}\n",
      "-0.006 (+/-0.013) for {'C': 10, 'degree': 5, 'gamma': 0.0001, 'kernel': 'poly'}\n",
      "0.851 (+/-0.047) for {'C': 10, 'degree': 5, 'gamma': 'scale', 'kernel': 'poly'}\n",
      "0.005 (+/-0.016) for {'C': 100, 'degree': 2, 'gamma': 0.001, 'kernel': 'poly'}\n",
      "-0.006 (+/-0.013) for {'C': 100, 'degree': 2, 'gamma': 0.0001, 'kernel': 'poly'}\n",
      "0.213 (+/-0.242) for {'C': 100, 'degree': 2, 'gamma': 'scale', 'kernel': 'poly'}\n",
      "-0.006 (+/-0.013) for {'C': 100, 'degree': 3, 'gamma': 0.001, 'kernel': 'poly'}\n",
      "-0.006 (+/-0.013) for {'C': 100, 'degree': 3, 'gamma': 0.0001, 'kernel': 'poly'}\n",
      "0.922 (+/-0.031) for {'C': 100, 'degree': 3, 'gamma': 'scale', 'kernel': 'poly'}\n",
      "-0.006 (+/-0.013) for {'C': 100, 'degree': 4, 'gamma': 0.001, 'kernel': 'poly'}\n",
      "-0.006 (+/-0.013) for {'C': 100, 'degree': 4, 'gamma': 0.0001, 'kernel': 'poly'}\n",
      "0.728 (+/-0.230) for {'C': 100, 'degree': 4, 'gamma': 'scale', 'kernel': 'poly'}\n",
      "-0.006 (+/-0.013) for {'C': 100, 'degree': 5, 'gamma': 0.001, 'kernel': 'poly'}\n",
      "-0.006 (+/-0.013) for {'C': 100, 'degree': 5, 'gamma': 0.0001, 'kernel': 'poly'}\n",
      "0.851 (+/-0.046) for {'C': 100, 'degree': 5, 'gamma': 'scale', 'kernel': 'poly'}\n",
      "0.066 (+/-0.041) for {'C': 1000, 'degree': 2, 'gamma': 0.001, 'kernel': 'poly'}\n",
      "-0.005 (+/-0.013) for {'C': 1000, 'degree': 2, 'gamma': 0.0001, 'kernel': 'poly'}\n",
      "0.214 (+/-0.242) for {'C': 1000, 'degree': 2, 'gamma': 'scale', 'kernel': 'poly'}\n",
      "-0.006 (+/-0.013) for {'C': 1000, 'degree': 3, 'gamma': 0.001, 'kernel': 'poly'}\n",
      "-0.006 (+/-0.013) for {'C': 1000, 'degree': 3, 'gamma': 0.0001, 'kernel': 'poly'}\n",
      "0.922 (+/-0.031) for {'C': 1000, 'degree': 3, 'gamma': 'scale', 'kernel': 'poly'}\n",
      "-0.006 (+/-0.013) for {'C': 1000, 'degree': 4, 'gamma': 0.001, 'kernel': 'poly'}\n",
      "-0.006 (+/-0.013) for {'C': 1000, 'degree': 4, 'gamma': 0.0001, 'kernel': 'poly'}\n",
      "0.727 (+/-0.229) for {'C': 1000, 'degree': 4, 'gamma': 'scale', 'kernel': 'poly'}\n",
      "-0.006 (+/-0.013) for {'C': 1000, 'degree': 5, 'gamma': 0.001, 'kernel': 'poly'}\n",
      "-0.006 (+/-0.013) for {'C': 1000, 'degree': 5, 'gamma': 0.0001, 'kernel': 'poly'}\n",
      "0.850 (+/-0.046) for {'C': 1000, 'degree': 5, 'gamma': 'scale', 'kernel': 'poly'}\n",
      "0.193 (+/-0.016) for {'C': 1, 'gamma': 0.001, 'kernel': 'rbf'}\n",
      "0.015 (+/-0.013) for {'C': 1, 'gamma': 0.0001, 'kernel': 'rbf'}\n",
      "0.996 (+/-0.002) for {'C': 1, 'gamma': 'scale', 'kernel': 'rbf'}\n",
      "0.973 (+/-0.005) for {'C': 10, 'gamma': 0.001, 'kernel': 'rbf'}\n",
      "0.193 (+/-0.016) for {'C': 10, 'gamma': 0.0001, 'kernel': 'rbf'}\n",
      "0.996 (+/-0.002) for {'C': 10, 'gamma': 'scale', 'kernel': 'rbf'}\n",
      "0.996 (+/-0.002) for {'C': 100, 'gamma': 0.001, 'kernel': 'rbf'}\n",
      "0.974 (+/-0.005) for {'C': 100, 'gamma': 0.0001, 'kernel': 'rbf'}\n",
      "0.996 (+/-0.002) for {'C': 100, 'gamma': 'scale', 'kernel': 'rbf'}\n",
      "0.996 (+/-0.001) for {'C': 1000, 'gamma': 0.001, 'kernel': 'rbf'}\n",
      "0.996 (+/-0.002) for {'C': 1000, 'gamma': 0.0001, 'kernel': 'rbf'}\n",
      "0.996 (+/-0.002) for {'C': 1000, 'gamma': 'scale', 'kernel': 'rbf'}\n",
      "0.096 (+/-0.015) for {'C': 1, 'gamma': 0.001, 'kernel': 'sigmoid'}\n",
      "0.004 (+/-0.013) for {'C': 1, 'gamma': 0.0001, 'kernel': 'sigmoid'}\n",
      "-127.028 (+/-72.893) for {'C': 1, 'gamma': 'scale', 'kernel': 'sigmoid'}\n",
      "0.766 (+/-0.014) for {'C': 10, 'gamma': 0.001, 'kernel': 'sigmoid'}\n",
      "0.096 (+/-0.015) for {'C': 10, 'gamma': 0.0001, 'kernel': 'sigmoid'}\n",
      "-12550.235 (+/-6649.786) for {'C': 10, 'gamma': 'scale', 'kernel': 'sigmoid'}\n",
      "0.995 (+/-0.001) for {'C': 100, 'gamma': 0.001, 'kernel': 'sigmoid'}\n",
      "0.766 (+/-0.014) for {'C': 100, 'gamma': 0.0001, 'kernel': 'sigmoid'}\n",
      "-1256579.914 (+/-663847.338) for {'C': 100, 'gamma': 'scale', 'kernel': 'sigmoid'}\n",
      "0.997 (+/-0.001) for {'C': 1000, 'gamma': 0.001, 'kernel': 'sigmoid'}\n",
      "0.995 (+/-0.001) for {'C': 1000, 'gamma': 0.0001, 'kernel': 'sigmoid'}\n",
      "-125666249.049 (+/-66363018.689) for {'C': 1000, 'gamma': 'scale', 'kernel': 'sigmoid'}\n"
     ]
    }
   ],
   "source": [
    "means = svr.cv_results_['mean_test_score']\n",
    "stds = svr.cv_results_['std_test_score']\n",
    "for mean, std, params in zip(means, stds, svr.cv_results_['params']):\n",
    "        print(\"%0.3f (+/-%0.03f) for %r\"\n",
    "              % (mean, std * 2, params))"
   ]
  },
  {
   "cell_type": "markdown",
   "id": "caff1bce-d1fa-4106-8193-3593f0a5fe43",
   "metadata": {},
   "source": [
    "## CV Quantum Kernel"
   ]
  },
  {
   "cell_type": "code",
   "execution_count": 57,
   "id": "609bc162-2202-47a2-b6ae-7c5a3030c205",
   "metadata": {},
   "outputs": [
    {
     "name": "stdout",
     "output_type": "stream",
     "text": [
      "2 dimensions\n"
     ]
    }
   ],
   "source": [
    "np.random.seed(999)\n",
    "#np.random.seed(111)\n",
    "#ind=np.random.randint(0,len(qsvmData),size = 75)\n",
    "#ind=np.random.randint(0,len(qsvmData),size = 120)\n",
    "ind=np.random.randint(0,len(qsvmData),size = 300)\n",
    "if len(cmat)==4:\n",
    "    X=qsvmData[ind,1:3]#.reshape(-1,2)\n",
    "    y=qsvmData[ind,0]\n",
    "elif len(cmat)==2:\n",
    "    print(\"2 dimensions\")\n",
    "    X=qsvmData[ind,1].reshape(-1,1)#.reshape(-1,2)\n",
    "    y=qsvmData[ind,0]"
   ]
  },
  {
   "cell_type": "code",
   "execution_count": 71,
   "id": "fc595c67-205b-4363-9e78-af840977ea07",
   "metadata": {},
   "outputs": [
    {
     "name": "stdout",
     "output_type": "stream",
     "text": [
      "params: 2, 2, linear, ['Y']\n"
     ]
    },
    {
     "name": "stderr",
     "output_type": "stream",
     "text": [
      "/opt/conda/lib/python3.8/site-packages/numpy/core/_asarray.py:102: ComplexWarning: Casting complex values to real discards the imaginary part\n",
      "  return array(a, dtype, copy=False, order=order)\n"
     ]
    },
    {
     "name": "stdout",
     "output_type": "stream",
     "text": [
      "\t fitting  0 score  -23.027273928920458\n"
     ]
    },
    {
     "name": "stderr",
     "output_type": "stream",
     "text": [
      "/opt/conda/lib/python3.8/site-packages/numpy/core/_asarray.py:102: ComplexWarning: Casting complex values to real discards the imaginary part\n",
      "  return array(a, dtype, copy=False, order=order)\n"
     ]
    },
    {
     "name": "stdout",
     "output_type": "stream",
     "text": [
      "\t fitting  1 score  -25.08953261185317\n"
     ]
    },
    {
     "name": "stderr",
     "output_type": "stream",
     "text": [
      "/opt/conda/lib/python3.8/site-packages/numpy/core/_asarray.py:102: ComplexWarning: Casting complex values to real discards the imaginary part\n",
      "  return array(a, dtype, copy=False, order=order)\n"
     ]
    },
    {
     "name": "stdout",
     "output_type": "stream",
     "text": [
      "\t fitting  2 score  -32.927637493701255\n"
     ]
    },
    {
     "name": "stderr",
     "output_type": "stream",
     "text": [
      "/opt/conda/lib/python3.8/site-packages/numpy/core/_asarray.py:102: ComplexWarning: Casting complex values to real discards the imaginary part\n",
      "  return array(a, dtype, copy=False, order=order)\n"
     ]
    },
    {
     "name": "stdout",
     "output_type": "stream",
     "text": [
      "\t fitting  3 score  -24.68693014068331\n"
     ]
    },
    {
     "name": "stderr",
     "output_type": "stream",
     "text": [
      "/opt/conda/lib/python3.8/site-packages/numpy/core/_asarray.py:102: ComplexWarning: Casting complex values to real discards the imaginary part\n",
      "  return array(a, dtype, copy=False, order=order)\n"
     ]
    },
    {
     "name": "stdout",
     "output_type": "stream",
     "text": [
      "\t fitting  4 score  -15.892085228078237\n",
      "-24.325 precision con desviacion estandar 5.432\n",
      "\n",
      "params: 2, 3, linear, ['Y']\n"
     ]
    },
    {
     "name": "stderr",
     "output_type": "stream",
     "text": [
      "/opt/conda/lib/python3.8/site-packages/numpy/core/_asarray.py:102: ComplexWarning: Casting complex values to real discards the imaginary part\n",
      "  return array(a, dtype, copy=False, order=order)\n"
     ]
    },
    {
     "name": "stdout",
     "output_type": "stream",
     "text": [
      "\t fitting  0 score  0.9035057015615846\n"
     ]
    },
    {
     "name": "stderr",
     "output_type": "stream",
     "text": [
      "/opt/conda/lib/python3.8/site-packages/numpy/core/_asarray.py:102: ComplexWarning: Casting complex values to real discards the imaginary part\n",
      "  return array(a, dtype, copy=False, order=order)\n"
     ]
    },
    {
     "name": "stdout",
     "output_type": "stream",
     "text": [
      "\t fitting  1 score  0.9229621516682079\n"
     ]
    },
    {
     "name": "stderr",
     "output_type": "stream",
     "text": [
      "/opt/conda/lib/python3.8/site-packages/numpy/core/_asarray.py:102: ComplexWarning: Casting complex values to real discards the imaginary part\n",
      "  return array(a, dtype, copy=False, order=order)\n"
     ]
    },
    {
     "name": "stdout",
     "output_type": "stream",
     "text": [
      "\t fitting  2 score  0.9109569303022794\n"
     ]
    },
    {
     "name": "stderr",
     "output_type": "stream",
     "text": [
      "/opt/conda/lib/python3.8/site-packages/numpy/core/_asarray.py:102: ComplexWarning: Casting complex values to real discards the imaginary part\n",
      "  return array(a, dtype, copy=False, order=order)\n"
     ]
    },
    {
     "name": "stdout",
     "output_type": "stream",
     "text": [
      "\t fitting  3 score  0.8727439270175804\n"
     ]
    },
    {
     "name": "stderr",
     "output_type": "stream",
     "text": [
      "/opt/conda/lib/python3.8/site-packages/numpy/core/_asarray.py:102: ComplexWarning: Casting complex values to real discards the imaginary part\n",
      "  return array(a, dtype, copy=False, order=order)\n"
     ]
    },
    {
     "name": "stdout",
     "output_type": "stream",
     "text": [
      "\t fitting  4 score  0.9489658171556873\n",
      "--------------------BEST SCORE------------------------\n",
      "0.912 precision con desviacion estandar 0.025\n",
      "\n",
      "params: 2, 4, linear, ['Y']\n"
     ]
    },
    {
     "name": "stderr",
     "output_type": "stream",
     "text": [
      "/opt/conda/lib/python3.8/site-packages/numpy/core/_asarray.py:102: ComplexWarning: Casting complex values to real discards the imaginary part\n",
      "  return array(a, dtype, copy=False, order=order)\n"
     ]
    },
    {
     "name": "stdout",
     "output_type": "stream",
     "text": [
      "\t fitting  0 score  -23.027273928920458\n"
     ]
    },
    {
     "name": "stderr",
     "output_type": "stream",
     "text": [
      "/opt/conda/lib/python3.8/site-packages/numpy/core/_asarray.py:102: ComplexWarning: Casting complex values to real discards the imaginary part\n",
      "  return array(a, dtype, copy=False, order=order)\n"
     ]
    },
    {
     "name": "stdout",
     "output_type": "stream",
     "text": [
      "\t fitting  1 score  -25.08953261185317\n"
     ]
    },
    {
     "name": "stderr",
     "output_type": "stream",
     "text": [
      "/opt/conda/lib/python3.8/site-packages/numpy/core/_asarray.py:102: ComplexWarning: Casting complex values to real discards the imaginary part\n",
      "  return array(a, dtype, copy=False, order=order)\n"
     ]
    },
    {
     "name": "stdout",
     "output_type": "stream",
     "text": [
      "\t fitting  2 score  -32.927637493701255\n"
     ]
    },
    {
     "name": "stderr",
     "output_type": "stream",
     "text": [
      "/opt/conda/lib/python3.8/site-packages/numpy/core/_asarray.py:102: ComplexWarning: Casting complex values to real discards the imaginary part\n",
      "  return array(a, dtype, copy=False, order=order)\n"
     ]
    },
    {
     "name": "stdout",
     "output_type": "stream",
     "text": [
      "\t fitting  3 score  -24.68693014068331\n"
     ]
    },
    {
     "name": "stderr",
     "output_type": "stream",
     "text": [
      "/opt/conda/lib/python3.8/site-packages/numpy/core/_asarray.py:102: ComplexWarning: Casting complex values to real discards the imaginary part\n",
      "  return array(a, dtype, copy=False, order=order)\n"
     ]
    },
    {
     "name": "stdout",
     "output_type": "stream",
     "text": [
      "\t fitting  4 score  -15.892085228078237\n",
      "-24.325 precision con desviacion estandar 5.432\n",
      "\n",
      "params: 2, 5, linear, ['Y']\n"
     ]
    },
    {
     "name": "stderr",
     "output_type": "stream",
     "text": [
      "/opt/conda/lib/python3.8/site-packages/numpy/core/_asarray.py:102: ComplexWarning: Casting complex values to real discards the imaginary part\n",
      "  return array(a, dtype, copy=False, order=order)\n"
     ]
    },
    {
     "name": "stdout",
     "output_type": "stream",
     "text": [
      "\t fitting  0 score  0.9035057015615846\n"
     ]
    },
    {
     "name": "stderr",
     "output_type": "stream",
     "text": [
      "/opt/conda/lib/python3.8/site-packages/numpy/core/_asarray.py:102: ComplexWarning: Casting complex values to real discards the imaginary part\n",
      "  return array(a, dtype, copy=False, order=order)\n"
     ]
    },
    {
     "name": "stdout",
     "output_type": "stream",
     "text": [
      "\t fitting  1 score  0.9229621516682079\n"
     ]
    },
    {
     "name": "stderr",
     "output_type": "stream",
     "text": [
      "/opt/conda/lib/python3.8/site-packages/numpy/core/_asarray.py:102: ComplexWarning: Casting complex values to real discards the imaginary part\n",
      "  return array(a, dtype, copy=False, order=order)\n"
     ]
    },
    {
     "name": "stdout",
     "output_type": "stream",
     "text": [
      "\t fitting  2 score  0.9109569303022794\n"
     ]
    },
    {
     "name": "stderr",
     "output_type": "stream",
     "text": [
      "/opt/conda/lib/python3.8/site-packages/numpy/core/_asarray.py:102: ComplexWarning: Casting complex values to real discards the imaginary part\n",
      "  return array(a, dtype, copy=False, order=order)\n"
     ]
    },
    {
     "name": "stdout",
     "output_type": "stream",
     "text": [
      "\t fitting  3 score  0.8727439270175804\n"
     ]
    },
    {
     "name": "stderr",
     "output_type": "stream",
     "text": [
      "/opt/conda/lib/python3.8/site-packages/numpy/core/_asarray.py:102: ComplexWarning: Casting complex values to real discards the imaginary part\n",
      "  return array(a, dtype, copy=False, order=order)\n"
     ]
    },
    {
     "name": "stdout",
     "output_type": "stream",
     "text": [
      "\t fitting  4 score  0.9489658171556873\n",
      "0.912 precision con desviacion estandar 0.025\n",
      "\n",
      "params: 2, 6, linear, ['Y']\n"
     ]
    },
    {
     "name": "stderr",
     "output_type": "stream",
     "text": [
      "/opt/conda/lib/python3.8/site-packages/numpy/core/_asarray.py:102: ComplexWarning: Casting complex values to real discards the imaginary part\n",
      "  return array(a, dtype, copy=False, order=order)\n"
     ]
    },
    {
     "name": "stdout",
     "output_type": "stream",
     "text": [
      "\t fitting  0 score  -23.027273928920458\n"
     ]
    },
    {
     "name": "stderr",
     "output_type": "stream",
     "text": [
      "/opt/conda/lib/python3.8/site-packages/numpy/core/_asarray.py:102: ComplexWarning: Casting complex values to real discards the imaginary part\n",
      "  return array(a, dtype, copy=False, order=order)\n"
     ]
    },
    {
     "name": "stdout",
     "output_type": "stream",
     "text": [
      "\t fitting  1 score  -25.08953261185317\n"
     ]
    },
    {
     "name": "stderr",
     "output_type": "stream",
     "text": [
      "/opt/conda/lib/python3.8/site-packages/numpy/core/_asarray.py:102: ComplexWarning: Casting complex values to real discards the imaginary part\n",
      "  return array(a, dtype, copy=False, order=order)\n"
     ]
    },
    {
     "name": "stdout",
     "output_type": "stream",
     "text": [
      "\t fitting  2 score  -32.927637493701255\n"
     ]
    },
    {
     "name": "stderr",
     "output_type": "stream",
     "text": [
      "/opt/conda/lib/python3.8/site-packages/numpy/core/_asarray.py:102: ComplexWarning: Casting complex values to real discards the imaginary part\n",
      "  return array(a, dtype, copy=False, order=order)\n"
     ]
    },
    {
     "name": "stdout",
     "output_type": "stream",
     "text": [
      "\t fitting  3 score  -24.68693014068331\n"
     ]
    },
    {
     "name": "stderr",
     "output_type": "stream",
     "text": [
      "/opt/conda/lib/python3.8/site-packages/numpy/core/_asarray.py:102: ComplexWarning: Casting complex values to real discards the imaginary part\n",
      "  return array(a, dtype, copy=False, order=order)\n"
     ]
    },
    {
     "name": "stdout",
     "output_type": "stream",
     "text": [
      "\t fitting  4 score  -15.892085228078237\n",
      "-24.325 precision con desviacion estandar 5.432\n",
      "\n",
      "params: 2, 7, linear, ['Y']\n"
     ]
    },
    {
     "name": "stderr",
     "output_type": "stream",
     "text": [
      "/opt/conda/lib/python3.8/site-packages/numpy/core/_asarray.py:102: ComplexWarning: Casting complex values to real discards the imaginary part\n",
      "  return array(a, dtype, copy=False, order=order)\n"
     ]
    },
    {
     "name": "stdout",
     "output_type": "stream",
     "text": [
      "\t fitting  0 score  0.9035057015615846\n"
     ]
    },
    {
     "name": "stderr",
     "output_type": "stream",
     "text": [
      "/opt/conda/lib/python3.8/site-packages/numpy/core/_asarray.py:102: ComplexWarning: Casting complex values to real discards the imaginary part\n",
      "  return array(a, dtype, copy=False, order=order)\n"
     ]
    },
    {
     "name": "stdout",
     "output_type": "stream",
     "text": [
      "\t fitting  1 score  0.9229621516682079\n"
     ]
    },
    {
     "name": "stderr",
     "output_type": "stream",
     "text": [
      "/opt/conda/lib/python3.8/site-packages/numpy/core/_asarray.py:102: ComplexWarning: Casting complex values to real discards the imaginary part\n",
      "  return array(a, dtype, copy=False, order=order)\n"
     ]
    },
    {
     "name": "stdout",
     "output_type": "stream",
     "text": [
      "\t fitting  2 score  0.9109569303022794\n"
     ]
    },
    {
     "name": "stderr",
     "output_type": "stream",
     "text": [
      "/opt/conda/lib/python3.8/site-packages/numpy/core/_asarray.py:102: ComplexWarning: Casting complex values to real discards the imaginary part\n",
      "  return array(a, dtype, copy=False, order=order)\n"
     ]
    },
    {
     "name": "stdout",
     "output_type": "stream",
     "text": [
      "\t fitting  3 score  0.8727439270175804\n"
     ]
    },
    {
     "name": "stderr",
     "output_type": "stream",
     "text": [
      "/opt/conda/lib/python3.8/site-packages/numpy/core/_asarray.py:102: ComplexWarning: Casting complex values to real discards the imaginary part\n",
      "  return array(a, dtype, copy=False, order=order)\n"
     ]
    },
    {
     "name": "stdout",
     "output_type": "stream",
     "text": [
      "\t fitting  4 score  0.9489658171556873\n",
      "0.912 precision con desviacion estandar 0.025\n",
      "\n",
      "params: 2, 8, linear, ['Y']\n"
     ]
    },
    {
     "name": "stderr",
     "output_type": "stream",
     "text": [
      "/opt/conda/lib/python3.8/site-packages/numpy/core/_asarray.py:102: ComplexWarning: Casting complex values to real discards the imaginary part\n",
      "  return array(a, dtype, copy=False, order=order)\n"
     ]
    },
    {
     "name": "stdout",
     "output_type": "stream",
     "text": [
      "\t fitting  0 score  -23.027273928920458\n"
     ]
    },
    {
     "name": "stderr",
     "output_type": "stream",
     "text": [
      "/opt/conda/lib/python3.8/site-packages/numpy/core/_asarray.py:102: ComplexWarning: Casting complex values to real discards the imaginary part\n",
      "  return array(a, dtype, copy=False, order=order)\n"
     ]
    },
    {
     "name": "stdout",
     "output_type": "stream",
     "text": [
      "\t fitting  1 score  -25.08953261185317\n"
     ]
    },
    {
     "name": "stderr",
     "output_type": "stream",
     "text": [
      "/opt/conda/lib/python3.8/site-packages/numpy/core/_asarray.py:102: ComplexWarning: Casting complex values to real discards the imaginary part\n",
      "  return array(a, dtype, copy=False, order=order)\n"
     ]
    },
    {
     "name": "stdout",
     "output_type": "stream",
     "text": [
      "\t fitting  2 score  -32.927637493701255\n"
     ]
    },
    {
     "name": "stderr",
     "output_type": "stream",
     "text": [
      "/opt/conda/lib/python3.8/site-packages/numpy/core/_asarray.py:102: ComplexWarning: Casting complex values to real discards the imaginary part\n",
      "  return array(a, dtype, copy=False, order=order)\n"
     ]
    },
    {
     "name": "stdout",
     "output_type": "stream",
     "text": [
      "\t fitting  3 score  -24.68693014068331\n"
     ]
    },
    {
     "name": "stderr",
     "output_type": "stream",
     "text": [
      "/opt/conda/lib/python3.8/site-packages/numpy/core/_asarray.py:102: ComplexWarning: Casting complex values to real discards the imaginary part\n",
      "  return array(a, dtype, copy=False, order=order)\n"
     ]
    },
    {
     "name": "stdout",
     "output_type": "stream",
     "text": [
      "\t fitting  4 score  -15.892085228078237\n",
      "-24.325 precision con desviacion estandar 5.432\n",
      "\n"
     ]
    }
   ],
   "source": [
    "from sklearn.model_selection import cross_val_score, KFold\n",
    "from qiskit.circuit.library import EfficientSU2\n",
    "backend = QuantumInstance(BasicAer.get_backend('qasm_simulator'), shots=1024,\n",
    "                                seed_simulator=seed, seed_transpiler=seed)\n",
    "#feats=[2,3,4,5]\n",
    "feats=[2]\n",
    "#reps=[2,3,4,5]\n",
    "reps=[2,3,4,5,6,7,8]#mejor el 2 de momento, con qPCA eigens\n",
    "#entan=['circular','linear', 'full']\n",
    "entan=['linear']\n",
    "#paul=[['X']]#,['Y'],['X','XX']]#,['Y','YY'],['X','XY'],['Y','YX']]\n",
    "paul=[['Y']]#,['X','XX'],['Y','YY']]#,['X','XY'],['Y','YX']]\n",
    "kf=KFold(n_splits=5)\n",
    "scores=np.empty(5)\n",
    "bestScore=0\n",
    "for i in feats:\n",
    "    for j in reps:\n",
    "        for k in entan: \n",
    "            for l in paul:#paulifeatmap\n",
    "                print(\"params: {}, {}, {}, {}\".format(i,j,k,l))\n",
    "                #print(\"params: {}, {}, {}\".format(i,j,k))\n",
    "                #feature_map = ZZFeatureMap(feature_dimension=i, reps=j, entanglement=k)\n",
    "                #feature_map = ZFeatureMap(feature_dimension=i, reps=j)\n",
    "                feature_map=PauliFeatureMap(feature_dimension=i,reps=j,entanglement=k,paulis=l)#paulifeatmap\n",
    "                kernel = QuantumKernel(feature_map=feature_map, quantum_instance=backend)\n",
    "                qsvr = QSVR(quantum_kernel = kernel)\n",
    "                w=0\n",
    "                for train_index, test_index in kf.split(X):\n",
    "                    #X_train, X_test = np.asarray(X[train_index], dtype=np.float64, order='C'),np.asarray(X[test_index], dtype=np.float64, order='C')\n",
    "                    #y_train, y_test = np.asarray(y[train_index], dtype=np.float64, order='C'),np.asarray(y[test_index], dtype=np.float64, order='C')\n",
    "                    X_train, X_test = X[train_index],X[test_index]\n",
    "                    y_train, y_test = y[train_index],y[test_index]\n",
    "                    try:\n",
    "                        qsvr.fit(X_train, y_train)\n",
    "                    except Exception:\n",
    "                        print(\"Runtime error\")\n",
    "                    scores[w]=qsvr.score(X_test,y_test)\n",
    "                    print(\"\\t fitting \", w,\"score \", scores[w])\n",
    "                    w+=1\n",
    "                if scores.mean()>bestScore:\n",
    "                        bestScore=scores.mean()\n",
    "                        print(\"--------------------BEST SCORE------------------------\")\n",
    "                print(\"%0.3f precision con desviacion estandar %0.3f\\n\" % (scores.mean(), scores.std()))\n",
    "                "
   ]
  },
  {
   "cell_type": "markdown",
   "id": "97e1cb75-1873-4ee2-84cf-b427d9fcdbd8",
   "metadata": {},
   "source": [
    "### print(X_train.shape)"
   ]
  },
  {
   "cell_type": "code",
   "execution_count": null,
   "id": "4817a703-c44d-4d1a-96a4-0e2a27c89bc1",
   "metadata": {},
   "outputs": [],
   "source": [
    "from sklearn.model_selection import cross_val_score, KFold\n",
    "from qiskit.circuit.library import EfficientSU2\n",
    "backend = QuantumInstance(BasicAer.get_backend('qasm_simulator'), shots=1024,\n",
    "                                seed_simulator=seed, seed_transpiler=seed)\n",
    "#feats=[2,3,4,5]\n",
    "feats=[2]\n",
    "#reps=[2,3,4,5]\n",
    "reps=[2,3,4,5,6,7,8]\n",
    "#entan=['circular','linear', 'full']\n",
    "entan=['linear']\n",
    "paul=[['X']]#,['Y'],['X','XX']]#,['Y','YY'],['X','XY'],['Y','YX']]\n",
    "kf=KFold(n_splits=5)\n",
    "scores=np.empty(5)\n",
    "bestScore=0\n",
    "for i in feats:\n",
    "    for j in reps:\n",
    "        for k in entan: \n",
    "            #for l in paul:#paulifeatmap\n",
    "                #print(\"params: {}, {}, {}, {}\".format(i,j,k,l))\n",
    "            print(\"params: {}, {}, {}\".format(i,j,k))\n",
    "            feature_map = ZZFeatureMap(feature_dimension=i, reps=j, entanglement=k)\n",
    "            #feature_map = ZFeatureMap(feature_dimension=i, reps=j)\n",
    "            #feature_map=PauliFeatureMap(feature_dimension=i,reps=j,entanglement=k,paulis=l)#paulifeatmap\n",
    "            kernel = QuantumKernel(feature_map=feature_map, quantum_instance=backend)\n",
    "            qsvr = QSVR(quantum_kernel = kernel)\n",
    "            w=0\n",
    "            for train_index, test_index in kf.split(X):\n",
    "                #X_train, X_test = np.asarray(X[train_index], dtype=np.float64, order='C'),np.asarray(X[test_index], dtype=np.float64, order='C')\n",
    "                #y_train, y_test = np.asarray(y[train_index], dtype=np.float64, order='C'),np.asarray(y[test_index], dtype=np.float64, order='C')\n",
    "                X_train, X_test = X[train_index],X[test_index]\n",
    "                y_train, y_test = y[train_index],y[test_index]\n",
    "                try:\n",
    "                    qsvr.fit(X_train, y_train)\n",
    "                except Exception:\n",
    "                    print(\"Runtime error\")\n",
    "                print(\"\\t fitting \", w)\n",
    "                scores[w]=qsvr.score(X_test,y_test)\n",
    "                print(\"\\t fitting \", w,\"score \", scores[w])\n",
    "                w+=1\n",
    "            if scores.mean()>bestScore:\n",
    "                    bestScore=scores.mean()\n",
    "                    print(\"--------------------BEST SCORE------------------------\")\n",
    "            print(\"%0.3f precision con desviacion estandar %0.3f\\n\" % (scores.mean(), scores.std()))\n",
    "                "
   ]
  },
  {
   "cell_type": "code",
   "execution_count": 67,
   "id": "c9c5049f-f8bd-4aaf-be23-95296895efa2",
   "metadata": {},
   "outputs": [
    {
     "name": "stdout",
     "output_type": "stream",
     "text": [
      "params: 2, 2, linear\n"
     ]
    },
    {
     "name": "stderr",
     "output_type": "stream",
     "text": [
      "/opt/conda/lib/python3.8/site-packages/numpy/core/_asarray.py:102: ComplexWarning: Casting complex values to real discards the imaginary part\n",
      "  return array(a, dtype, copy=False, order=order)\n"
     ]
    },
    {
     "name": "stdout",
     "output_type": "stream",
     "text": [
      "\t fitting  0\n",
      "\t fitting  0 score  -4.718372617157475\n"
     ]
    },
    {
     "name": "stderr",
     "output_type": "stream",
     "text": [
      "/opt/conda/lib/python3.8/site-packages/numpy/core/_asarray.py:102: ComplexWarning: Casting complex values to real discards the imaginary part\n",
      "  return array(a, dtype, copy=False, order=order)\n"
     ]
    },
    {
     "name": "stdout",
     "output_type": "stream",
     "text": [
      "\t fitting  1\n",
      "\t fitting  1 score  -3.711914314245978\n"
     ]
    },
    {
     "name": "stderr",
     "output_type": "stream",
     "text": [
      "/opt/conda/lib/python3.8/site-packages/numpy/core/_asarray.py:102: ComplexWarning: Casting complex values to real discards the imaginary part\n",
      "  return array(a, dtype, copy=False, order=order)\n"
     ]
    },
    {
     "name": "stdout",
     "output_type": "stream",
     "text": [
      "\t fitting  2\n",
      "\t fitting  2 score  -1.3566246092858005\n"
     ]
    },
    {
     "name": "stderr",
     "output_type": "stream",
     "text": [
      "/opt/conda/lib/python3.8/site-packages/numpy/core/_asarray.py:102: ComplexWarning: Casting complex values to real discards the imaginary part\n",
      "  return array(a, dtype, copy=False, order=order)\n"
     ]
    },
    {
     "name": "stdout",
     "output_type": "stream",
     "text": [
      "\t fitting  3\n",
      "\t fitting  3 score  -3.705670013417101\n"
     ]
    },
    {
     "name": "stderr",
     "output_type": "stream",
     "text": [
      "/opt/conda/lib/python3.8/site-packages/numpy/core/_asarray.py:102: ComplexWarning: Casting complex values to real discards the imaginary part\n",
      "  return array(a, dtype, copy=False, order=order)\n"
     ]
    },
    {
     "name": "stdout",
     "output_type": "stream",
     "text": [
      "\t fitting  4\n",
      "\t fitting  4 score  -4.161237393928987\n",
      "-3.531 precision con desviacion estandar 1.149\n",
      "\n",
      "params: 2, 3, linear\n"
     ]
    },
    {
     "name": "stderr",
     "output_type": "stream",
     "text": [
      "/opt/conda/lib/python3.8/site-packages/numpy/core/_asarray.py:102: ComplexWarning: Casting complex values to real discards the imaginary part\n",
      "  return array(a, dtype, copy=False, order=order)\n"
     ]
    },
    {
     "name": "stdout",
     "output_type": "stream",
     "text": [
      "\t fitting  0\n",
      "\t fitting  0 score  -1.7676133308135875\n"
     ]
    },
    {
     "name": "stderr",
     "output_type": "stream",
     "text": [
      "/opt/conda/lib/python3.8/site-packages/numpy/core/_asarray.py:102: ComplexWarning: Casting complex values to real discards the imaginary part\n",
      "  return array(a, dtype, copy=False, order=order)\n"
     ]
    },
    {
     "name": "stdout",
     "output_type": "stream",
     "text": [
      "\t fitting  1\n",
      "\t fitting  1 score  -0.18790506467110646\n"
     ]
    },
    {
     "name": "stderr",
     "output_type": "stream",
     "text": [
      "/opt/conda/lib/python3.8/site-packages/numpy/core/_asarray.py:102: ComplexWarning: Casting complex values to real discards the imaginary part\n",
      "  return array(a, dtype, copy=False, order=order)\n"
     ]
    },
    {
     "name": "stdout",
     "output_type": "stream",
     "text": [
      "\t fitting  2\n",
      "\t fitting  2 score  -2.5083735766486526\n"
     ]
    },
    {
     "name": "stderr",
     "output_type": "stream",
     "text": [
      "/opt/conda/lib/python3.8/site-packages/numpy/core/_asarray.py:102: ComplexWarning: Casting complex values to real discards the imaginary part\n",
      "  return array(a, dtype, copy=False, order=order)\n"
     ]
    },
    {
     "name": "stdout",
     "output_type": "stream",
     "text": [
      "\t fitting  3\n",
      "\t fitting  3 score  -14.655924869229382\n"
     ]
    },
    {
     "name": "stderr",
     "output_type": "stream",
     "text": [
      "/opt/conda/lib/python3.8/site-packages/numpy/core/_asarray.py:102: ComplexWarning: Casting complex values to real discards the imaginary part\n",
      "  return array(a, dtype, copy=False, order=order)\n"
     ]
    },
    {
     "name": "stdout",
     "output_type": "stream",
     "text": [
      "\t fitting  4\n",
      "\t fitting  4 score  -8.508663389052787\n",
      "-5.526 precision con desviacion estandar 5.366\n",
      "\n",
      "params: 2, 4, linear\n"
     ]
    },
    {
     "name": "stderr",
     "output_type": "stream",
     "text": [
      "/opt/conda/lib/python3.8/site-packages/numpy/core/_asarray.py:102: ComplexWarning: Casting complex values to real discards the imaginary part\n",
      "  return array(a, dtype, copy=False, order=order)\n"
     ]
    },
    {
     "name": "stdout",
     "output_type": "stream",
     "text": [
      "\t fitting  0\n",
      "\t fitting  0 score  0.8058235016641572\n"
     ]
    },
    {
     "name": "stderr",
     "output_type": "stream",
     "text": [
      "/opt/conda/lib/python3.8/site-packages/numpy/core/_asarray.py:102: ComplexWarning: Casting complex values to real discards the imaginary part\n",
      "  return array(a, dtype, copy=False, order=order)\n"
     ]
    },
    {
     "name": "stdout",
     "output_type": "stream",
     "text": [
      "\t fitting  1\n",
      "\t fitting  1 score  0.8312428336476432\n"
     ]
    },
    {
     "name": "stderr",
     "output_type": "stream",
     "text": [
      "/opt/conda/lib/python3.8/site-packages/numpy/core/_asarray.py:102: ComplexWarning: Casting complex values to real discards the imaginary part\n",
      "  return array(a, dtype, copy=False, order=order)\n"
     ]
    },
    {
     "name": "stdout",
     "output_type": "stream",
     "text": [
      "\t fitting  2\n",
      "\t fitting  2 score  0.7222602049035984\n"
     ]
    },
    {
     "name": "stderr",
     "output_type": "stream",
     "text": [
      "/opt/conda/lib/python3.8/site-packages/numpy/core/_asarray.py:102: ComplexWarning: Casting complex values to real discards the imaginary part\n",
      "  return array(a, dtype, copy=False, order=order)\n"
     ]
    },
    {
     "name": "stdout",
     "output_type": "stream",
     "text": [
      "\t fitting  3\n",
      "\t fitting  3 score  0.8093461285255373\n"
     ]
    },
    {
     "name": "stderr",
     "output_type": "stream",
     "text": [
      "/opt/conda/lib/python3.8/site-packages/numpy/core/_asarray.py:102: ComplexWarning: Casting complex values to real discards the imaginary part\n",
      "  return array(a, dtype, copy=False, order=order)\n"
     ]
    },
    {
     "name": "stdout",
     "output_type": "stream",
     "text": [
      "\t fitting  4\n",
      "\t fitting  4 score  0.8785944702514864\n",
      "--------------------BEST SCORE------------------------\n",
      "0.809 precision con desviacion estandar 0.051\n",
      "\n",
      "params: 2, 5, linear\n"
     ]
    },
    {
     "name": "stderr",
     "output_type": "stream",
     "text": [
      "/opt/conda/lib/python3.8/site-packages/numpy/core/_asarray.py:102: ComplexWarning: Casting complex values to real discards the imaginary part\n",
      "  return array(a, dtype, copy=False, order=order)\n"
     ]
    },
    {
     "name": "stdout",
     "output_type": "stream",
     "text": [
      "\t fitting  0\n",
      "\t fitting  0 score  0.7558935901347068\n"
     ]
    },
    {
     "name": "stderr",
     "output_type": "stream",
     "text": [
      "/opt/conda/lib/python3.8/site-packages/numpy/core/_asarray.py:102: ComplexWarning: Casting complex values to real discards the imaginary part\n",
      "  return array(a, dtype, copy=False, order=order)\n"
     ]
    },
    {
     "name": "stdout",
     "output_type": "stream",
     "text": [
      "\t fitting  1\n",
      "\t fitting  1 score  0.7857570382121337\n"
     ]
    },
    {
     "name": "stderr",
     "output_type": "stream",
     "text": [
      "/opt/conda/lib/python3.8/site-packages/numpy/core/_asarray.py:102: ComplexWarning: Casting complex values to real discards the imaginary part\n",
      "  return array(a, dtype, copy=False, order=order)\n"
     ]
    },
    {
     "name": "stdout",
     "output_type": "stream",
     "text": [
      "\t fitting  2\n",
      "\t fitting  2 score  0.7473937559707429\n"
     ]
    },
    {
     "name": "stderr",
     "output_type": "stream",
     "text": [
      "/opt/conda/lib/python3.8/site-packages/numpy/core/_asarray.py:102: ComplexWarning: Casting complex values to real discards the imaginary part\n",
      "  return array(a, dtype, copy=False, order=order)\n"
     ]
    },
    {
     "name": "stdout",
     "output_type": "stream",
     "text": [
      "\t fitting  3\n",
      "\t fitting  3 score  0.8040482193670324\n"
     ]
    },
    {
     "name": "stderr",
     "output_type": "stream",
     "text": [
      "/opt/conda/lib/python3.8/site-packages/numpy/core/_asarray.py:102: ComplexWarning: Casting complex values to real discards the imaginary part\n",
      "  return array(a, dtype, copy=False, order=order)\n"
     ]
    },
    {
     "name": "stdout",
     "output_type": "stream",
     "text": [
      "\t fitting  4\n",
      "\t fitting  4 score  0.8560868501283911\n",
      "0.790 precision con desviacion estandar 0.039\n",
      "\n",
      "params: 2, 6, linear\n"
     ]
    },
    {
     "name": "stderr",
     "output_type": "stream",
     "text": [
      "/opt/conda/lib/python3.8/site-packages/numpy/core/_asarray.py:102: ComplexWarning: Casting complex values to real discards the imaginary part\n",
      "  return array(a, dtype, copy=False, order=order)\n"
     ]
    },
    {
     "name": "stdout",
     "output_type": "stream",
     "text": [
      "\t fitting  0\n",
      "\t fitting  0 score  -1.3023510827025295\n"
     ]
    },
    {
     "name": "stderr",
     "output_type": "stream",
     "text": [
      "/opt/conda/lib/python3.8/site-packages/numpy/core/_asarray.py:102: ComplexWarning: Casting complex values to real discards the imaginary part\n",
      "  return array(a, dtype, copy=False, order=order)\n"
     ]
    },
    {
     "name": "stdout",
     "output_type": "stream",
     "text": [
      "\t fitting  1\n",
      "\t fitting  1 score  -0.7754406274489078\n"
     ]
    },
    {
     "name": "stderr",
     "output_type": "stream",
     "text": [
      "/opt/conda/lib/python3.8/site-packages/numpy/core/_asarray.py:102: ComplexWarning: Casting complex values to real discards the imaginary part\n",
      "  return array(a, dtype, copy=False, order=order)\n"
     ]
    },
    {
     "name": "stdout",
     "output_type": "stream",
     "text": [
      "\t fitting  2\n",
      "\t fitting  2 score  -0.7840773439848894\n"
     ]
    },
    {
     "name": "stderr",
     "output_type": "stream",
     "text": [
      "/opt/conda/lib/python3.8/site-packages/numpy/core/_asarray.py:102: ComplexWarning: Casting complex values to real discards the imaginary part\n",
      "  return array(a, dtype, copy=False, order=order)\n"
     ]
    },
    {
     "name": "stdout",
     "output_type": "stream",
     "text": [
      "\t fitting  3\n",
      "\t fitting  3 score  -1.3408498547441523\n"
     ]
    },
    {
     "name": "stderr",
     "output_type": "stream",
     "text": [
      "/opt/conda/lib/python3.8/site-packages/numpy/core/_asarray.py:102: ComplexWarning: Casting complex values to real discards the imaginary part\n",
      "  return array(a, dtype, copy=False, order=order)\n"
     ]
    },
    {
     "name": "stdout",
     "output_type": "stream",
     "text": [
      "\t fitting  4\n",
      "\t fitting  4 score  -0.27187309733257314\n",
      "-0.895 precision con desviacion estandar 0.395\n",
      "\n",
      "params: 2, 7, linear\n"
     ]
    },
    {
     "name": "stderr",
     "output_type": "stream",
     "text": [
      "/opt/conda/lib/python3.8/site-packages/numpy/core/_asarray.py:102: ComplexWarning: Casting complex values to real discards the imaginary part\n",
      "  return array(a, dtype, copy=False, order=order)\n"
     ]
    },
    {
     "name": "stdout",
     "output_type": "stream",
     "text": [
      "\t fitting  0\n",
      "\t fitting  0 score  -12.250941598141786\n"
     ]
    },
    {
     "name": "stderr",
     "output_type": "stream",
     "text": [
      "/opt/conda/lib/python3.8/site-packages/numpy/core/_asarray.py:102: ComplexWarning: Casting complex values to real discards the imaginary part\n",
      "  return array(a, dtype, copy=False, order=order)\n"
     ]
    },
    {
     "name": "stdout",
     "output_type": "stream",
     "text": [
      "\t fitting  1\n",
      "\t fitting  1 score  -3.7385807523594625\n"
     ]
    },
    {
     "name": "stderr",
     "output_type": "stream",
     "text": [
      "/opt/conda/lib/python3.8/site-packages/numpy/core/_asarray.py:102: ComplexWarning: Casting complex values to real discards the imaginary part\n",
      "  return array(a, dtype, copy=False, order=order)\n"
     ]
    },
    {
     "name": "stdout",
     "output_type": "stream",
     "text": [
      "\t fitting  2\n",
      "\t fitting  2 score  -4.642552345476804\n"
     ]
    },
    {
     "name": "stderr",
     "output_type": "stream",
     "text": [
      "/opt/conda/lib/python3.8/site-packages/numpy/core/_asarray.py:102: ComplexWarning: Casting complex values to real discards the imaginary part\n",
      "  return array(a, dtype, copy=False, order=order)\n"
     ]
    },
    {
     "name": "stdout",
     "output_type": "stream",
     "text": [
      "\t fitting  3\n",
      "\t fitting  3 score  -30.139539754007014\n"
     ]
    },
    {
     "name": "stderr",
     "output_type": "stream",
     "text": [
      "/opt/conda/lib/python3.8/site-packages/numpy/core/_asarray.py:102: ComplexWarning: Casting complex values to real discards the imaginary part\n",
      "  return array(a, dtype, copy=False, order=order)\n"
     ]
    },
    {
     "name": "stdout",
     "output_type": "stream",
     "text": [
      "\t fitting  4\n",
      "\t fitting  4 score  -3.486281118548461\n",
      "-10.852 precision con desviacion estandar 10.172\n",
      "\n",
      "params: 2, 8, linear\n"
     ]
    },
    {
     "name": "stderr",
     "output_type": "stream",
     "text": [
      "/opt/conda/lib/python3.8/site-packages/numpy/core/_asarray.py:102: ComplexWarning: Casting complex values to real discards the imaginary part\n",
      "  return array(a, dtype, copy=False, order=order)\n"
     ]
    },
    {
     "name": "stdout",
     "output_type": "stream",
     "text": [
      "\t fitting  0\n",
      "\t fitting  0 score  -0.9068206566470625\n"
     ]
    },
    {
     "name": "stderr",
     "output_type": "stream",
     "text": [
      "/opt/conda/lib/python3.8/site-packages/numpy/core/_asarray.py:102: ComplexWarning: Casting complex values to real discards the imaginary part\n",
      "  return array(a, dtype, copy=False, order=order)\n"
     ]
    },
    {
     "name": "stdout",
     "output_type": "stream",
     "text": [
      "\t fitting  1\n",
      "\t fitting  1 score  -0.8969229871979421\n"
     ]
    },
    {
     "name": "stderr",
     "output_type": "stream",
     "text": [
      "/opt/conda/lib/python3.8/site-packages/numpy/core/_asarray.py:102: ComplexWarning: Casting complex values to real discards the imaginary part\n",
      "  return array(a, dtype, copy=False, order=order)\n"
     ]
    },
    {
     "name": "stdout",
     "output_type": "stream",
     "text": [
      "\t fitting  2\n",
      "\t fitting  2 score  -2.4205969645667036\n"
     ]
    },
    {
     "name": "stderr",
     "output_type": "stream",
     "text": [
      "/opt/conda/lib/python3.8/site-packages/numpy/core/_asarray.py:102: ComplexWarning: Casting complex values to real discards the imaginary part\n",
      "  return array(a, dtype, copy=False, order=order)\n"
     ]
    },
    {
     "name": "stdout",
     "output_type": "stream",
     "text": [
      "\t fitting  3\n",
      "\t fitting  3 score  -3.4768830727739637\n"
     ]
    },
    {
     "name": "stderr",
     "output_type": "stream",
     "text": [
      "/opt/conda/lib/python3.8/site-packages/numpy/core/_asarray.py:102: ComplexWarning: Casting complex values to real discards the imaginary part\n",
      "  return array(a, dtype, copy=False, order=order)\n"
     ]
    },
    {
     "name": "stdout",
     "output_type": "stream",
     "text": [
      "\t fitting  4\n",
      "\t fitting  4 score  -11.26409644802734\n",
      "-3.793 precision con desviacion estandar 3.861\n",
      "\n"
     ]
    }
   ],
   "source": [
    "from sklearn.model_selection import cross_val_score, KFold\n",
    "from qiskit.circuit.library import EfficientSU2\n",
    "backend = QuantumInstance(BasicAer.get_backend('qasm_simulator'), shots=1024,\n",
    "                                seed_simulator=seed, seed_transpiler=seed)\n",
    "#feats=[2,3,4,5]\n",
    "feats=[2]\n",
    "#reps=[2,3,4,5]\n",
    "reps=[2,3,4,5,6,7,8]\n",
    "#entan=['circular','linear', 'full']\n",
    "entan=['linear']\n",
    "paul=[['X']]#,['Y'],['X','XX']]#,['Y','YY'],['X','XY'],['Y','YX']]\n",
    "kf=KFold(n_splits=5)\n",
    "scores=np.empty(5)\n",
    "bestScore=0\n",
    "for i in feats:\n",
    "    for j in reps:\n",
    "        for k in entan: \n",
    "            #for l in paul:#paulifeatmap\n",
    "                #print(\"params: {}, {}, {}, {}\".format(i,j,k,l))\n",
    "            print(\"params: {}, {}, {}\".format(i,j,k))\n",
    "            #feature_map = ZZFeatureMap(feature_dimension=i, reps=j, entanglement=k)\n",
    "            feature_map = ZFeatureMap(feature_dimension=i, reps=j)\n",
    "            #feature_map=PauliFeatureMap(feature_dimension=i,reps=j,entanglement=k,paulis=l)#paulifeatmap\n",
    "            kernel = QuantumKernel(feature_map=feature_map, quantum_instance=backend)\n",
    "            qsvr = QSVR(quantum_kernel = kernel)\n",
    "            w=0\n",
    "            for train_index, test_index in kf.split(X):\n",
    "                #X_train, X_test = np.asarray(X[train_index], dtype=np.float64, order='C'),np.asarray(X[test_index], dtype=np.float64, order='C')\n",
    "                #y_train, y_test = np.asarray(y[train_index], dtype=np.float64, order='C'),np.asarray(y[test_index], dtype=np.float64, order='C')\n",
    "                X_train, X_test = X[train_index],X[test_index]\n",
    "                y_train, y_test = y[train_index],y[test_index]\n",
    "                try:\n",
    "                    qsvr.fit(X_train, y_train)\n",
    "                except Exception:\n",
    "                    print(\"Runtime error\")\n",
    "                print(\"\\t fitting \", w)\n",
    "                scores[w]=qsvr.score(X_test,y_test)\n",
    "                print(\"\\t fitting \", w,\"score \", scores[w])\n",
    "                w+=1\n",
    "            if scores.mean()>bestScore:\n",
    "                    bestScore=scores.mean()\n",
    "                    print(\"--------------------BEST SCORE------------------------\")\n",
    "            print(\"%0.3f precision con desviacion estandar %0.3f\\n\" % (scores.mean(), scores.std()))\n",
    "                "
   ]
  },
  {
   "cell_type": "code",
   "execution_count": 72,
   "id": "1d3745aa-668d-441c-899e-84e7c85722ce",
   "metadata": {},
   "outputs": [
    {
     "name": "stderr",
     "output_type": "stream",
     "text": [
      "/opt/conda/lib/python3.8/site-packages/numpy/core/_asarray.py:102: ComplexWarning: Casting complex values to real discards the imaginary part\n",
      "  return array(a, dtype, copy=False, order=order)\n"
     ]
    },
    {
     "name": "stdout",
     "output_type": "stream",
     "text": [
      "asd  0\n",
      "1\n"
     ]
    },
    {
     "name": "stderr",
     "output_type": "stream",
     "text": [
      "/opt/conda/lib/python3.8/site-packages/numpy/core/_asarray.py:102: ComplexWarning: Casting complex values to real discards the imaginary part\n",
      "  return array(a, dtype, copy=False, order=order)\n"
     ]
    },
    {
     "name": "stdout",
     "output_type": "stream",
     "text": [
      "asd  1\n",
      "2\n"
     ]
    },
    {
     "name": "stderr",
     "output_type": "stream",
     "text": [
      "/opt/conda/lib/python3.8/site-packages/numpy/core/_asarray.py:102: ComplexWarning: Casting complex values to real discards the imaginary part\n",
      "  return array(a, dtype, copy=False, order=order)\n"
     ]
    },
    {
     "name": "stdout",
     "output_type": "stream",
     "text": [
      "asd  2\n",
      "3\n"
     ]
    },
    {
     "name": "stderr",
     "output_type": "stream",
     "text": [
      "/opt/conda/lib/python3.8/site-packages/numpy/core/_asarray.py:102: ComplexWarning: Casting complex values to real discards the imaginary part\n",
      "  return array(a, dtype, copy=False, order=order)\n"
     ]
    },
    {
     "name": "stdout",
     "output_type": "stream",
     "text": [
      "asd  3\n",
      "4\n"
     ]
    },
    {
     "name": "stderr",
     "output_type": "stream",
     "text": [
      "/opt/conda/lib/python3.8/site-packages/numpy/core/_asarray.py:102: ComplexWarning: Casting complex values to real discards the imaginary part\n",
      "  return array(a, dtype, copy=False, order=order)\n"
     ]
    },
    {
     "name": "stdout",
     "output_type": "stream",
     "text": [
      "asd  4\n",
      "5\n",
      "0.912 precision con desviacion estandar 0.025\n",
      "\n"
     ]
    }
   ],
   "source": [
    "#feature_map=PauliFeatureMap(feature_dimension=2,reps=8,entanglement='linear',paulis=['X'])\n",
    "\n",
    "#backend = QuantumInstance(BasicAer.get_backend('qasm_simulator'), shots=1024,\n",
    "                                #seed_simulator=seed, seed_transpiler=seed)\n",
    "feature_map=PauliFeatureMap(feature_dimension=2,reps=2,entanglement='linear',paulis=['X'])    \n",
    "backend = QuantumInstance(BasicAer.get_backend('qasm_simulator'), shots=1024, seed_simulator=seed, seed_transpiler=seed)\n",
    "#Crear quantum kernel con el mapa de caracteristicas y el simulador\n",
    "kernel = QuantumKernel(feature_map=feature_map, quantum_instance=backend)\n",
    "#qsvm = QSVM(feature_map, training_input, test_input, multiclass_extension=AllPairs())\n",
    "qsvr = QSVR(quantum_kernel = kernel)\n",
    "scores=np.empty(5)\n",
    "w=0\n",
    "for train_index, test_index in kf.split(X):\n",
    "                #X_train, X_test = np.asarray(X[train_index], dtype=np.float64, order='C'),np.asarray(X[test_index], dtype=np.float64, order='C')\n",
    "                #y_train, y_test = np.asarray(y[train_index], dtype=np.float64, order='C'),np.asarray(y[test_index], dtype=np.float64, order='C')\n",
    "                X_train, X_test = X[train_index],X[test_index]\n",
    "                y_train, y_test = y[train_index],y[test_index]\n",
    "                try:\n",
    "                    qsvr.fit(X_train, y_train)\n",
    "                except Exception:\n",
    "                    print(\"Runtime error\")\n",
    "                print(\"asd \",w)\n",
    "                scores[w]=qsvr.score(X_test,y_test)\n",
    "                w+=1\n",
    "                print(w)\n",
    "print(\"%0.3f precision con desviacion estandar %0.3f\\n\" % (scores.mean(), scores.std()))"
   ]
  },
  {
   "cell_type": "markdown",
   "id": "17a81c1d-abde-4b44-a79d-db01a972846f",
   "metadata": {},
   "source": [
    "## Prediccion del modelo entrenado"
   ]
  },
  {
   "cell_type": "code",
   "execution_count": 83,
   "id": "b41359d0",
   "metadata": {},
   "outputs": [
    {
     "name": "stdout",
     "output_type": "stream",
     "text": [
      "[0. 0. 0. 0. 0.]\n",
      "Indice:  0\n",
      "Indice:  100\n",
      "Indice:  200\n",
      "Indice:  300\n",
      "Indice:  400\n",
      "Indice:  500\n",
      "Indice:  600\n",
      "Indice:  700\n",
      "Indice:  800\n",
      "Indice:  900\n",
      "Indice:  1000\n",
      "Indice:  1100\n",
      "Indice:  1200\n",
      "Indice:  1300\n",
      "Indice:  1400\n",
      "Indice:  1500\n",
      "Indice:  1600\n",
      "Indice:  1700\n",
      "Indice:  1800\n",
      "Indice:  1900\n",
      "Indice:  2000\n",
      "Indice:  2100\n",
      "Indice:  2200\n",
      "Indice:  2300\n",
      "Indice:  2400\n",
      "Indice:  2500\n",
      "Indice:  2600\n",
      "Indice:  2700\n",
      "Indice:  2800\n",
      "Indice:  2900\n",
      "Indice:  3000\n",
      "Indice:  3100\n",
      "Indice:  3200\n",
      "Indice:  3300\n",
      "Indice:  3400\n",
      "Indice:  3500\n",
      "Indice:  3600\n",
      "Indice:  3700\n",
      "Indice:  3800\n",
      "Indice:  3900\n",
      "Indice:  4000\n",
      "Indice:  4100\n",
      "Indice:  4200\n",
      "Indice:  4300\n",
      "Indice:  4400\n",
      "Indice:  4500\n",
      "Indice:  4600\n",
      "Indice:  4700\n",
      "Indice:  4800\n",
      "Indice:  4900\n",
      "Indice:  5000\n",
      "Indice:  5100\n",
      "Indice:  5200\n",
      "Indice:  5300\n",
      "Indice:  5400\n",
      "Indice:  5500\n",
      "Indice:  5600\n",
      "Indice:  5700\n",
      "Indice:  5800\n",
      "Indice:  5900\n",
      "Indice:  6000\n",
      "Indice:  6100\n",
      "Indice:  6200\n",
      "Indice:  6300\n",
      "Indice:  6400\n",
      "Indice:  6500\n",
      "Indice:  6600\n",
      "Indice:  6700\n"
     ]
    }
   ],
   "source": [
    "#Eliminar los casos escogidos para la fase de fitting\n",
    "#newData=[element for i, element in enumerate(qsvmData) if i not in ind]\n",
    "#print(\"Tamaño de la nueva base de datos: {}, y de la original: {}\".format(len(newData),len(qsvmData)))\n",
    "output=np.zeros(len(qsvmData))\n",
    "print(output[0:5])\n",
    "for i in range (0,len(qsvmData),100):\n",
    "    #Separar el ultimo caso con menos de 100 datos\n",
    "    if i==6700:\n",
    "        #output[i:i+87]=qsvr.predict(qsvmData[i:i+87,1:3])\n",
    "        #output[i:i+87]=svr.predict(qsvmData[i:i+87,1:3])\n",
    "        #output[i:i+87]=svr.predict(qsvmData[i:i+87,1:15].real)\n",
    "        output[i:i+87]=svr.predict(data.to_numpy()[i:i+87,1:15].real)\n",
    "    else:\n",
    "        #output[i:i+100]=qsvr.predict(qsvmData[i:i+100,1:3])    \n",
    "        #output[i:i+100]=svr.predict(qsvmData[i:i+100,1:3])\n",
    "        #output[i:i+100]=svr.predict(qsvmData[i:i+100,1:15].real)\n",
    "        output[i:i+100]=svr.predict(data.to_numpy()[i:i+100,1:15].real)\n",
    "    print(\"Indice: \", i)\n",
    "\n",
    "#print(qsvr.predict(X).head(n=20))\n",
    "#print(\"Real values: \\n\", y[0:21])"
   ]
  },
  {
   "cell_type": "markdown",
   "id": "1c52e2f1",
   "metadata": {},
   "source": [
    "## Guardar predicciones en un fichero"
   ]
  },
  {
   "cell_type": "code",
   "execution_count": 75,
   "id": "c25e33c8",
   "metadata": {},
   "outputs": [
    {
     "name": "stdout",
     "output_type": "stream",
     "text": [
      "[1. 1. 1. 1. 1.]\n"
     ]
    }
   ],
   "source": [
    "print(output[0:5])\n",
    "np.savetxt('prediccionesFULLCLASIC-14DimsOneClassSVM.csv', output, delimiter=',', fmt='%1.8f')#Escribir en fichero con 8 decimales de precision\n",
    "#np.savetxt('prediccionesQPCA_NormalSVM_4DIM.csv', output, delimiter=',', fmt='%1.8f')#Escribir en fichero con 8 decimales de precision"
   ]
  },
  {
   "cell_type": "code",
   "execution_count": 37,
   "id": "f03d1496",
   "metadata": {},
   "outputs": [
    {
     "name": "stdout",
     "output_type": "stream",
     "text": [
      "[-1. -1. -1. -1. -1.]\n"
     ]
    }
   ],
   "source": [
    "#output=pd.read_csv('predicciones.csv', sep=',', header=None).to_numpy().reshape(-1) #leer fichero de predicciones\n",
    "output=pd.read_csv('prediccionesFULLCLASIC-14DimsOneClassSVM.csv', sep=',', header=None).to_numpy().reshape(-1) #leer fichero de predicciones\n",
    "#output=pd.read_csv('prediccionesQPCA_QuantumSVM_4DIM_PFM-2q-2r-LIN-X_FS_CORR.csv', sep=',', header=None).to_numpy().reshape(-1) \n",
    "print(output[0:5])"
   ]
  },
  {
   "cell_type": "code",
   "execution_count": 84,
   "id": "3e206396-ffba-4e08-b130-a28703559a47",
   "metadata": {},
   "outputs": [
    {
     "name": "stdout",
     "output_type": "stream",
     "text": [
      "[-0.5355175  -0.53267941 -0.53260168 -0.53357824  0.14610246  0.05576107\n",
      "  0.04413732  0.03664198  0.03440042  0.03737572]\n"
     ]
    }
   ],
   "source": [
    "print(output[0:10])"
   ]
  },
  {
   "cell_type": "code",
   "execution_count": 84,
   "id": "4249de44",
   "metadata": {},
   "outputs": [
    {
     "name": "stdout",
     "output_type": "stream",
     "text": [
      "[0.7087381264775074, 0.8668200836988413, 0.8668199306330561, 0.8668200158116639, 1.1959787200442265]\n",
      "Error total:  7815.491358171363\n",
      "Error maximo:  82.20605098473526\n",
      "Media error:  1.1515384349744162\n"
     ]
    }
   ],
   "source": [
    "#Calcular el error: sqrt((a-b)^2)\n",
    "errors = [math.sqrt((qsvmData[i,0]-output[i])**2) for i in range(len(qsvmData[:,0]))]\n",
    "print(errors[0:5])\n",
    "print(\"Error total: \", sum(errors))\n",
    "print(\"Error maximo: \", max(errors))\n",
    "print(\"Media error: \", sum(errors)/len(errors))"
   ]
  },
  {
   "cell_type": "code",
   "execution_count": 85,
   "id": "2f99826b",
   "metadata": {},
   "outputs": [
    {
     "name": "stdout",
     "output_type": "stream",
     "text": [
      "            origh            resph  mehodCount  uriCount  useragentCount  \\\n",
      "0  192.168.202.79  192.168.229.251         200       200             200   \n",
      "1  192.168.202.79  192.168.229.153           1         1               1   \n",
      "2  192.168.202.79  192.168.229.101           1         1               1   \n",
      "3  192.168.202.79  192.168.229.156           1         1               1   \n",
      "4  192.168.202.76   192.168.28.102           4         4               4   \n",
      "\n",
      "  requestbodylen_Mean responsebodylenMean   Ano  Mes  dia  diasemana  hora  \\\n",
      "0            0.000000         155.935.000  2012    3   16          6    12   \n",
      "1            0.000000         326.000.000  2012    3   16          6    12   \n",
      "2            0.000000         238.000.000  2012    3   16          6    12   \n",
      "3            0.000000         287.000.000  2012    3   16          6    12   \n",
      "4            0.000000         169.000.000  2012    3   16          6    12   \n",
      "\n",
      "   minuto  RecordCount               Fecha     Error   Color  Tipo  \n",
      "0      30          200 2012-03-16 12:30:00  0.708738  orange     1  \n",
      "1      30            1 2012-03-16 12:30:00  0.866820  orange     1  \n",
      "2      30            1 2012-03-16 12:30:00  0.866820  orange     1  \n",
      "3      30            1 2012-03-16 12:30:00  0.866820  orange     1  \n",
      "4      42            4 2012-03-16 12:42:00  1.195979  orange     1  \n"
     ]
    }
   ],
   "source": [
    "#Crear columna de fecha (uniendo las columnas de año, mes, dia, hora y minuto)\n",
    "OriginalData[\"Fecha\"] = pd.to_datetime(OriginalData[\"Ano\"].astype(str) +'-'+ OriginalData[\"Mes\"].astype(str) +'-'+ OriginalData[\"dia\"].astype(str) +' '+ OriginalData[\"hora\"].astype(str) +':'+ OriginalData[\"minuto\"].astype(str))  \n",
    "#Convertir el vector de errores en columna de pandas\n",
    "OriginalData[\"Error\"] = pd.Series(errors)\n",
    "print(OriginalData.head(5))"
   ]
  },
  {
   "cell_type": "code",
   "execution_count": 86,
   "id": "07ecce6b",
   "metadata": {},
   "outputs": [
    {
     "name": "stdout",
     "output_type": "stream",
     "text": [
      "2012-03-16 12:30:00 2012-03-17 20:46:00\n"
     ]
    },
    {
     "data": {
      "image/png": "[encoded data removed]",
      "text/plain": [
       "<Figure size 1152x900 with 1 Axes>"
      ]
     },
     "metadata": {
      "needs_background": "light"
     },
     "output_type": "display_data"
    }
   ],
   "source": []
  },
  {
   "cell_type": "markdown",
   "id": "67b94e4a",
   "metadata": {},
   "source": [
    "# Pruebas eigenvalues a mano"
   ]
  },
  {
   "cell_type": "code",
   "execution_count": 8,
   "id": "3d5dc4c1",
   "metadata": {},
   "outputs": [],
   "source": [
    "#Función para calcular el eigenvalue correspondiente al eigenvector v, \n",
    "#la matriz de covarianza covmat y el conjunto de datos data\n",
    "#Devuelve el eigenvector y la matriz de covarianza actualizada\n",
    "def eigenvalue(v, covmat, data):    \n",
    "    #Calcular las proyecciones de cada punto al eigenvector: ((P*u1)/(u1*u1)*u1\n",
    "    projections=data.to_numpy().dot(v)/np.dot(v,v)\n",
    "    #Multiplicar vector con todos los escalares por el vector unitario (primer eigenvector)\n",
    "    pointProjections=np.outer(projections,v)\n",
    "    #Calcular las distancias de todos los puntos obtenidos al origen\n",
    "    zero=np.zeros(data.shape[1])\n",
    "    #Calcular las distancias al cuadrado de todos los puntos projectados y el origen para obtener el eigenvalue\n",
    "    distance=np.linalg.norm(pointProjections - zero)**2\n",
    "    #Dividir el eigenalue entre n-1 para obtener la variacion del componente pc1\n",
    "    eigenvalue=distance/6786\n",
    "    #Actualzar matriz de covarianza, B=A-lambda1*(v*v^T)/(v*v)^2\n",
    "    cmatUpdated=covmat-eigenvalue*np.outer(v,v)/(np.dot(v,v)**2)\n",
    "    \n",
    "    #Devolver el eigenvalue obtenido y la matriz de covarianza actualizada\n",
    "    return round(eigenvalue,8), cmatUpdated\n",
    "\n",
    "#xd, c=eigenvalue(eigenvec[:,0],cmat,fsData)"
   ]
  },
  {
   "cell_type": "code",
   "execution_count": 78,
   "id": "bd8dc7b8",
   "metadata": {},
   "outputs": [
    {
     "name": "stdout",
     "output_type": "stream",
     "text": [
      "[[-1.59562714e-02  3.62457382e-02  1.43331621e-01  1.43331621e-01\n",
      "   1.43331621e-01 -2.62985527e-03 -2.72529531e-04 -0.00000000e+00\n",
      "  -0.00000000e+00 -2.17324013e-02 -2.17324013e-02  1.11327371e-02\n",
      "   3.71290116e-03  1.43331621e-01]\n",
      " [-7.29602834e-03  1.65734166e-02  6.55385927e-02  6.55385927e-02\n",
      "   6.55385927e-02 -1.20250516e-03 -1.24614525e-04 -0.00000000e+00\n",
      "  -0.00000000e+00 -9.93717219e-03 -9.93717219e-03  5.09046025e-03\n",
      "   1.69772947e-03  6.55385927e-02]\n",
      " [-7.29603673e-03  1.65734357e-02  6.55386680e-02  6.55386680e-02\n",
      "   6.55386680e-02 -1.20250654e-03 -1.24614669e-04 -0.00000000e+00\n",
      "  -0.00000000e+00 -9.93718361e-03 -9.93718361e-03  5.09046610e-03\n",
      "   1.69773142e-03  6.55386680e-02]\n",
      " [-7.29603206e-03  1.65734251e-02  6.55386261e-02  6.55386261e-02\n",
      "   6.55386261e-02 -1.20250577e-03 -1.24614589e-04 -0.00000000e+00\n",
      "  -0.00000000e+00 -9.93717725e-03 -9.93717725e-03  5.09046284e-03\n",
      "   1.69773033e-03  6.55386261e-02]\n",
      " [ 1.07363508e-02 -2.43883393e-02 -9.64422405e-02 -9.64422405e-02\n",
      "  -9.64422405e-02  1.76952673e-03  1.83374460e-04  0.00000000e+00\n",
      "   0.00000000e+00  1.46228826e-02  1.46228826e-02 -7.49078323e-03\n",
      "  -2.49826594e-03 -9.64422405e-02]]\n"
     ]
    }
   ],
   "source": [
    "#Calcular las proyecciones de cada punto al eigenvector: ((P*u1)/(u1*u1)*u1\n",
    "v=eigenvec[:,0].real\n",
    "#Metodo 1 (apply mas lento):\n",
    "#pointProjections=pd.DataFrame(data.apply(lambda x: (np.dot(x,v)/np.dot(v,v))*v, axis=1))\n",
    "#print(pointProjections.head(5))\n",
    "\n",
    "#Metodo 2: \n",
    "projections=data.to_numpy().dot(v)/np.dot(v,v)\n",
    "#Multiplicar vector con todos los escalares por el vector unitario (primer eigenvector)\n",
    "pointProjections=np.outer(projections,v)\n",
    "print(pointProjections[0:5,:])"
   ]
  },
  {
   "cell_type": "code",
   "execution_count": 11,
   "id": "646c563c",
   "metadata": {},
   "outputs": [
    {
     "name": "stdout",
     "output_type": "stream",
     "text": [
      "4.074108013728111\n"
     ]
    }
   ],
   "source": [
    "#Calcular las distancias de todos los puntos obtenidos al origen\n",
    "zero=np.zeros(data.shape[1])\n",
    "#Calcular las distancias al cuadrado de todos los puntos projectados y el origen para obtener el eigenvalue\n",
    "distance=np.linalg.norm(pointProjections - zero)**2\n",
    "#Dividir el eigenvalue entre n-1 para obtener la variacion del componente pc1\n",
    "eigenvalue1=distance/6786\n",
    "print(eigenvalue1)"
   ]
  },
  {
   "cell_type": "code",
   "execution_count": 46,
   "id": "1faaae48",
   "metadata": {},
   "outputs": [
    {
     "name": "stdout",
     "output_type": "stream",
     "text": [
      "[[ 1.00014736 -0.09305641]\n",
      " [-0.09305641  1.00014736]]\n",
      "[[ 0.98792013 -0.06528143]\n",
      " [-0.06528143  0.93705466]]\n"
     ]
    }
   ],
   "source": [
    "#Actualzar matriz de covarianza, B=A-lambda1*(v*v^T)/(v*v)^2\n",
    "cmatUpdated=cmat-eigenvalue1*np.outer(v,v)/(np.dot(v,v)**2)\n",
    "print(cmat[0:2,0:2])\n",
    "print(cmatUpdated[0:2,0:2])"
   ]
  },
  {
   "cell_type": "code",
   "execution_count": 50,
   "id": "12de84cb",
   "metadata": {},
   "outputs": [
    {
     "name": "stdout",
     "output_type": "stream",
     "text": [
      "Mayor eigenvalue despues de aplicar formula:  2.081786773762993\n",
      "Segundo mayor eigenvalue antes de aplicar formula:  2.0817867737629974\n"
     ]
    }
   ],
   "source": [
    "eigenval2,eigenvec2 = np.linalg.eig(cmatUpdated)\n",
    "\n",
    "#Ordenar eigenvalores y eigenvectores de mayor a menor\n",
    "index2 = eigenval2.argsort()[::-1]\n",
    "eigenval2=eigenval2[index2]\n",
    "eigenvec2=eigenvec2[:,index2]\n",
    "print(\"Mayor eigenvalue despues de aplicar formula: \",eigenval2.real[0])\n",
    "print(\"Segundo mayor eigenvalue antes de aplicar formula: \",eigenval.real[1])\n"
   ]
  },
  {
   "cell_type": "code",
   "execution_count": null,
   "id": "1e6c7880",
   "metadata": {},
   "outputs": [],
   "source": [
    "#Matriz de covarianza de los datos\n",
    "cmat = np.cov(data, rowvar=False)\n",
    "#print(\"Matriz de covarianza: \\n\",cmat.head(n=5)\n",
    "\n",
    "#Calcular eigenvalores y eigenvectores\n",
    "eigenval,eigenvec = np.linalg.eig(cmat)\n",
    "\n",
    "#Ordenar eigenvalores y eigenvectores de mayor a menor\n",
    "index = eigenval.argsort()[::-1]\n",
    "eigenval=eigenval[index]\n",
    "eigenvec=eigenvec[:,index]"
   ]
  },
  {
   "cell_type": "markdown",
   "id": "a2409c83",
   "metadata": {},
   "source": [
    "# Circuito 4 qubits"
   ]
  },
  {
   "cell_type": "code",
   "execution_count": 16,
   "id": "73a9fba0",
   "metadata": {},
   "outputs": [
    {
     "name": "stdout",
     "output_type": "stream",
     "text": [
      "ibmq_qasm_simulator, lista de espera: 4, (simulador) 32 qubits\n",
      "ibmq_armonk, lista de espera: 23, 1 qubits\n",
      "ibmq_santiago, lista de espera: 38, 5 qubits\n",
      "ibmq_bogota, lista de espera: 4, 5 qubits\n",
      "ibmq_lima, lista de espera: 4, 5 qubits\n",
      "ibmq_belem, lista de espera: 3, 5 qubits\n",
      "ibmq_quito, lista de espera: 0, 5 qubits\n",
      "simulator_statevector, lista de espera: 2, (simulador) 32 qubits\n",
      "simulator_mps, lista de espera: 2, (simulador) 100 qubits\n",
      "simulator_extended_stabilizer, lista de espera: 2, (simulador) 63 qubits\n",
      "simulator_stabilizer, lista de espera: 2, (simulador) 5000 qubits\n",
      "ibmq_manila, lista de espera: 6, 5 qubits\n",
      "\n",
      " El backend real con menor cola de espera:  ibmq_quito\n"
     ]
    }
   ],
   "source": [
    "m = sys.maxsize\n",
    "minIndex=-1\n",
    "for i,b in enumerate(provider.backends()):\n",
    "    try:\n",
    "        #qcount=b.configuration().n_qubits\n",
    "        qcount=len(b.properties().qubits)\n",
    "    except:\n",
    "        qcount=\"(simulador) \"+ str(b.configuration().n_qubits)\n",
    "    if qcount==5 and b.status().pending_jobs<m: \n",
    "        m = b.status().pending_jobs\n",
    "        minIndex=i\n",
    "    print(\"{}, lista de espera: {}, {} qubits\".format(b.name(), b.status().pending_jobs, qcount))\n",
    "\n",
    "backend=provider.backends()[minIndex]\n",
    "print(\"\\n El backend real con menor cola de espera: \", backend.name())"
   ]
  },
  {
   "cell_type": "code",
   "execution_count": 10,
   "id": "8a716034",
   "metadata": {},
   "outputs": [
    {
     "name": "stdout",
     "output_type": "stream",
     "text": [
      "Matriz de covarianza: \n",
      " [[ 1.00014736  0.         -0.01996658  0.02584158]\n",
      " [ 0.          0.          0.          0.        ]\n",
      " [-0.01996658  0.          1.00014736 -0.00782766]\n",
      " [ 0.02584158  0.         -0.00782766  1.00014736]]\n",
      "Eigenvalores: \n",
      " [1.0369 0.9926 0.971  0.    ]\n",
      "Eigenvectores: \n",
      " [[ 0.6643  0.0676  0.7444  0.    ]\n",
      " [ 0.      0.      0.      1.    ]\n",
      " [-0.4829  0.799   0.3584  0.    ]\n",
      " [ 0.5706  0.5976 -0.5633  0.    ]]\n"
     ]
    }
   ],
   "source": [
    "#Matriz de covarianza de los datos\n",
    "cmat = np.cov(fsData, rowvar=False)\n",
    "print(\"Matriz de covarianza: \\n\",cmat)\n",
    "\n",
    "#Calcular eigenvalores y eigenvectores\n",
    "eigenval,eigenvec = np.linalg.eig(cmat)\n",
    "\n",
    "#Ordenar eigenvalores y eigenvectores de mayor a menor\n",
    "index = eigenval.argsort()[::-1]\n",
    "eigenval=eigenval[index]\n",
    "eigenvec=eigenvec[:,index]\n",
    "\n",
    "print(\"Eigenvalores: \\n\",np.round(eigenval.real,4))\n",
    "print(\"Eigenvectores: \\n\",np.round(eigenvec,4))"
   ]
  },
  {
   "cell_type": "code",
   "execution_count": 32,
   "id": "c5379fbf",
   "metadata": {},
   "outputs": [
    {
     "name": "stdout",
     "output_type": "stream",
     "text": [
      "[[ 0.5        -0.00391326]\n",
      " [-0.00391326  0.5       ]]\n",
      "Eigenvalores: \n",
      " [0.5039 0.4961]\n",
      "Eigenvectores: \n",
      " [[ 0.7071  0.7071]\n",
      " [-0.7071  0.7071]]\n"
     ]
    }
   ],
   "source": [
    "p=cmat/cmat.trace()\n",
    "print(p)\n",
    "eigenval,eigenvec = np.linalg.eig(p)\n",
    "\n",
    "#Ordenar eigenvalores y eigenvectores de mayor a menor\n",
    "index = eigenval.argsort()[::-1]\n",
    "eigenval=eigenval[index]\n",
    "eigenvec=eigenvec[:,index]\n",
    "\n",
    "print(\"Eigenvalores: \\n\",np.round(eigenval.real,4))\n",
    "print(\"Eigenvectores: \\n\",np.round(eigenvec,4))"
   ]
  },
  {
   "cell_type": "code",
   "execution_count": 18,
   "id": "3563f04f",
   "metadata": {
    "scrolled": true
   },
   "outputs": [
    {
     "name": "stdout",
     "output_type": "stream",
     "text": [
      "Iteracion  0\n",
      "Eigenvector obtenido:  [0.738180316481494, 0.2447043921161982, 0.6043752651108782, 0.17303213505149567]\n",
      "Iteracion  1\n",
      "Eigenvector obtenido:  [0.6631110857591943, 0.44162819315902807, 0.4874306642818746, 0.3572948005052482]\n",
      "Iteracion  2\n",
      "Eigenvector obtenido:  [0.7308635239791557, 0.4244104423815282, 0.47286624374346037, 0.24922239313961342]\n",
      "Iteracion  3\n",
      "Eigenvector obtenido:  [0.7172815023567723, 0.20851441405707477, 0.6138498140448513, 0.2553769592276246]\n",
      "Iteracion  4\n",
      "Eigenvector obtenido:  [0.695221787153807, 0.3651483716701107, 0.5400617248673217, 0.30276503540974914]\n",
      "Iteracion  5\n",
      "Eigenvector obtenido:  [0.7486251134176307, 0.3779644730092272, 0.4322189107537832, 0.33149677206589795]\n",
      "Iteracion  6\n",
      "Eigenvector obtenido:  [0.6697746866231371, 0.47360222277831504, 0.5206035318581478, 0.23680111138915752]\n",
      "Iteracion  7\n",
      "Eigenvector obtenido:  [0.7879816195062792, 0.3877199986918664, 0.4277926319464986, 0.2138963159732493]\n",
      "Iteracion  8\n",
      "Eigenvector obtenido:  [0.7197121726848806, 0.5194075207983327, 0.3648198530505928, 0.28131244310816045]\n",
      "Iteracion  9\n",
      "Eigenvector obtenido:  [0.7214900866993804, 0.2027212135198458, 0.6410607647560324, 0.1655211777204736]\n",
      "Iteracion  10\n",
      "Eigenvector obtenido:  [0.6633249580710799, 0.47958315233127197, 0.469041575982343, 0.33166247903553997]\n",
      "Iteracion  11\n",
      "Eigenvector obtenido:  [0.7004041959724749, 0.4952605565436486, 0.45557345160942025, 0.23791547571544325]\n",
      "Iteracion  12\n",
      "Eigenvector obtenido:  [0.7762500258061847, 0.408248290463863, 0.4385290096535146, 0.19611613513818404]\n",
      "Iteracion  13\n",
      "Eigenvector obtenido:  [0.8622186802845198, 0.3535533905932738, 0.30348848933344197, 0.19867985355975656]\n",
      "Iteracion  14\n",
      "Eigenvector obtenido:  [0.758207904900193, 0.5293328222536138, 0.30296441971546195, 0.23052135826937487]\n",
      "Iteracion  15\n",
      "Eigenvector obtenido:  [0.8070787735958559, 0.4593573492521118, 0.34534917843520574, 0.13545709229571928]\n",
      "Iteracion  16\n",
      "Eigenvector obtenido:  [0.7493587001820033, 0.4019184762342502, 0.48832523840319625, 0.19611613513818404]\n",
      "Iteracion  17\n",
      "Eigenvector obtenido:  [0.8476122945909572, 0.29559878344928797, 0.4062616689884986, 0.1706640371965723]\n",
      "Iteracion  18\n",
      "Eigenvector obtenido:  [0.7858029898122139, 0.41816669879145335, 0.3911591293589788, 0.2337622911060922]\n",
      "Iteracion  19\n",
      "Eigenvector obtenido:  [0.6633249580710799, 0.41231056256176607, 0.5385164807134504, 0.31622776601683794]\n"
     ]
    }
   ],
   "source": [
    "#Inicializar vector de estado (superposicion)\n",
    "#stateVec = [1/np.sqrt(2), 1/np.sqrt(2)]\n",
    "#stateVec2 = [1/np.sqrt(2), 1/np.sqrt(2)]\n",
    "stateVec=[1/2,1/2,1/2,1/2]\n",
    "#Repetir proceso para mayor precision\n",
    "for i in range(0, 20):\n",
    "    #Crear circuito con 5 qubits\n",
    "    circuit = QuantumCircuit(5,5)\n",
    "    #Inicializacion qubit 4 en estado de superposicion\n",
    "    #circuit.initialize(stateVec, 4)\n",
    "    #circuit.initialize(stateVec2, 5)\n",
    "    circuit.initialize(stateVec, [3,4])\n",
    "    #Aplicar puertas de hadamard a qubits 0,1,2,3 para aplicar Quantum Amplitude Estimation sobre la matriz unitaria\n",
    "    circuit.h(0)\n",
    "    circuit.h(1)\n",
    "    circuit.h(2)\n",
    "    circuit.h(3)\n",
    "    #Calcular rotaciones de la puerta de la matriz unitaria\n",
    "    (theta, phi, lamb) = qiskit.quantum_info.OneQubitEulerDecomposer(basis='U3').angles(expm(2*1j*np.pi*p))\n",
    "    #Aplicar rotaciones\n",
    "    circuit.cu(theta,phi,lamb,0, 2, [3,4])\n",
    "    #Calcular rotaciones de la puerta de la matriz unitaria aplicada dos veces, Quantum Amplitude Estimation\n",
    "    (theta2, phi2, lamb2) = qiskit.quantum_info.OneQubitEulerDecomposer(basis='U3').angles(expm(2*1j*np.pi*p*2))\n",
    "    #Aplicar rotaciones\n",
    "    circuit.cu(theta2,phi2,lamb2,0, 1, [3,4])\n",
    "    #Calcular rotaciones de la puerta de la matriz unitaria aplicada cuatro veces, Quantum Amplitude Estimation\n",
    "    (theta3, phi3, lamb3) = qiskit.quantum_info.OneQubitEulerDecomposer(basis='U3').angles(expm(2*1j*np.pi*p*4))\n",
    "    #Aplicar rotaciones\n",
    "    circuit.cu(theta3,phi3,lamb3,0, 0, [3,4])\n",
    "    \n",
    "    #Aplicar Quantum Fourier Transform en los qubits 0,1,2,3\n",
    "    circuit.h(0)\n",
    "    circuit.crz(-np.pi/2,0,1)\n",
    "    circuit.h(1)\n",
    "    circuit.crz(-np.pi/2,1,2)\n",
    "    circuit.crz(-np.pi/4,0,2)\n",
    "    circuit.h(2)\n",
    "    \n",
    "    #Medir los qubits\n",
    "    circuit.measure([0,1,2,3,4], [0,1,2,3,4])\n",
    "    #Ejecutar circuito en el simulador y guardar resultados obtenidos\n",
    "    #results = execute(circuit, backend=BasicAer.get_backend('qasm_simulator'), shots=4096).result().get_counts()\n",
    "    results = execute(circuit, backend=backend, shots=4096).result().get_counts()\n",
    "    #print(results)\n",
    "    denominator = results['00111'] + results['01111'] + results['10111'] + results['11111']\n",
    "    \n",
    "    #Calcular coeficientes del eigenvector\n",
    "    alpha1 = np.sqrt(results['00111'] / denominator)\n",
    "    alpha2 = np.sqrt(results['01111'] / denominator)\n",
    "    alpha3 = np.sqrt(results['10111'] / denominator)\n",
    "    alpha4 = np.sqrt(results['11111'] / denominator)\n",
    "    \n",
    "    #Guardar nuevo estado inicial para la siguiente ejecucion\n",
    "    stateVec = [alpha1, alpha2, alpha3, alpha4]\n",
    "    #tateVec2 = [alpha3, alpha4]\n",
    "    print(\"Iteracion \",i)\n",
    "    print(\"Eigenvector obtenido: \",stateVec)\n",
    "#print(\"Eigenvector obtenido: \",stateVec, stateVec2)"
   ]
  },
  {
   "cell_type": "markdown",
   "id": "af88584b",
   "metadata": {},
   "source": [
    "## Prueba sin loop"
   ]
  },
  {
   "cell_type": "code",
   "execution_count": 19,
   "id": "bdc2030a",
   "metadata": {},
   "outputs": [
    {
     "name": "stdout",
     "output_type": "stream",
     "text": [
      "Traceback \u001b[1;36m(most recent call last)\u001b[0m:\n",
      "\u001b[1;36m  File \u001b[1;32m\"/tmp/ipykernel_39/749728415.py\"\u001b[1;36m, line \u001b[1;32m51\u001b[1;36m, in \u001b[1;35m<module>\u001b[1;36m\u001b[0m\n",
      "\u001b[1;33m    denominator = results['001111'] + results['101111'] + results['011111'] + results['111111']\u001b[0m\n",
      "\u001b[1;31mKeyError\u001b[0m\u001b[1;31m:\u001b[0m '101111'\n",
      "\n",
      "Use %tb to get the full traceback.\n"
     ]
    },
    {
     "data": {
      "text/html": [
       "\n",
       "<style>\n",
       ".button {\n",
       "  border: none;\n",
       "  color: white;\n",
       "  padding: 4px 8px;\n",
       "  text-align: center;\n",
       "  text-decoration: none;\n",
       "  display: inline-block;\n",
       "  font-size: 12px;\n",
       "  margin: 4px 2px;\n",
       "  transition-duration: 0.2s;\n",
       "  cursor: pointer;\n",
       "}\n",
       ".iqx-button {\n",
       "  background-color: #0f62fe; \n",
       "  color: white; \n",
       "}\n",
       ".iqx-button:hover {\n",
       "  background-color: #0043ce;\n",
       "  color: white;\n",
       "}\n",
       "</style>\n",
       "<a href=\"https://stackoverflow.com/search?q=KeyError: 101111\" target='_blank'><button class='button iqx-button'>Search for solution online</button></a>\n"
      ],
      "text/plain": [
       "<IPython.core.display.HTML object>"
      ]
     },
     "metadata": {},
     "output_type": "display_data"
    },
    {
     "data": {
      "image/png": "[encoded data removed]",
      "text/plain": [
       "<Figure size 504x360 with 1 Axes>"
      ]
     },
     "metadata": {
      "needs_background": "light"
     },
     "output_type": "display_data"
    }
   ],
   "source": [
    "stateVec = [1/np.sqrt(2), 1/np.sqrt(2)]\n",
    "stateVec2 = [1/np.sqrt(2), 1/np.sqrt(2)]\n",
    "#Crear circuito con 5 qubits\n",
    "circuit = QuantumCircuit(6,6)\n",
    "\n",
    "#Inicializacion qubit 4 en estado de superposicion\n",
    "circuit.initialize(stateVec, 4)\n",
    "circuit.initialize(stateVec2, 5)\n",
    "\n",
    "#Aplicar puertas de hadamard a qubits 0,1,2,3 para aplicar Quantum Amplitude Estimation sobre la matriz unitaria\n",
    "circuit.h(0)\n",
    "circuit.h(1)\n",
    "circuit.h(2)\n",
    "circuit.h(3)\n",
    "\n",
    "#Calcular rotaciones de la puerta de la matriz unitaria\n",
    "(theta, phi, lamb) = qiskit.quantum_info.OneQubitEulerDecomposer(basis='U3').angles(expm(2*1j*np.pi*p))\n",
    "#Aplicar rotaciones\n",
    "circuit.cu(theta,phi,lamb,0, 3, [4,5])\n",
    "#Calcular rotaciones de la puerta de la matriz unitaria aplicada dos veces, Quantum Amplitude Estimation\n",
    "(theta2, phi2, lamb2) = qiskit.quantum_info.OneQubitEulerDecomposer(basis='U3').angles(expm(2*1j*np.pi*p*2))\n",
    "#Aplicar rotaciones\n",
    "circuit.cu(theta2,phi2,lamb2,0, 2, [4,5])\n",
    "#Calcular rotaciones de la puerta de la matriz unitaria aplicada cuatro veces, Quantum Amplitude Estimation\n",
    "(theta3, phi3, lamb3) = qiskit.quantum_info.OneQubitEulerDecomposer(basis='U3').angles(expm(2*1j*np.pi*p*4))\n",
    "#Aplicar rotaciones\n",
    "circuit.cu(theta3,phi3,lamb3,0, 1, [4,5])\n",
    "#Calcular rotaciones de la puerta de la matriz unitaria aplicada ocho veces, Quantum Amplitude Estimation\n",
    "(theta4, phi4, lamb4) = qiskit.quantum_info.OneQubitEulerDecomposer(basis='U3').angles(expm(2*1j*np.pi*p*8))\n",
    "#Aplicar rotaciones\n",
    "circuit.cu(theta4,phi4,lamb4,0, 0, [4,5])\n",
    "\n",
    "#Aplicar Quantum Fourier Transform en los qubits 0,1,2,3\n",
    "circuit.h(0)\n",
    "circuit.crz(-np.pi/2,0,1)\n",
    "circuit.h(1)\n",
    "circuit.crz(-np.pi/2,1,2)\n",
    "circuit.crz(-np.pi/4,0,2)\n",
    "circuit.h(2)\n",
    "circuit.crz(-np.pi/2,2,3)\n",
    "circuit.crz(-np.pi/4,1,3)\n",
    "circuit.crz(-np.pi/8,0,3)\n",
    "circuit.h(3)\n",
    "\n",
    "#Medir los qubits\n",
    "circuit.measure([0,1,2,3,4,5], [0,1,2,3,4,5])\n",
    "#Ejecutar circuito en el simulador y guardar resultados obtenidos\n",
    "results = execute(circuit, backend=BasicAer.get_backend('qasm_simulator'), shots=10000).result().get_counts()\n",
    "plot_histogram(results)\n",
    "#denominator = results['000000'] + results['101001'] + results['000111'] + results['100111']\n",
    "denominator = results['001111'] + results['101111'] + results['011111'] + results['111111']  \n",
    "#Calcular coeficientes del eigenvector en proyeccion 1111 (00,01,10,11); segunda proyeccion en 1110 segundo eigenvec????? \n",
    "alpha1 = np.sqrt(results['001111'] / denominator)\n",
    "alpha2 = np.sqrt(results['101111'] / denominator)\n",
    "alpha3 = np.sqrt(results['011111'] / denominator)\n",
    "alpha4 = np.sqrt(results['111111'] / denominator)\n",
    "\n",
    "#Guardar nuevo estado inicial para la siguiente ejecucion\n",
    "stateVec = [alpha1, alpha2]\n",
    "stateVec2 = [alpha3, alpha4]\n",
    "\n",
    "print(\"Eigenvector obtenido: \", stateVec + stateVec2)"
   ]
  },
  {
   "cell_type": "code",
   "execution_count": 83,
   "id": "b5606d98",
   "metadata": {},
   "outputs": [
    {
     "data": {
      "image/png": "[encoded data removed]",
      "text/plain": [
       "<Figure size 1591.6x927.08 with 1 Axes>"
      ]
     },
     "execution_count": 83,
     "metadata": {},
     "output_type": "execute_result"
    },
    {
     "data": {
      "image/png": "[encoded data removed]",
      "text/plain": [
       "<Figure size 1591.6x927.08 with 1 Axes>"
      ]
     },
     "metadata": {},
     "output_type": "display_data"
    }
   ],
   "source": [
    "circuit.draw(output='mpl')"
   ]
  },
  {
   "cell_type": "code",
   "execution_count": 9,
   "id": "9e898acd-59fb-4668-a1dd-a1142cbc4de5",
   "metadata": {},
   "outputs": [],
   "source": [
    "def findBackend():\n",
    "    m = sys.maxsize\n",
    "    minIndex=-1\n",
    "    for i,b in enumerate(provider.backends()):\n",
    "        try:\n",
    "            #qcount=b.configuration().n_qubits\n",
    "            qcount=len(b.properties().qubits)\n",
    "        except:\n",
    "            qcount=\"(simulador) \"+ str(b.configuration().n_qubits)\n",
    "        if qcount==5 and b.status().pending_jobs<m and b.name()!='ibmq_bogota': \n",
    "            m = b.status().pending_jobs\n",
    "            minIndex=i\n",
    "        #print(\"{}, lista de espera: {}, {} qubits\".format(b.name(), b.status().pending_jobs, qcount))\n",
    "\n",
    "    backend=provider.backends()[minIndex]\n",
    "    print(\"\\n El backend real con menos cola de espera: \", backend.name())\n",
    "    return backend"
   ]
  },
  {
   "cell_type": "code",
   "execution_count": 103,
   "id": "2b6e48d1-50ad-4605-80b1-40413831fc4c",
   "metadata": {},
   "outputs": [
    {
     "name": "stdout",
     "output_type": "stream",
     "text": [
      "ibmq_qasm_simulator\n",
      "ibmq_armonk\n",
      "ibmq_santiago\n",
      "ibmq_bogota\n",
      "xd\n",
      "ibmq_lima\n",
      "ibmq_belem\n",
      "ibmq_quito\n",
      "simulator_statevector\n",
      "simulator_mps\n",
      "simulator_extended_stabilizer\n",
      "simulator_stabilizer\n",
      "ibmq_manila\n",
      "\n",
      " El backend real con menos cola de espera:  ibmq_quito\n"
     ]
    },
    {
     "data": {
      "application/vnd.jupyter.widget-view+json": {
       "model_id": "878ec25c1e294d50933095adc3b1eb77",
       "version_major": 2,
       "version_minor": 0
      },
      "text/plain": [
       "VBox(children=(HTML(value=\"<h1 style='color:#ffffff;background-color:#000000;padding-top: 1%;padding-bottom: 1…"
      ]
     },
     "metadata": {},
     "output_type": "display_data"
    },
    {
     "data": {
      "text/plain": [
       "<IBMQBackend('ibmq_quito') from IBMQ(hub='ibm-q', group='open', project='main')>"
      ]
     },
     "execution_count": 103,
     "metadata": {},
     "output_type": "execute_result"
    },
    {
     "data": {
      "image/png": "[encoded data removed]",
      "text/plain": [
       "<Figure size 792x648 with 5 Axes>"
      ]
     },
     "metadata": {
      "needs_background": "light"
     },
     "output_type": "display_data"
    }
   ],
   "source": [
    "findBackend()"
   ]
  },
  {
   "cell_type": "code",
   "execution_count": 10,
   "id": "01cfddfa",
   "metadata": {},
   "outputs": [],
   "source": [
    "#Creacion del circuito QPE con n qubits superiores y m inferiores, la matriz de covarianza normalizada p y el vector estado\n",
    "def QPE(n,m,p, stateVector):\n",
    "    #Circuito con n+m qubits y bits clasicos\n",
    "    #qpeCircuit=QuantumCircuit(n+m,n+m)\n",
    "    qpeCircuit=QuantumCircuit(n+m)\n",
    "    #Indices de los n qubits superiores\n",
    "    nNumbers=np.arange(0,n).tolist()\n",
    "    #Aplicar puertas de hadamard a los qubits superiores\n",
    "    qpeCircuit.h(nNumbers)\n",
    "    \n",
    "    #Indices de los m qubits inferiores\n",
    "    mNumbers=np.arange(n,n+m).tolist()\n",
    "        #Iniciar m qubits inferiores con el vector de estado, trash\n",
    "        #for i in range(n,n+m):\n",
    "            #qpeCircuit.initialize(stateVector,i)\n",
    "            #qpeCircuit.ry(1,i)\n",
    "            #qpeCircuit.rz(0.33,i)\n",
    "    #para m>1, inicializar el conjunto de m qubits inferiores\n",
    "    if len(stateVector)==(2*len(mNumbers)):\n",
    "        qpeCircuit.initialize(stateVector,mNumbers)\n",
    "    else:\n",
    "        raise ValueError('State vector incorrect length')\n",
    "        \n",
    "    #Aplicar las puertas controladas de U entre los qubits superiores e inferiores\n",
    "    for i in range(0,n):\n",
    "        #Calcular rotacion de la matriz de covarianza para la puerta controlada U\n",
    "        (theta, phi, lamb) = qiskit.quantum_info.OneQubitEulerDecomposer(basis='U3').angles(expm(2*1j*np.pi*p*(2**i)))\n",
    "        #Aplicar rotaciones theta, phi, lambda, gamma=0\n",
    "        qpeCircuit.cu(theta,phi,lamb, 0, n-1-i, mNumbers)\n",
    "    \n",
    "    #Llamar a la funcion de creacion de IQFT para los n qubits superiores\n",
    "    iqftC=IQFT(n) \n",
    "    #Combinar los dos circuitos\n",
    "    xd=QuantumCircuit.compose(qpeCircuit,iqftC)\n",
    "    #Realizar las mediciones\n",
    "    #xd.measure(nNumbers+mNumbers,nNumbers+mNumbers)\n",
    "    xd.measure_all()\n",
    "    return xd\n",
    "\n",
    "\n",
    "#Creacion del circuito Inverse Quantum Fourier Transform con n qubits  \n",
    "def IQFT(n):\n",
    "    #Definir circuito de n qubits y n bits clasicos\n",
    "    #iqftCircuit=QuantumCircuit(n,n)\n",
    "    iqftCircuit=QuantumCircuit(n)\n",
    "    \n",
    "    #Aplicar las rotaciones respectivas a cada qubit, desde el 0 hasta el n-1\n",
    "    for i in range(0,n):\n",
    "        for j in range(0,i):\n",
    "            iqftCircuit.crz(-np.pi/(2**(j+1)), (i-1-j),i)\n",
    "        \n",
    "        #Aplicar puerta de hadamard despues de aplicar las rotaciones en cada qubit\n",
    "        iqftCircuit.h(i)    \n",
    "    return iqftCircuit\n",
    "\n",
    "#Creacion del circuito Inverse Quantum Fourier Transform con n qubits, Metodo 2 (paper Finances)\n",
    "def IQFT2(n):\n",
    "    iqftCircuit=QuantumCircuit(n)\n",
    "    #Aplicar las rotaciones respectivas a cada qubit, desde el 0 hasta el n-1\n",
    "    for i in range(0,n):\n",
    "        #Aplicar puerta de hadamard antes de aplicar las rotaciones en cada qubit\n",
    "        iqftCircuit.h(i)\n",
    "        for j in range(i,n-1):\n",
    "            iqftCircuit.crz(-np.pi/(2**(j+1)), i,j+1)\n",
    "    return iqftCircuit"
   ]
  },
  {
   "cell_type": "code",
   "execution_count": 38,
   "id": "cd0112bf",
   "metadata": {},
   "outputs": [],
   "source": [
    "#Matriz de covarianza de los datos\n",
    "cmat = np.cov(fsData, rowvar=False)\n",
    "p=cmat/cmat.trace()"
   ]
  },
  {
   "cell_type": "code",
   "execution_count": 81,
   "id": "5dea6a91",
   "metadata": {},
   "outputs": [
    {
     "name": "stdout",
     "output_type": "stream",
     "text": [
      "\n",
      " El backend real con menos cola de espera:  ibmq_quito\n",
      "Iteration  0\n",
      "\n",
      " El backend real con menos cola de espera:  ibmq_quito\n",
      "Iteration  1\n",
      "Eigenvector obtenido:  [0.479388844880931, 0.528680532637681, 0.48900964692182575, 0.5015503913178175]\n"
     ]
    },
    {
     "data": {
      "image/png": "[encoded data removed]",
      "text/plain": [
       "<Figure size 504x360 with 1 Axes>"
      ]
     },
     "execution_count": 81,
     "metadata": {},
     "output_type": "execute_result"
    },
    {
     "data": {
      "image/png": "[encoded data removed]",
      "text/plain": [
       "<Figure size 504x360 with 1 Axes>"
      ]
     },
     "metadata": {
      "needs_background": "light"
     },
     "output_type": "display_data"
    }
   ],
   "source": [
    "#Inicializar vector de estado |+>\n",
    "#stateVec = [1/np.sqrt(2), 1/np.sqrt(2)]\n",
    "stateVec = [1/2,1/2,1/2,1/2]\n",
    "for i in range(0,2):\n",
    "    circuit=QPE(2,2,p,stateVec)\n",
    "    backend=findBackend()\n",
    "    #results = execute(circuit, backend=BasicAer.get_backend('qasm_simulator'), shots=4096).result().get_counts()\n",
    "    results = execute(circuit, backend=provider.get_backend('ibmq_belem'), shots=4096).result().get_counts()\n",
    "    #Conteo de los estados relacionados con la proyeccion 11 (011 y 111)\n",
    "    denominator = results['0011'] + results['0111'] + results['1011'] + results['1111']\n",
    "    #Calcular coeficientes del eigenvector\n",
    "    alpha1 = np.sqrt(results['0011'] / denominator)\n",
    "    alpha2 = np.sqrt(results['0111'] / denominator)\n",
    "    alpha3 = np.sqrt(results['1011'] / denominator)\n",
    "    alpha4 = np.sqrt(results['1111'] / denominator)\n",
    "    #Guardar nuevo estado inicial del qubit 2 para la siguiente ejecucion\n",
    "    #stateVec = [alpha1, alpha2]\n",
    "    #stateVec2= [alpha3, alpha4]\n",
    "    stateVec = [alpha1, alpha2,alpha3,alpha4]\n",
    "    print(\"Iteration \",i)\n",
    "print(\"Eigenvector obtenido: \",stateVec)#stateVec+stateVec2)\n",
    "plot_histogram(results)"
   ]
  },
  {
   "cell_type": "code",
   "execution_count": 24,
   "id": "110fcb28",
   "metadata": {},
   "outputs": [
    {
     "name": "stdout",
     "output_type": "stream",
     "text": [
      "QuantumRegister(2, 'q424')\n"
     ]
    }
   ],
   "source": [
    "print(QuantumRegister(2))"
   ]
  },
  {
   "cell_type": "code",
   "execution_count": 38,
   "id": "2b972529",
   "metadata": {},
   "outputs": [
    {
     "data": {
      "image/png": "[encoded data removed]",
      "text/plain": [
       "<Figure size 206.852x144.48 with 1 Axes>"
      ]
     },
     "execution_count": 38,
     "metadata": {},
     "output_type": "execute_result"
    },
    {
     "data": {
      "image/png": "[encoded data removed]",
      "text/plain": [
       "<Figure size 206.852x144.48 with 1 Axes>"
      ]
     },
     "metadata": {},
     "output_type": "display_data"
    }
   ],
   "source": [
    "from qiskit.quantum_info import Statevector\n",
    "sv = Statevector.from_label('11')\n",
    "c=QuantumCircuit(2)\n",
    "c.initialize(sv,[0,1])\n",
    "c.draw()"
   ]
  },
  {
   "cell_type": "code",
   "execution_count": 12,
   "id": "08d9ec8c",
   "metadata": {},
   "outputs": [],
   "source": [
    "#Funcion para calcular el eigenvector dada la matriz de densidad (matriz cov normalizada por la traza)\n",
    "def circuitEigenvector(n,m,p):\n",
    "    #Inicializar vector de estado |+>\n",
    "    if len(p)==2:\n",
    "        stateVec = np.array([1/np.sqrt(2), 1/np.sqrt(2)])\n",
    "        resultDict={}\n",
    "        legend=[]\n",
    "    elif len(p)==4:\n",
    "        stateVec = np.array([1/2,1/2,1/2,1/2])\n",
    "    else:\n",
    "        raise ValueError('2x2 or 4x4 matrix sizes available only')\n",
    "    #Cadena de 1s dependiendo del numero de qubits superiores\n",
    "    chain=\"\"\n",
    "    for i in range(0,n):\n",
    "        chain+=\"1\"\n",
    "    backend=findBackend()\n",
    "    for i in range(0,10):\n",
    "        circuit=QPE(n,m,p,stateVec)\n",
    "        \n",
    "        #results = execute(circuit, backend=BasicAer.get_backend('qasm_simulator'), shots=4096).result().get_counts()\n",
    "        results = execute(circuit, backend=backend, shots=4096).result().get_counts()\n",
    "        #Obtener los nombres de los resultados por orden de conteos de mayor a menor\n",
    "        #arra=np.array(list(results.values()))\n",
    "        #index = arra.argsort()[::-1]\n",
    "        #arra=arra[index]\n",
    "        #key=np.array(list(results.keys()))[index]\n",
    "        #Conteo de los estados relacionados con la proyeccion 11 (011 y 111)\n",
    "        #denominator = results[key[0]]+results[key[1]]+results[key[2]]+results[key[3]]\n",
    "        if len(p)==2:\n",
    "            denominator = results['0'+chain]+results['1'+chain]\n",
    "            #Calcular coeficientes del eigenvector\n",
    "            alpha1 = np.sqrt(results['0'+chain] / denominator)\n",
    "            alpha2 = np.sqrt(results['1'+chain] / denominator)\n",
    "            stateVec = [alpha1, alpha2]\n",
    "            resultDict['Results'+str(i)]=results\n",
    "            legend.append(str(i+1)+\". execución\")\n",
    "        else:\n",
    "            denominator = results['00'+chain]+results['01'+chain]+results['10'+chain]+results['11'+chain]\n",
    "            #Calcular coeficientes del eigenvector\n",
    "            alpha1 = np.sqrt(results['00'+chain] / denominator)\n",
    "            alpha2 = np.sqrt(results['01'+chain] / denominator)\n",
    "            alpha3 = np.sqrt(results['10'+chain] / denominator)\n",
    "            alpha4 = np.sqrt(results['11'+chain] / denominator)\n",
    "            #Guardar nuevo estado inicial del qubit para la siguiente ejecucion\n",
    "            stateVec = [alpha1, alpha2, alpha3, alpha4]\n",
    "    if len(p)==2:\n",
    "        plot_histogram(resultDict.values(), legend=legend, figsize=(16,12.5), color=plt.inferno())\n",
    "    plot_histogram(results)\n",
    "    print(\"Eigenvector obtenido: \",stateVec)\n",
    "    return stateVec"
   ]
  },
  {
   "cell_type": "code",
   "execution_count": 12,
   "id": "0b5ebe3b-1a43-40e1-9160-46c76788412c",
   "metadata": {},
   "outputs": [
    {
     "name": "stdout",
     "output_type": "stream",
     "text": [
      "Traceback \u001b[1;36m(most recent call last)\u001b[0m:\n",
      "\u001b[1;36m  File \u001b[1;32m\"<ipython-input-12-7cd4b1bcdd6e>\"\u001b[1;36m, line \u001b[1;32m1\u001b[1;36m, in \u001b[1;35m<module>\u001b[1;36m\u001b[0m\n",
      "\u001b[1;33m    ev=circuitEigenvector(2,1,p)\u001b[0m\n",
      "\u001b[1;31mNameError\u001b[0m\u001b[1;31m:\u001b[0m name 'p' is not defined\n",
      "\n",
      "Use %tb to get the full traceback.\n"
     ]
    },
    {
     "data": {
      "text/html": [
       "\n",
       "<style>\n",
       ".button {\n",
       "  border: none;\n",
       "  color: white;\n",
       "  padding: 4px 8px;\n",
       "  text-align: center;\n",
       "  text-decoration: none;\n",
       "  display: inline-block;\n",
       "  font-size: 12px;\n",
       "  margin: 4px 2px;\n",
       "  transition-duration: 0.2s;\n",
       "  cursor: pointer;\n",
       "}\n",
       ".iqx-button {\n",
       "  background-color: #0f62fe; \n",
       "  color: white; \n",
       "}\n",
       ".iqx-button:hover {\n",
       "  background-color: #0043ce;\n",
       "  color: white;\n",
       "}\n",
       "</style>\n",
       "<a href=\"https://stackoverflow.com/search?q=NameError: name 'p' is not defined\" target='_blank'><button class='button iqx-button'>Search for solution online</button></a>\n"
      ],
      "text/plain": [
       "<IPython.core.display.HTML object>"
      ]
     },
     "metadata": {},
     "output_type": "display_data"
    }
   ],
   "source": [
    "ev=circuitEigenvector(2,1,p)"
   ]
  },
  {
   "cell_type": "code",
   "execution_count": 16,
   "id": "458721a4",
   "metadata": {},
   "outputs": [
    {
     "name": "stdout",
     "output_type": "stream",
     "text": [
      "Iteracion  0\n",
      "\n",
      " El backend real con menos cola de espera:  ibmq_belem\n",
      "Eigenvector obtenido:  [0.7604346583140575, 0.6494144519756105]\n",
      "Iteracion  1\n",
      "\n",
      " El backend real con menos cola de espera:  ibmq_belem\n"
     ]
    },
    {
     "name": "stderr",
     "output_type": "stream",
     "text": [
      "/opt/conda/lib/python3.8/site-packages/qiskit/transpiler/runningpassmanager.py:166: UserWarning: Resynthesized [<qiskit.dagcircuit.dagnode.DAGNode object at 0x7eff63d5cac0>, <qiskit.dagcircuit.dagnode.DAGNode object at 0x7eff63d5ce80>, <qiskit.dagcircuit.dagnode.DAGNode object at 0x7eff63d5c6a0>, <qiskit.dagcircuit.dagnode.DAGNode object at 0x7eff63d5c580>] and got       ┌───────┐┌────┐┌─────────────┐┌────┐┌───────────────┐\n",
      "qr_0: ┤ Rz(π) ├┤ √X ├┤ Rz(-3.1416) ├┤ √X ├┤ Rz(3.519e-12) ├\n",
      "      └───────┘└────┘└─────────────┘└────┘└───────────────┘, but the original was native and the new value is longer.  This indicates an efficiency bug in synthesis.  Please report it by opening an issue here: https://github.com/Qiskit/qiskit-terra/issues/new/choose\n",
      "  new_dag = pass_.run(dag)\n",
      "/opt/conda/lib/python3.8/site-packages/qiskit/transpiler/runningpassmanager.py:166: UserWarning: Resynthesized [<qiskit.dagcircuit.dagnode.DAGNode object at 0x7eff63d53280>, <qiskit.dagcircuit.dagnode.DAGNode object at 0x7eff63d53d00>, <qiskit.dagcircuit.dagnode.DAGNode object at 0x7eff63d53880>, <qiskit.dagcircuit.dagnode.DAGNode object at 0x7eff63d5a700>] and got       ┌───────┐┌────┐┌─────────────┐┌────┐┌───────────────┐\n",
      "qr_0: ┤ Rz(π) ├┤ √X ├┤ Rz(-3.1416) ├┤ √X ├┤ Rz(3.519e-12) ├\n",
      "      └───────┘└────┘└─────────────┘└────┘└───────────────┘, but the original was native and the new value is longer.  This indicates an efficiency bug in synthesis.  Please report it by opening an issue here: https://github.com/Qiskit/qiskit-terra/issues/new/choose\n",
      "  new_dag = pass_.run(dag)\n",
      "/opt/conda/lib/python3.8/site-packages/qiskit/transpiler/runningpassmanager.py:166: UserWarning: Resynthesized [<qiskit.dagcircuit.dagnode.DAGNode object at 0x7eff63d5c340>, <qiskit.dagcircuit.dagnode.DAGNode object at 0x7eff63d5c520>, <qiskit.dagcircuit.dagnode.DAGNode object at 0x7eff63d01a00>, <qiskit.dagcircuit.dagnode.DAGNode object at 0x7eff63d26e80>] and got       ┌───────┐┌────┐┌─────────────┐┌────┐┌───────────────┐\n",
      "qr_0: ┤ Rz(π) ├┤ √X ├┤ Rz(-3.1416) ├┤ √X ├┤ Rz(3.519e-12) ├\n",
      "      └───────┘└────┘└─────────────┘└────┘└───────────────┘, but the original was native and the new value is longer.  This indicates an efficiency bug in synthesis.  Please report it by opening an issue here: https://github.com/Qiskit/qiskit-terra/issues/new/choose\n",
      "  new_dag = pass_.run(dag)\n",
      "/opt/conda/lib/python3.8/site-packages/qiskit/transpiler/runningpassmanager.py:166: UserWarning: Resynthesized [<qiskit.dagcircuit.dagnode.DAGNode object at 0x7eff63d268e0>, <qiskit.dagcircuit.dagnode.DAGNode object at 0x7eff63ccc100>, <qiskit.dagcircuit.dagnode.DAGNode object at 0x7eff63ccc160>, <qiskit.dagcircuit.dagnode.DAGNode object at 0x7eff63ccc7c0>] and got       ┌───────┐┌────┐┌─────────────┐┌────┐┌───────────────┐\n",
      "qr_0: ┤ Rz(π) ├┤ √X ├┤ Rz(-3.1416) ├┤ √X ├┤ Rz(3.519e-12) ├\n",
      "      └───────┘└────┘└─────────────┘└────┘└───────────────┘, but the original was native and the new value is longer.  This indicates an efficiency bug in synthesis.  Please report it by opening an issue here: https://github.com/Qiskit/qiskit-terra/issues/new/choose\n",
      "  new_dag = pass_.run(dag)\n",
      "/opt/conda/lib/python3.8/site-packages/qiskit/transpiler/runningpassmanager.py:166: UserWarning: Resynthesized [<qiskit.dagcircuit.dagnode.DAGNode object at 0x7eff63d5c1c0>, <qiskit.dagcircuit.dagnode.DAGNode object at 0x7eff63d5c5e0>, <qiskit.dagcircuit.dagnode.DAGNode object at 0x7eff63d6c160>, <qiskit.dagcircuit.dagnode.DAGNode object at 0x7eff63d6c280>] and got       ┌───────┐┌────┐┌─────────────┐┌────┐┌───────────────┐\n",
      "qr_0: ┤ Rz(π) ├┤ √X ├┤ Rz(-3.1416) ├┤ √X ├┤ Rz(3.519e-12) ├\n",
      "      └───────┘└────┘└─────────────┘└────┘└───────────────┘, but the original was native and the new value is longer.  This indicates an efficiency bug in synthesis.  Please report it by opening an issue here: https://github.com/Qiskit/qiskit-terra/issues/new/choose\n",
      "  new_dag = pass_.run(dag)\n",
      "/opt/conda/lib/python3.8/site-packages/qiskit/transpiler/runningpassmanager.py:166: UserWarning: Resynthesized [<qiskit.dagcircuit.dagnode.DAGNode object at 0x7eff63cad4c0>, <qiskit.dagcircuit.dagnode.DAGNode object at 0x7eff63cad3a0>, <qiskit.dagcircuit.dagnode.DAGNode object at 0x7eff63d53640>, <qiskit.dagcircuit.dagnode.DAGNode object at 0x7eff63d53520>] and got       ┌───────┐┌────┐┌─────────────┐┌────┐┌───────────────┐\n",
      "qr_0: ┤ Rz(π) ├┤ √X ├┤ Rz(-3.1416) ├┤ √X ├┤ Rz(3.519e-12) ├\n",
      "      └───────┘└────┘└─────────────┘└────┘└───────────────┘, but the original was native and the new value is longer.  This indicates an efficiency bug in synthesis.  Please report it by opening an issue here: https://github.com/Qiskit/qiskit-terra/issues/new/choose\n",
      "  new_dag = pass_.run(dag)\n",
      "/opt/conda/lib/python3.8/site-packages/qiskit/transpiler/runningpassmanager.py:166: UserWarning: Resynthesized [<qiskit.dagcircuit.dagnode.DAGNode object at 0x7eff63cb1700>, <qiskit.dagcircuit.dagnode.DAGNode object at 0x7eff63cb13a0>, <qiskit.dagcircuit.dagnode.DAGNode object at 0x7eff63cb19a0>, <qiskit.dagcircuit.dagnode.DAGNode object at 0x7eff63cb18e0>] and got       ┌───────┐┌────┐┌─────────────┐┌────┐┌───────────────┐\n",
      "qr_0: ┤ Rz(π) ├┤ √X ├┤ Rz(-3.1416) ├┤ √X ├┤ Rz(3.519e-12) ├\n",
      "      └───────┘└────┘└─────────────┘└────┘└───────────────┘, but the original was native and the new value is longer.  This indicates an efficiency bug in synthesis.  Please report it by opening an issue here: https://github.com/Qiskit/qiskit-terra/issues/new/choose\n",
      "  new_dag = pass_.run(dag)\n",
      "/opt/conda/lib/python3.8/site-packages/qiskit/transpiler/runningpassmanager.py:166: UserWarning: Resynthesized [<qiskit.dagcircuit.dagnode.DAGNode object at 0x7eff63c62be0>, <qiskit.dagcircuit.dagnode.DAGNode object at 0x7eff63c62a00>, <qiskit.dagcircuit.dagnode.DAGNode object at 0x7eff63c62400>, <qiskit.dagcircuit.dagnode.DAGNode object at 0x7eff63c62460>] and got       ┌───────┐┌────┐┌─────────────┐┌────┐┌───────────────┐\n",
      "qr_0: ┤ Rz(π) ├┤ √X ├┤ Rz(-3.1416) ├┤ √X ├┤ Rz(3.519e-12) ├\n",
      "      └───────┘└────┘└─────────────┘└────┘└───────────────┘, but the original was native and the new value is longer.  This indicates an efficiency bug in synthesis.  Please report it by opening an issue here: https://github.com/Qiskit/qiskit-terra/issues/new/choose\n",
      "  new_dag = pass_.run(dag)\n",
      "/opt/conda/lib/python3.8/site-packages/qiskit/transpiler/runningpassmanager.py:166: UserWarning: Resynthesized [<qiskit.dagcircuit.dagnode.DAGNode object at 0x7eff63d5cca0>, <qiskit.dagcircuit.dagnode.DAGNode object at 0x7eff63d5c400>, <qiskit.dagcircuit.dagnode.DAGNode object at 0x7eff63cd5e20>, <qiskit.dagcircuit.dagnode.DAGNode object at 0x7eff63d68220>] and got       ┌───────┐┌────┐┌─────────────┐┌────┐┌───────────────┐\n",
      "qr_0: ┤ Rz(π) ├┤ √X ├┤ Rz(-3.1416) ├┤ √X ├┤ Rz(3.519e-12) ├\n",
      "      └───────┘└────┘└─────────────┘└────┘└───────────────┘, but the original was native and the new value is longer.  This indicates an efficiency bug in synthesis.  Please report it by opening an issue here: https://github.com/Qiskit/qiskit-terra/issues/new/choose\n",
      "  new_dag = pass_.run(dag)\n",
      "/opt/conda/lib/python3.8/site-packages/qiskit/transpiler/runningpassmanager.py:166: UserWarning: Resynthesized [<qiskit.dagcircuit.dagnode.DAGNode object at 0x7eff63c56ac0>, <qiskit.dagcircuit.dagnode.DAGNode object at 0x7eff63c56400>, <qiskit.dagcircuit.dagnode.DAGNode object at 0x7eff63cb1640>, <qiskit.dagcircuit.dagnode.DAGNode object at 0x7eff63cb17c0>] and got       ┌───────┐┌────┐┌─────────────┐┌────┐┌───────────────┐\n",
      "qr_0: ┤ Rz(π) ├┤ √X ├┤ Rz(-3.1416) ├┤ √X ├┤ Rz(3.519e-12) ├\n",
      "      └───────┘└────┘└─────────────┘└────┘└───────────────┘, but the original was native and the new value is longer.  This indicates an efficiency bug in synthesis.  Please report it by opening an issue here: https://github.com/Qiskit/qiskit-terra/issues/new/choose\n",
      "  new_dag = pass_.run(dag)\n"
     ]
    },
    {
     "name": "stdout",
     "output_type": "stream",
     "text": [
      "Eigenvector obtenido:  [0.6526300069150406, 0.7576767609436587]\n",
      "Eigenvectores obtenidos en orden \n",
      " [[0.76043466 0.65263001]\n",
      " [0.64941445 0.75767676]]\n",
      "EIgenvalores obtenidos en orden \n",
      " [0.99241618 0.99240608]\n",
      "QSVMData=2 Dimensiones\n"
     ]
    },
    {
     "data": {
      "text/plain": [
       "<Figure size 432x288 with 0 Axes>"
      ]
     },
     "metadata": {},
     "output_type": "display_data"
    },
    {
     "data": {
      "image/png": "[encoded data removed]",
      "text/plain": [
       "<Figure size 1152x900 with 1 Axes>"
      ]
     },
     "metadata": {
      "needs_background": "light"
     },
     "output_type": "display_data"
    },
    {
     "data": {
      "image/png": "[encoded data removed]",
      "text/plain": [
       "<Figure size 504x360 with 1 Axes>"
      ]
     },
     "metadata": {
      "needs_background": "light"
     },
     "output_type": "display_data"
    },
    {
     "data": {
      "image/png": "[encoded data removed]",
      "text/plain": [
       "<Figure size 1152x900 with 1 Axes>"
      ]
     },
     "metadata": {
      "needs_background": "light"
     },
     "output_type": "display_data"
    },
    {
     "data": {
      "image/png": "[encoded data removed]",
      "text/plain": [
       "<Figure size 504x360 with 1 Axes>"
      ]
     },
     "metadata": {
      "needs_background": "light"
     },
     "output_type": "display_data"
    }
   ],
   "source": [
    "#Matriz de covarianza de los datos\n",
    "cmat = np.cov(fsData, rowvar=False)\n",
    "#Matriz de densidad\n",
    "p=cmat/cmat.trace()\n",
    "\n",
    "#eigenvectors=np.zeros((len(cmat),3))\n",
    "eigenvectors=np.zeros((len(cmat),len(cmat)))\n",
    "eigenvalues=np.zeros(len(cmat))\n",
    "\n",
    "#Siendo 4 variables, se busca reducir a las 3 mejores. Con 2 variables reducir a 1.\n",
    "for i in range(0, len(eigenvectors)):\n",
    "    print(\"Iteracion \",i)\n",
    "    ev=circuitEigenvector(2,1,p)\n",
    "    eigenvalue1,cmat=eigenvalue(np.asarray(ev), cmat, fsData)\n",
    "    eigenvectors[:,i]=ev\n",
    "    p=cmat/cmat.trace()\n",
    "    eigenvalues[i]=eigenvalue1\n",
    "print(\"Eigenvectores obtenidos en orden \\n\", eigenvectors)\n",
    "print(\"EIgenvalores obtenidos en orden \\n\", eigenvalues)\n",
    "if (len(cmat)==2):\n",
    "    qsvmData =np.dot(fsData, eigenvectors[:,0:2])\n",
    "    print(\"QSVMData=2 Dimensiones\")\n",
    "elif (len(cmat)==4):\n",
    "    qsvmData =np.dot(fsData, eigenvectors[:,0:3])\n",
    "    #qsvmData =np.dot(fsData, eigenvectors[:,0:len(cmat)-1])"
   ]
  },
  {
   "cell_type": "code",
   "execution_count": 69,
   "id": "e4d6878e",
   "metadata": {},
   "outputs": [
    {
     "name": "stdout",
     "output_type": "stream",
     "text": [
      "[1.15424417 1.01364385 0.93552748 0.89717395]\n",
      "[-13.32780159   0.21207261   0.8259705    0.95687106]\n"
     ]
    }
   ],
   "source": [
    "print(eigenval)\n",
    "xd,c=eigenvalue(eigenvec[:,0], cmat, fsData)\n",
    "eiv,ev=np.linalg.eig(c)\n",
    "print(eiv)"
   ]
  },
  {
   "cell_type": "markdown",
   "id": "a62c0f16-b913-4467-b7fe-86ee30793d89",
   "metadata": {},
   "source": [
    "### Guardar datos obtenidos por proyeccion Quantum Eigen"
   ]
  },
  {
   "cell_type": "code",
   "execution_count": 17,
   "id": "d11028f9-286f-49b7-9966-abac7f7d0d08",
   "metadata": {},
   "outputs": [
    {
     "name": "stdout",
     "output_type": "stream",
     "text": [
      "[-0.41347877 -0.47712635]\n",
      "(6787, 2)\n"
     ]
    }
   ],
   "source": [
    "#Guardar qsvmData en fichero csv\n",
    "print(qsvmData[0,:]) #qsvmData.shape = (6787,3) o  (6787,2) en caso de 2 dims\n",
    "print(qsvmData.shape)\n",
    "np.savetxt('qsvmData2DIM.csv', qsvmData, delimiter=',', fmt='%1.8f')#Escribir en fichero con 8 decimales de precision"
   ]
  },
  {
   "cell_type": "markdown",
   "id": "32857de9-8f60-4d29-a834-c790127f6349",
   "metadata": {},
   "source": [
    "### Leer datos Quantum Eigen"
   ]
  },
  {
   "cell_type": "code",
   "execution_count": 41,
   "id": "9b09bc54-5c5c-470f-b33b-b74398b11cd6",
   "metadata": {},
   "outputs": [
    {
     "name": "stdout",
     "output_type": "stream",
     "text": [
      "[-0.34303079 -0.38221095 -0.31143755]\n"
     ]
    }
   ],
   "source": [
    "#qsvmDataPrueba=pd.read_csv('qsvmData.csv', sep=',', header=None).to_numpy()#.reshape(-1) #leer fichero de datos\n",
    "#print(qsvmDataPrueba.shape)\n",
    "#print(qsvmDataPrueba[0,:])\n",
    "#print(np.allclose(qsvmData, qsvmDataPrueba))#iguales\n",
    "qsvmData=pd.read_csv('qsvmData.csv', sep=',', header=None).to_numpy()\n",
    "print(qsvmData[0,:])"
   ]
  },
  {
   "cell_type": "code",
   "execution_count": 11,
   "id": "45b1101e-c88c-4896-adc3-0da5c29bac12",
   "metadata": {},
   "outputs": [
    {
     "name": "stdout",
     "output_type": "stream",
     "text": [
      "[-0.34303079 -0.38221095 -0.31143755]\n",
      "[[0.39735971 0.31370798 0.33783196]\n",
      " [0.60697698 0.52250921 0.57104024]\n",
      " [0.36273813 0.47140452 0.53669682]\n",
      " [0.58489765 0.63745526 0.52128604]]\n"
     ]
    }
   ],
   "source": [
    "choco=np.array([[0.39735971, 0.31370798, 0.33783196, 0.27518749],\n",
    " [0.60697698, 0.52250921, 0.57104024, 0.37390617],\n",
    " [0.36273813, 0.47140452, 0.53669682, 0.36603358],\n",
    " [0.58489765, 0.63745526, 0.52128604, 0.80652677]])#eigenvectors obtenidos\n",
    "chocobo=np.dot(fsData,choco[:,0:3])\n",
    "print(chocobo[0,:])"
   ]
  },
  {
   "cell_type": "markdown",
   "id": "d741cabc-0065-4d4a-a994-8f066cf2f335",
   "metadata": {},
   "source": [
    "# LOF"
   ]
  },
  {
   "cell_type": "code",
   "execution_count": 12,
   "id": "149e4230-90f5-4695-9e01-277e1e9d63a5",
   "metadata": {},
   "outputs": [],
   "source": [
    "from sklearn.neighbors import LocalOutlierFactor\n",
    "model1 = LocalOutlierFactor()\n",
    "y_pred = model1.fit_predict(data)"
   ]
  },
  {
   "cell_type": "code",
   "execution_count": 13,
   "id": "6a02bef2-b3bc-4f2f-b83e-93b119825891",
   "metadata": {},
   "outputs": [
    {
     "name": "stdout",
     "output_type": "stream",
     "text": [
      "[-1 -1 -1 ...  1 -1  1]\n"
     ]
    }
   ],
   "source": [
    "print(y_pred)"
   ]
  },
  {
   "cell_type": "code",
   "execution_count": 13,
   "id": "c3e64458-8f03-4a06-8113-6f3bff4f45df",
   "metadata": {},
   "outputs": [
    {
     "name": "stdout",
     "output_type": "stream",
     "text": [
      "[ 21.91271998  47.00942085  70.19584196 100.        ]\n"
     ]
    },
    {
     "data": {
      "image/png": "[encoded data removed]",
      "text/plain": [
       "<Figure size 720x576 with 1 Axes>"
      ]
     },
     "metadata": {},
     "output_type": "display_data"
    }
   ],
   "source": [
    "choco=np.array([[0.39735971, 0.31370798, 0.33783196, 0.27518749],\n",
    " [0.60697698, 0.52250921, 0.57104024, 0.37390617],\n",
    " [0.36273813, 0.47140452, 0.53669682, 0.36603358],\n",
    " [0.58489765, 0.63745526, 0.52128604, 0.80652677]])\n",
    "cheigenvals=np.array([0.63460657,0.72681672,0.67149378,0.86314773])\n",
    "explainedVar=cheigenvals/sum(cheigenvals)*100\n",
    "cumVar = explainedVar.cumsum()\n",
    "print(cumVar)\n",
    "import seaborn as sns\n",
    "with plt.style.context('seaborn-whitegrid'):\n",
    "    plt.figure(figsize=(10, 8))\n",
    "\n",
    "    plt.bar(range(4), explainedVar, alpha=0.5, align='center',\n",
    "            label='Varianza explicada por componente')\n",
    "    plt.step(range(4), cumVar, where='mid',\n",
    "             label='Varianza explicada acumulada')\n",
    "    plt.title('Varianza de las componentes (Cuántica)', fontsize=25)\n",
    "    plt.ylabel('Ratio de varianza explicada', fontsize=15)\n",
    "    plt.xlabel('Componentes principales', fontsize=15)\n",
    "    plt.legend(loc='best')\n",
    "    plt.savefig(\"VarianzaCuantica.pdf\", \n",
    "               bbox_inches='tight')\n",
    "    plt.tight_layout()"
   ]
  },
  {
   "cell_type": "code",
   "execution_count": 79,
   "id": "3c517b60-f454-4a2a-a99c-9cabec6bf2e5",
   "metadata": {},
   "outputs": [],
   "source": [
    "np.random.seed(999)\n",
    "#np.random.seed(111)\n",
    "#ind=np.random.randint(0,len(qsvmData),size = 75)\n",
    "#ind=np.random.randint(0,len(qsvmData),size = 120)\n",
    "ind=np.random.randint(0,len(data),size = 300)\n",
    "X=data.to_numpy()[ind,1:15].real#.reshape(-1,2)\n",
    "y=data.to_numpy()[ind,0].real"
   ]
  },
  {
   "cell_type": "code",
   "execution_count": 80,
   "id": "b2afe66d-9d5e-41c3-a9ef-708319ca9085",
   "metadata": {},
   "outputs": [
    {
     "name": "stdout",
     "output_type": "stream",
     "text": [
      "Mejor conjunto de parametros encontrados:\n",
      "\n",
      "\n",
      "{'gamma': 0.0001, 'kernel': 'rbf', 'tol': 0.01}\n"
     ]
    }
   ],
   "source": [
    "import sklearn#####UTILIZADO PARA LOS EIGENS QPCA\n",
    "from sklearn.svm import SVR, OneClassSVM\n",
    "from sklearn.model_selection import GridSearchCV\n",
    "params= [{'kernel': ['linear'], 'tol': [1e-2, 1e-3, 1e-4,1e-5]},\n",
    "        {'kernel': ['poly'], 'gamma': [1e-3, 1e-4,'scale'],\n",
    "                     'degree':[2,3,4,5],\n",
    "                     'tol': [1e-2, 1e-3, 1e-4,1e-5]},\n",
    "        {'kernel': ['rbf'], 'gamma': [1e-3, 1e-4,'scale'],\n",
    "                     'tol': [1e-2, 1e-3, 1e-4,1e-5]},\n",
    "         {'kernel': ['sigmoid'], 'gamma': [1e-3, 1e-4,'scale'],\n",
    "                     'tol': [1e-2, 1e-3, 1e-4,1e-5]}]\n",
    "svr = GridSearchCV(OneClassSVM(), params, scoring='r2')\n",
    "#svr=SVR(kernel='rbf',degree=5)\n",
    "svr.fit(X,y)\n",
    "#svr.score(X,y)\n",
    "print(\"Mejor conjunto de parametros encontrados:\\n\\n\")\n",
    "print(svr.best_params_)"
   ]
  },
  {
   "cell_type": "code",
   "execution_count": 81,
   "id": "9f5e4a1e-e6aa-4809-aca7-bb19377f3303",
   "metadata": {},
   "outputs": [
    {
     "name": "stdout",
     "output_type": "stream",
     "text": [
      "-1.152 (+/-0.324) for {'kernel': 'linear', 'tol': 0.01}\n",
      "-1.113 (+/-0.474) for {'kernel': 'linear', 'tol': 0.001}\n",
      "-1.115 (+/-0.342) for {'kernel': 'linear', 'tol': 0.0001}\n",
      "-1.115 (+/-0.359) for {'kernel': 'linear', 'tol': 1e-05}\n",
      "-1.046 (+/-0.575) for {'degree': 2, 'gamma': 0.001, 'kernel': 'poly', 'tol': 0.01}\n",
      "-1.005 (+/-0.376) for {'degree': 2, 'gamma': 0.001, 'kernel': 'poly', 'tol': 0.001}\n",
      "-1.336 (+/-0.223) for {'degree': 2, 'gamma': 0.001, 'kernel': 'poly', 'tol': 0.0001}\n",
      "-1.324 (+/-0.255) for {'degree': 2, 'gamma': 0.001, 'kernel': 'poly', 'tol': 1e-05}\n",
      "-0.994 (+/-0.604) for {'degree': 2, 'gamma': 0.0001, 'kernel': 'poly', 'tol': 0.01}\n",
      "-0.994 (+/-0.604) for {'degree': 2, 'gamma': 0.0001, 'kernel': 'poly', 'tol': 0.001}\n",
      "-1.046 (+/-0.575) for {'degree': 2, 'gamma': 0.0001, 'kernel': 'poly', 'tol': 0.0001}\n",
      "-1.005 (+/-0.376) for {'degree': 2, 'gamma': 0.0001, 'kernel': 'poly', 'tol': 1e-05}\n",
      "-1.310 (+/-0.221) for {'degree': 2, 'gamma': 'scale', 'kernel': 'poly', 'tol': 0.01}\n",
      "-1.310 (+/-0.221) for {'degree': 2, 'gamma': 'scale', 'kernel': 'poly', 'tol': 0.001}\n",
      "-1.310 (+/-0.221) for {'degree': 2, 'gamma': 'scale', 'kernel': 'poly', 'tol': 0.0001}\n",
      "-1.310 (+/-0.221) for {'degree': 2, 'gamma': 'scale', 'kernel': 'poly', 'tol': 1e-05}\n",
      "-1.078 (+/-0.593) for {'degree': 3, 'gamma': 0.001, 'kernel': 'poly', 'tol': 0.01}\n",
      "-1.078 (+/-0.593) for {'degree': 3, 'gamma': 0.001, 'kernel': 'poly', 'tol': 0.001}\n",
      "-1.065 (+/-0.628) for {'degree': 3, 'gamma': 0.001, 'kernel': 'poly', 'tol': 0.0001}\n",
      "-1.360 (+/-0.495) for {'degree': 3, 'gamma': 0.001, 'kernel': 'poly', 'tol': 1e-05}\n",
      "-0.994 (+/-0.604) for {'degree': 3, 'gamma': 0.0001, 'kernel': 'poly', 'tol': 0.01}\n",
      "-0.994 (+/-0.604) for {'degree': 3, 'gamma': 0.0001, 'kernel': 'poly', 'tol': 0.001}\n",
      "-0.994 (+/-0.604) for {'degree': 3, 'gamma': 0.0001, 'kernel': 'poly', 'tol': 0.0001}\n",
      "-1.078 (+/-0.593) for {'degree': 3, 'gamma': 0.0001, 'kernel': 'poly', 'tol': 1e-05}\n",
      "-1.402 (+/-0.274) for {'degree': 3, 'gamma': 'scale', 'kernel': 'poly', 'tol': 0.01}\n",
      "-1.388 (+/-0.241) for {'degree': 3, 'gamma': 'scale', 'kernel': 'poly', 'tol': 0.001}\n",
      "-1.388 (+/-0.241) for {'degree': 3, 'gamma': 'scale', 'kernel': 'poly', 'tol': 0.0001}\n",
      "-1.402 (+/-0.274) for {'degree': 3, 'gamma': 'scale', 'kernel': 'poly', 'tol': 1e-05}\n",
      "-0.994 (+/-0.604) for {'degree': 4, 'gamma': 0.001, 'kernel': 'poly', 'tol': 0.01}\n",
      "-0.984 (+/-0.617) for {'degree': 4, 'gamma': 0.001, 'kernel': 'poly', 'tol': 0.001}\n",
      "-0.984 (+/-0.617) for {'degree': 4, 'gamma': 0.001, 'kernel': 'poly', 'tol': 0.0001}\n",
      "-0.971 (+/-0.644) for {'degree': 4, 'gamma': 0.001, 'kernel': 'poly', 'tol': 1e-05}\n",
      "-0.994 (+/-0.604) for {'degree': 4, 'gamma': 0.0001, 'kernel': 'poly', 'tol': 0.01}\n",
      "-0.994 (+/-0.604) for {'degree': 4, 'gamma': 0.0001, 'kernel': 'poly', 'tol': 0.001}\n",
      "-0.994 (+/-0.604) for {'degree': 4, 'gamma': 0.0001, 'kernel': 'poly', 'tol': 0.0001}\n",
      "-0.994 (+/-0.604) for {'degree': 4, 'gamma': 0.0001, 'kernel': 'poly', 'tol': 1e-05}\n",
      "-1.306 (+/-0.252) for {'degree': 4, 'gamma': 'scale', 'kernel': 'poly', 'tol': 0.01}\n",
      "-1.293 (+/-0.226) for {'degree': 4, 'gamma': 'scale', 'kernel': 'poly', 'tol': 0.001}\n",
      "-1.306 (+/-0.219) for {'degree': 4, 'gamma': 'scale', 'kernel': 'poly', 'tol': 0.0001}\n",
      "-1.306 (+/-0.219) for {'degree': 4, 'gamma': 'scale', 'kernel': 'poly', 'tol': 1e-05}\n",
      "-0.994 (+/-0.604) for {'degree': 5, 'gamma': 0.001, 'kernel': 'poly', 'tol': 0.01}\n",
      "-0.981 (+/-0.622) for {'degree': 5, 'gamma': 0.001, 'kernel': 'poly', 'tol': 0.001}\n",
      "-0.981 (+/-0.622) for {'degree': 5, 'gamma': 0.001, 'kernel': 'poly', 'tol': 0.0001}\n",
      "-0.981 (+/-0.622) for {'degree': 5, 'gamma': 0.001, 'kernel': 'poly', 'tol': 1e-05}\n",
      "-0.994 (+/-0.604) for {'degree': 5, 'gamma': 0.0001, 'kernel': 'poly', 'tol': 0.01}\n",
      "-0.994 (+/-0.604) for {'degree': 5, 'gamma': 0.0001, 'kernel': 'poly', 'tol': 0.001}\n",
      "-0.994 (+/-0.604) for {'degree': 5, 'gamma': 0.0001, 'kernel': 'poly', 'tol': 0.0001}\n",
      "-0.994 (+/-0.604) for {'degree': 5, 'gamma': 0.0001, 'kernel': 'poly', 'tol': 1e-05}\n",
      "-1.359 (+/-0.307) for {'degree': 5, 'gamma': 'scale', 'kernel': 'poly', 'tol': 0.01}\n",
      "-1.346 (+/-0.353) for {'degree': 5, 'gamma': 'scale', 'kernel': 'poly', 'tol': 0.001}\n",
      "-1.346 (+/-0.353) for {'degree': 5, 'gamma': 'scale', 'kernel': 'poly', 'tol': 0.0001}\n",
      "-1.346 (+/-0.353) for {'degree': 5, 'gamma': 'scale', 'kernel': 'poly', 'tol': 1e-05}\n",
      "-0.649 (+/-0.506) for {'gamma': 0.001, 'kernel': 'rbf', 'tol': 0.01}\n",
      "-0.636 (+/-0.506) for {'gamma': 0.001, 'kernel': 'rbf', 'tol': 0.001}\n",
      "-0.636 (+/-0.506) for {'gamma': 0.001, 'kernel': 'rbf', 'tol': 0.0001}\n",
      "-0.636 (+/-0.506) for {'gamma': 0.001, 'kernel': 'rbf', 'tol': 1e-05}\n",
      "-0.618 (+/-0.468) for {'gamma': 0.0001, 'kernel': 'rbf', 'tol': 0.01}\n",
      "-0.636 (+/-0.469) for {'gamma': 0.0001, 'kernel': 'rbf', 'tol': 0.001}\n",
      "-0.635 (+/-0.421) for {'gamma': 0.0001, 'kernel': 'rbf', 'tol': 0.0001}\n",
      "-0.635 (+/-0.421) for {'gamma': 0.0001, 'kernel': 'rbf', 'tol': 1e-05}\n",
      "-0.677 (+/-0.470) for {'gamma': 'scale', 'kernel': 'rbf', 'tol': 0.01}\n",
      "-0.677 (+/-0.470) for {'gamma': 'scale', 'kernel': 'rbf', 'tol': 0.001}\n",
      "-0.677 (+/-0.470) for {'gamma': 'scale', 'kernel': 'rbf', 'tol': 0.0001}\n",
      "-0.677 (+/-0.470) for {'gamma': 'scale', 'kernel': 'rbf', 'tol': 1e-05}\n",
      "-1.034 (+/-0.642) for {'gamma': 0.001, 'kernel': 'sigmoid', 'tol': 0.01}\n",
      "-1.133 (+/-0.370) for {'gamma': 0.001, 'kernel': 'sigmoid', 'tol': 0.001}\n",
      "-0.875 (+/-0.581) for {'gamma': 0.001, 'kernel': 'sigmoid', 'tol': 0.0001}\n",
      "-1.121 (+/-0.576) for {'gamma': 0.001, 'kernel': 'sigmoid', 'tol': 1e-05}\n",
      "-0.983 (+/-0.611) for {'gamma': 0.0001, 'kernel': 'sigmoid', 'tol': 0.01}\n",
      "-1.071 (+/-0.406) for {'gamma': 0.0001, 'kernel': 'sigmoid', 'tol': 0.001}\n",
      "-1.121 (+/-0.474) for {'gamma': 0.0001, 'kernel': 'sigmoid', 'tol': 0.0001}\n",
      "-0.847 (+/-0.443) for {'gamma': 0.0001, 'kernel': 'sigmoid', 'tol': 1e-05}\n",
      "-0.736 (+/-0.658) for {'gamma': 'scale', 'kernel': 'sigmoid', 'tol': 0.01}\n",
      "-0.736 (+/-0.658) for {'gamma': 'scale', 'kernel': 'sigmoid', 'tol': 0.001}\n",
      "-0.736 (+/-0.658) for {'gamma': 'scale', 'kernel': 'sigmoid', 'tol': 0.0001}\n",
      "-0.736 (+/-0.658) for {'gamma': 'scale', 'kernel': 'sigmoid', 'tol': 1e-05}\n"
     ]
    }
   ],
   "source": [
    "means = svr.cv_results_['mean_test_score']\n",
    "stds = svr.cv_results_['std_test_score']\n",
    "for mean, std, params in zip(means, stds, svr.cv_results_['params']):\n",
    "        print(\"%0.3f (+/-%0.03f) for %r\"\n",
    "              % (mean, std * 2, params))"
   ]
  },
  {
   "cell_type": "code",
   "execution_count": null,
   "id": "c606cc36-6d36-4875-9341-77471e183736",
   "metadata": {},
   "outputs": [],
   "source": []
  }
 ],
 "metadata": {
  "kernelspec": {
   "display_name": "Qiskit v0.29.0",
   "language": "python",
   "name": "python3"
  },
  "language_info": {
   "codemirror_mode": {
    "name": "ipython",
    "version": 3
   },
   "file_extension": ".py",
   "mimetype": "text/x-python",
   "name": "python",
   "nbconvert_exporter": "python",
   "pygments_lexer": "ipython3",
   "version": "3.8.10"
  },
  "widgets": {
   "application/vnd.jupyter.widget-state+json": {
    "state": {
     "0051c4d778614e3796f4f887a1f45a05": {
      "model_module": "@jupyter-widgets/controls",
      "model_module_version": "1.5.0",
      "model_name": "DescriptionStyleModel",
      "state": {
       "description_width": ""
      }
     },
     "03d28c2b0f1540bebd82121d3c4a1171": {
      "model_module": "@jupyter-widgets/base",
      "model_module_version": "1.2.0",
      "model_name": "LayoutModel",
      "state": {
       "width": "95px"
      }
     },
     "04d8a640d1d2488f92780cd08d070808": {
      "model_module": "@jupyter-widgets/controls",
      "model_module_version": "1.5.0",
      "model_name": "HTMLModel",
      "state": {
       "layout": "IPY_MODEL_621c2a9ef7084c8db105edf0447f7a67",
       "style": "IPY_MODEL_dc91e1fa538c44cbb994cb2cbb3b4ca6",
       "value": "<h5>Message</h5>"
      }
     },
     "069c9106312644a0acb921f84e3da452": {
      "model_module": "@jupyter-widgets/controls",
      "model_module_version": "1.5.0",
      "model_name": "HTMLModel",
      "state": {
       "layout": "IPY_MODEL_55937d7de2944e518b16d5fe28883871",
       "style": "IPY_MODEL_75d46cc4e17b4930a87cfee69f0b69ae",
       "value": "<h5>Backend</h5>"
      }
     },
     "14016f4c57cb42d4aac29dbfe67e9b90": {
      "model_module": "@jupyter-widgets/controls",
      "model_module_version": "1.5.0",
      "model_name": "ButtonModel",
      "state": {
       "button_style": "primary",
       "description": "Clear",
       "layout": "IPY_MODEL_ce2d27961f774698bea8c34d641a772c",
       "style": "IPY_MODEL_2a6da9f73ce24ed58ecfcd3994fef2af"
      }
     },
     "2a6da9f73ce24ed58ecfcd3994fef2af": {
      "model_module": "@jupyter-widgets/controls",
      "model_module_version": "1.5.0",
      "model_name": "ButtonStyleModel",
      "state": {}
     },
     "2f03702d45f44e6ea2547c655b81941c": {
      "model_module": "@jupyter-widgets/controls",
      "model_module_version": "1.5.0",
      "model_name": "HBoxModel",
      "state": {
       "children": [
        "IPY_MODEL_7d49611221764ad1903fa72b9cb014b1",
        "IPY_MODEL_069c9106312644a0acb921f84e3da452",
        "IPY_MODEL_c53f99d71ac04dc887ec2c6a79aecd86",
        "IPY_MODEL_9bb43276be9547c1845cb081752edd33",
        "IPY_MODEL_04d8a640d1d2488f92780cd08d070808"
       ],
       "layout": "IPY_MODEL_5097da7f9383422ba62005ced7525936"
      }
     },
     "5097da7f9383422ba62005ced7525936": {
      "model_module": "@jupyter-widgets/base",
      "model_module_version": "1.2.0",
      "model_name": "LayoutModel",
      "state": {
       "margin": "0px 0px 0px 37px",
       "width": "600px"
      }
     },
     "55937d7de2944e518b16d5fe28883871": {
      "model_module": "@jupyter-widgets/base",
      "model_module_version": "1.2.0",
      "model_name": "LayoutModel",
      "state": {
       "width": "145px"
      }
     },
     "59926b22cff04ae68be8e8f35509d5f8": {
      "model_module": "@jupyter-widgets/controls",
      "model_module_version": "1.5.0",
      "model_name": "DescriptionStyleModel",
      "state": {
       "description_width": ""
      }
     },
     "621c2a9ef7084c8db105edf0447f7a67": {
      "model_module": "@jupyter-widgets/base",
      "model_module_version": "1.2.0",
      "model_name": "LayoutModel",
      "state": {}
     },
     "63819da5253d4e9980517aa4ab867ef1": {
      "model_module": "@jupyter-widgets/controls",
      "model_module_version": "1.5.0",
      "model_name": "DescriptionStyleModel",
      "state": {
       "description_width": ""
      }
     },
     "6e4e47226593418fb8204c4b115cea70": {
      "model_module": "@jupyter-widgets/base",
      "model_module_version": "1.2.0",
      "model_name": "LayoutModel",
      "state": {
       "grid_template_areas": "\n                                       \". . . . right \"\n                                        ",
       "grid_template_columns": "20% 20% 20% 20% 20%",
       "width": "100%"
      }
     },
     "7280afc527014f42bcd34f5f95117dc2": {
      "model_module": "@jupyter-widgets/controls",
      "model_module_version": "1.5.0",
      "model_name": "DescriptionStyleModel",
      "state": {
       "description_width": ""
      }
     },
     "75d46cc4e17b4930a87cfee69f0b69ae": {
      "model_module": "@jupyter-widgets/controls",
      "model_module_version": "1.5.0",
      "model_name": "DescriptionStyleModel",
      "state": {
       "description_width": ""
      }
     },
     "7c0c0feceec44274be05ca388c573518": {
      "model_module": "@jupyter-widgets/base",
      "model_module_version": "1.2.0",
      "model_name": "LayoutModel",
      "state": {
       "width": "70px"
      }
     },
     "7d0aa7fe8d664457b1560b38d8ed053a": {
      "model_module": "@jupyter-widgets/controls",
      "model_module_version": "1.5.0",
      "model_name": "HTMLModel",
      "state": {
       "layout": "IPY_MODEL_cc0b6f387e6c4f85ae76a932b3a81c42",
       "style": "IPY_MODEL_59926b22cff04ae68be8e8f35509d5f8",
       "value": "<p style='font-family: IBM Plex Sans, Arial, Helvetica, sans-serif; font-size: 20px; font-weight: medium;'>Circuit Properties</p>"
      }
     },
     "7d49611221764ad1903fa72b9cb014b1": {
      "model_module": "@jupyter-widgets/controls",
      "model_module_version": "1.5.0",
      "model_name": "HTMLModel",
      "state": {
       "layout": "IPY_MODEL_dd00d1802a674e64ae310b9085914bba",
       "style": "IPY_MODEL_7280afc527014f42bcd34f5f95117dc2",
       "value": "<h5>Job ID</h5>"
      }
     },
     "8d75ad2786e746298a436145cb00e2a6": {
      "model_module": "@jupyter-widgets/controls",
      "model_module_version": "1.5.0",
      "model_name": "GridBoxModel",
      "state": {
       "children": [
        "IPY_MODEL_14016f4c57cb42d4aac29dbfe67e9b90"
       ],
       "layout": "IPY_MODEL_6e4e47226593418fb8204c4b115cea70"
      }
     },
     "9bb43276be9547c1845cb081752edd33": {
      "model_module": "@jupyter-widgets/controls",
      "model_module_version": "1.5.0",
      "model_name": "HTMLModel",
      "state": {
       "layout": "IPY_MODEL_7c0c0feceec44274be05ca388c573518",
       "style": "IPY_MODEL_0051c4d778614e3796f4f887a1f45a05",
       "value": "<h5>Queue</h5>"
      }
     },
     "c53f99d71ac04dc887ec2c6a79aecd86": {
      "model_module": "@jupyter-widgets/controls",
      "model_module_version": "1.5.0",
      "model_name": "HTMLModel",
      "state": {
       "layout": "IPY_MODEL_03d28c2b0f1540bebd82121d3c4a1171",
       "style": "IPY_MODEL_63819da5253d4e9980517aa4ab867ef1",
       "value": "<h5>Status</h5>"
      }
     },
     "cc0b6f387e6c4f85ae76a932b3a81c42": {
      "model_module": "@jupyter-widgets/base",
      "model_module_version": "1.2.0",
      "model_name": "LayoutModel",
      "state": {
       "margin": "0px 0px 10px 0px"
      }
     },
     "ce2d27961f774698bea8c34d641a772c": {
      "model_module": "@jupyter-widgets/base",
      "model_module_version": "1.2.0",
      "model_name": "LayoutModel",
      "state": {
       "grid_area": "right",
       "padding": "0px 0px 0px 0px",
       "width": "70px"
      }
     },
     "dc91e1fa538c44cbb994cb2cbb3b4ca6": {
      "model_module": "@jupyter-widgets/controls",
      "model_module_version": "1.5.0",
      "model_name": "DescriptionStyleModel",
      "state": {
       "description_width": ""
      }
     },
     "dd00d1802a674e64ae310b9085914bba": {
      "model_module": "@jupyter-widgets/base",
      "model_module_version": "1.2.0",
      "model_name": "LayoutModel",
      "state": {
       "width": "190px"
      }
     }
    },
    "version_major": 2,
    "version_minor": 0
   }
  }
 },
 "nbformat": 4,
 "nbformat_minor": 5
}
